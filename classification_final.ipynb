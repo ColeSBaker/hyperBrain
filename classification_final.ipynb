{
 "cells": [
  {
   "cell_type": "code",
   "execution_count": 2,
   "id": "bc99e2a7",
   "metadata": {},
   "outputs": [
    {
     "name": "stdout",
     "output_type": "stream",
     "text": [
      "imported utils\n"
     ]
    }
   ],
   "source": [
    "import numpy as np\n",
    "import pandas as pd\n",
    "%load_ext autoreload\n",
    "%autoreload 2\n",
    "%reload_ext autoreload\n",
    "from utils.embedding_utils import *\n",
    "from utils.classifier_utils import *\n",
    "from classifiers.CustomClassifiers import AggregateClassifier,AggregateClassifierGrid\n",
    "from itertools import combinations"
   ]
  },
  {
   "cell_type": "code",
   "execution_count": 3,
   "id": "de7c0611",
   "metadata": {},
   "outputs": [],
   "source": [
    "embedding_dir=os.path.join(os.getcwd(),'outputs',\"stats\",\"main_54\")\n",
    "full_stat_df=pd.read_csv(os.path.join(embedding_dir,\"embedding_stats_avg5.csv\"))\n",
    "output_dir=os.path.join(embedding_dir,\"stat_analysis\")"
   ]
  },
  {
   "cell_type": "code",
   "execution_count": 24,
   "id": "6559521d",
   "metadata": {},
   "outputs": [],
   "source": [
    "def run_embedding_classiciation(stat_df,X_weight,use_prob=True,min_combos=3,\n",
    "                                max_combos=4,skip_w=True,pred_col='diagnosis',conditionals=[],data_names=['W','rad','btw','coh']):\n",
    "    graph_labels = stat_df[pred_col].values\n",
    "#     data_names=['rad','btw','coh']\n",
    "    features=[]\n",
    "    for n in data_names:\n",
    "        if n in ['rad','btw','coh']:\n",
    "            cols_to_use=[c for c in stat_df.columns if n in c.lower()]\n",
    "            if use_prob:\n",
    "                cols_to_use=[c for c in cols_to_use if 'prob' in c.lower()]\n",
    "            else:\n",
    "                cols_to_use=[c for c in cols_to_use if 'prob' not in c.lower()]\n",
    "            n_df=np.array(stat_df[cols_to_use])\n",
    "            data,y_comb,pat_to_indx=combine_patient_feats(n_df,graph_labels,stat_df,conditional=conditionals)\n",
    "            print(n_df,'NF')\n",
    "        else:\n",
    "            n_df=X_weight\n",
    "            data,y_comb,pat_to_indx=combine_patient_feats(n_df,graph_labels,stat_df,conditional=conditionals)\n",
    "            Wa=data\n",
    "            \n",
    "            \n",
    "#         data,y_comb,pat_to_indx=combine_patient_feats(n_df,graph_labels,stat_df,conditional=conditionals)\n",
    "        features.append(data)\n",
    "        \n",
    "    \n",
    "        \n",
    "\n",
    "#     Wa=X_weight_comb\n",
    "#     names=['W','X_rc','X_bc','X_wc']\n",
    "    indices=np.array([i for i in range(len(data_names))])\n",
    "    feature_combinations=[]\n",
    "    name_combinations=[]\n",
    "    list_combinations = list()\n",
    "\n",
    "    for n in range(min_combos,max_combos+1):\n",
    "        for combo in combinations(indices, n):\n",
    "            print(combo)\n",
    "            feat_list=[features[i] for i in combo]\n",
    "            name_list=[data_names[i] for i in combo]\n",
    "            print(name_list)\n",
    "            feat_combines=np.hstack(feat_list)\n",
    "            print(feat_combines.shape)\n",
    "            feature_combinations.append(feat_combines)\n",
    "            name_combinations.append(name_list)\n",
    "\n",
    "    if not skip_w:\n",
    "        feature_combinations=[Wa]+feature_combinations\n",
    "        name_combinations=[['W']]+name_combinations\n",
    "        \n",
    "    return feature_combinations,name_combinations,y_comb\n",
    "    "
   ]
  },
  {
   "cell_type": "code",
   "execution_count": 5,
   "id": "912d0d3d",
   "metadata": {},
   "outputs": [],
   "source": [
    "conditionals = ((full_stat_df['CogTr']==1))\n",
    "fit_method='concatenate'\n",
    "predict_method='same'\n",
    "# run_combos_list(model_type=LogisticRegression,names=name_combinations,\n",
    "#                 feature_list=feature_combinations,times=1,\n",
    "#                 use_agg=True,agg_fit=fit_method,agg_pred=predict_method,y_comb=y_comb)  \n"
   ]
  },
  {
   "cell_type": "code",
   "execution_count": 6,
   "id": "d863f4cb",
   "metadata": {},
   "outputs": [],
   "source": [
    "import argparse\n",
    "parser = argparse.ArgumentParser(description='RiemannianGNN')\n",
    "args, _ = parser.parse_known_args()\n",
    "MEGLpParams.add_params(parser)\n",
    "args = parser.parse_args(args=[])"
   ]
  },
  {
   "cell_type": "code",
   "execution_count": 7,
   "id": "ebca9ae0",
   "metadata": {},
   "outputs": [],
   "source": [
    "BAND_TO_INDEX = {'theta':0,'alpha':1,'beta1':2,'beta2':3,'beta':4,'gamma':5}\n",
    "METRIC_TO_INDEX = {'plv':0,'ciplv':1}\n",
    "\n",
    "\n",
    "band_adj = BAND_TO_INDEX['alpha']\n",
    "metric_adj = METRIC_TO_INDEX[args.metric]\n",
    "raw_scans = np.load(args.raw_scan_file)\n",
    "scan_data = raw_scans[:,band_adj,metric_adj] ### this is not changed by any hyperparamters\n",
    "\n",
    "graph_ids = full_stat_df['Scan Index'].values\n",
    "scan_data = raw_scans[:,band_adj,metric_adj] ### this is not changed by any hyperparamters\n",
    "train_scans = scan_data[graph_ids.astype(int) ]\n",
    "X_weight = np.array([a[np.triu_indices(a.shape[0])] for a in train_scans])"
   ]
  },
  {
   "cell_type": "code",
   "execution_count": 25,
   "id": "2133a1c8",
   "metadata": {
    "scrolled": true
   },
   "outputs": [
    {
     "name": "stdout",
     "output_type": "stream",
     "text": [
      "conditational\n",
      "0       True\n",
      "1       True\n",
      "2       True\n",
      "3       True\n",
      "4       True\n",
      "       ...  \n",
      "175    False\n",
      "176    False\n",
      "177    False\n",
      "178    False\n",
      "179    False\n",
      "Name: CogTr, Length: 180, dtype: bool\n",
      "NO SHUFFLE\n",
      "conditational\n",
      "0       True\n",
      "1       True\n",
      "2       True\n",
      "3       True\n",
      "4       True\n",
      "       ...  \n",
      "175    False\n",
      "176    False\n",
      "177    False\n",
      "178    False\n",
      "179    False\n",
      "Name: CogTr, Length: 180, dtype: bool\n",
      "NO SHUFFLE\n",
      "[[1.14856664 2.0953061  2.18031072 ... 2.05160935 1.42537626 2.26457091]\n",
      " [1.12309426 2.06000353 2.21085388 ... 2.09441905 1.45372466 2.33475558]\n",
      " [1.21732124 1.98617806 2.04157465 ... 1.89624364 1.33290461 1.99036129]\n",
      " ...\n",
      " [1.19672428 2.10935528 2.21695379 ... 2.04229307 1.52801455 2.00044454]\n",
      " [1.30283475 1.89239307 1.91787272 ... 1.98593059 1.42585129 1.99628657]\n",
      " [1.29968796 1.78858962 1.84196672 ... 1.9000061  1.39210995 1.90546139]] NF\n",
      "(0,)\n",
      "['W']\n",
      "(46, 4095, 2)\n",
      "(1,)\n",
      "['rad']\n",
      "(46, 8, 2)\n",
      "(0, 1)\n",
      "['W', 'rad']\n",
      "(46, 4103, 2)\n"
     ]
    }
   ],
   "source": [
    "\n",
    "feature_combinations,name_combinations,y_comb=run_embedding_classiciation(full_stat_df,X_weight,skip_w=True,\n",
    "                                                use_prob=False,min_combos=1,max_combos=2,conditionals=conditionals,data_names=['W','rad'])"
   ]
  },
  {
   "cell_type": "code",
   "execution_count": null,
   "id": "07c204c1",
   "metadata": {
    "scrolled": true
   },
   "outputs": [
    {
     "name": "stdout",
     "output_type": "stream",
     "text": [
      "0.6558648018648019 50 num_split?\n",
      "{'C': 100, 'class_weight': 'balanced', 'gamma': 0.1, 'kernel': 'rbf'} BEST PARAMS??\n",
      "\n",
      "NEW!\n",
      "[1 2 2 2 1 1 1 1 2 1 2 1 2 1 1 1 1 1 1 2 1 1 2 2 1 2 2 2 1 1 2 2 2 2 2 2 1\n",
      " 2 2 2 2 1 2 2 1 1] EXAMPLE Y\n",
      "(46,) EXAMPLE Y\n",
      "(46, 4095, 2) new\n",
      "(46,) clone\n",
      "(46, 4095, 2)  X shape???sss\n",
      "LeaveOneOut()\n",
      "[1 2 2 2 1 1 1 1 2 1 2 1 2 1 1 1 1 1 1 2 1 1 2 2 1 2 2 2 1 1 2 2 2 2 2 2 1\n",
      " 2 2 2 2 1 2 2 1 1] YYY\n",
      "              precision    recall  f1-score   support\n",
      "\n",
      "           1       0.72      0.59      0.65        22\n",
      "           2       0.68      0.79      0.73        24\n",
      "\n",
      "    accuracy                           0.70        46\n",
      "   macro avg       0.70      0.69      0.69        46\n",
      "weighted avg       0.70      0.70      0.69        46\n",
      "\n",
      "0.6956521739130435 accuracy\n",
      "0.678030303030303 roc\n",
      "(0.6903846153846154, 0.678030303030303) res\n"
     ]
    }
   ],
   "source": [
    "fit_method='use_second'\n",
    "predict_method='same'\n",
    "names,f1_means,roc_means = run_combos_list(model_type=SVC,names=name_combinations,\n",
    "                feature_list=feature_combinations,times=20,\n",
    "                use_agg=True,agg_fit=fit_method,\n",
    "                agg_pred=predict_method,y_comb=y_comb,use_nested=False)  \n",
    "# run_combos_list(model_type=SVC,names=name_combinations,\n",
    "#                 feature_list=feature_combinations,times=1,\n",
    "#                 use_agg=True,agg_fit=fit_method,\n",
    "#                 agg_pred=predict_method,y_comb=y_comb,use_nested=False)  "
   ]
  },
  {
   "cell_type": "code",
   "execution_count": 34,
   "id": "521f763b",
   "metadata": {},
   "outputs": [
    {
     "data": {
      "image/png": "[encoded data removed]",
      "text/plain": [
       "<Figure size 800x550 with 1 Axes>"
      ]
     },
     "metadata": {},
     "output_type": "display_data"
    }
   ],
   "source": [
    "start=0\n",
    "ax = plt.gca()\n",
    "\n",
    "class_scores_raw=np.array([f1_means[0], roc_means[0]])[start:]\n",
    "# class_scores_raw=np.array([.651, .73])[start:]\n",
    "class_scores_emb=np.array([f1_means[1], roc_means[1]])[start:]\n",
    "class_scores_comb=np.array([f1_means[2], roc_means[2]])[start:]\n",
    "# class_scores_comb=np.array([.737, .823])[start:]\n",
    "\n",
    "X = ['Macro F1', 'AUC-ROC'][start:]\n",
    "plt.style.use('default')\n",
    "plt.style.use('seaborn')\n",
    "\n",
    "# ax.set_facecolor(\"white\")\n",
    "  \n",
    "X_axis = np.arange(len(X))*.8\n",
    "  \n",
    "plt.bar(X_axis - 0.2,  class_scores_raw, 0.2, label = 'PLV Only')\n",
    "plt.bar(X_axis - 0, class_scores_emb, 0.2, label = 'Embedding Features')\n",
    "plt.bar(X_axis +.2,  class_scores_comb, 0.2, label = 'PLV + Embedding Features')\n",
    "\n",
    "\n",
    "for i in range(len(class_scores_raw)):\n",
    "    x_i=X_axis[i]\n",
    "    score=class_scores_raw[i]\n",
    "    plt.text(x_i-.25, score+0.01, str(np.round(score, 2)), fontweight='bold')\n",
    "for i, score in enumerate(class_scores_emb):\n",
    "    x_i=X_axis[i]\n",
    "    score=class_scores_emb[i]\n",
    "    plt.text(x_i-.05, score+0.01, str(np.round(score, 2)), fontweight='bold')\n",
    "for i, score in enumerate(class_scores_comb):\n",
    "    x_i=X_axis[i]\n",
    "    score=class_scores_comb[i]\n",
    "    plt.text(x_i+.15, score+0.01, str(np.round(score, 2)), fontweight='bold')\n",
    "    \n",
    "# plt.text(.47, roc_scores_rawstack[0]+0.01, str(np.round( roc_scores_rawstack[0], 2)), fontweight='bold')\n",
    "    \n",
    "# plt.text(0,)\n",
    "plt.xticks(X_axis, X,fontsize=18)\n",
    "plt.yticks(fontsize=14)\n",
    "# plt.xlabel(\"# Dimensions\")\n",
    "plt.ylabel(\"Classification Scores\",fontsize=14)\n",
    "plt.title(\"Disease Classification\", fontsize=20)\n",
    "ax = plt.gca()\n",
    "ax.set_ylim(ymin=.5,ymax=1)\n",
    "plt.legend(fontsize=14)\n",
    "# plt.savefig(os.path.join(plot_save_dir,'classification_probs'))\n",
    "plt.show()"
   ]
  }
 ],
 "metadata": {
  "kernelspec": {
   "display_name": "Python 3 (ipykernel)",
   "language": "python",
   "name": "python3"
  },
  "language_info": {
   "codemirror_mode": {
    "name": "ipython",
    "version": 3
   },
   "file_extension": ".py",
   "mimetype": "text/x-python",
   "name": "python",
   "nbconvert_exporter": "python",
   "pygments_lexer": "ipython3",
   "version": "3.7.12"
  }
 },
 "nbformat": 4,
 "nbformat_minor": 5
}
