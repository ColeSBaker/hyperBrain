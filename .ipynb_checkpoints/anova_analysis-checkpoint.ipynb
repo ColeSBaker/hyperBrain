{
 "cells": [
  {
   "cell_type": "code",
   "execution_count": 1,
   "id": "3c91634b",
   "metadata": {},
   "outputs": [],
   "source": [
    "import numpy as np\n",
    "import pandas as pd\n",
    "import argparse\n",
    "from datetime import datetime\n",
    "import random\n",
    "import os\n",
    "%matplotlib inline\n",
    "import matplotlib.pyplot as plt\n",
    "from matplotlib import patches as mpatches\n",
    "plt.style.use('seaborn')\n",
    "import seaborn as sns\n",
    "import time\n",
    "import sys\n",
    "import os\n",
    "import scipy.stats as st\n",
    "# from statsmodels.stats.weightstats import DescrStatsW\n",
    "# import modules within repository\n",
    "# from copy import deepcopy\n",
    "%load_ext autoreload\n",
    "%autoreload 2\n",
    "%reload_ext autoreload\n",
    "import warnings\n",
    "warnings.filterwarnings('ignore');\n",
    "\n",
    "# display multiple outputs within a cell\n",
    "from IPython.core.interactiveshell import InteractiveShell\n",
    "InteractiveShell.ast_node_interactivity = \"all\";"
   ]
  },
  {
   "cell_type": "code",
   "execution_count": 6,
   "id": "373d59df",
   "metadata": {},
   "outputs": [
    {
     "name": "stdout",
     "output_type": "stream",
     "text": [
      "The autoreload extension is already loaded. To reload it, use:\n",
      "  %reload_ext autoreload\n"
     ]
    }
   ],
   "source": [
    "%load_ext autoreload\n",
    "%autoreload 2\n",
    "# from params import MEGLpParams\n",
    "from scipy import stats\n",
    "from utils.stat_utils import metric_analysis,slice_metric_df"
   ]
  },
  {
   "cell_type": "code",
   "execution_count": null,
   "id": "bd14cde6",
   "metadata": {},
   "outputs": [],
   "source": []
  },
  {
   "cell_type": "code",
   "execution_count": 7,
   "id": "d91f83d1",
   "metadata": {},
   "outputs": [],
   "source": [
    "# %reload_ext autoreload\n",
    "# parser = argparse.ArgumentParser(description='RiemannianGNN')\n",
    "# args, _ = parser.parse_known_args()\n",
    "# MEGLpParams.add_params(parser)\n",
    "# args = parser.parse_args(args=[])"
   ]
  },
  {
   "cell_type": "code",
   "execution_count": 4,
   "id": "98401920",
   "metadata": {
    "scrolled": true
   },
   "outputs": [],
   "source": [
    "embedding_dir=os.path.join(os.getcwd(),'outputs',\"stats\",\"main_54\")\n",
    "full_stat_df=pd.read_csv(os.path.join(embedding_dir,\"embedding_stats_avg5.csv\"))\n",
    "output_dir=os.path.join(embedding_dir,\"stat_analysis\")"
   ]
  },
  {
   "cell_type": "code",
   "execution_count": 5,
   "id": "fe6b101f",
   "metadata": {},
   "outputs": [
    {
     "ename": "NameError",
     "evalue": "name 'model' is not defined",
     "output_type": "error",
     "traceback": [
      "\u001b[1;31m---------------------------------------------------------------------------\u001b[0m",
      "\u001b[1;31mNameError\u001b[0m                                 Traceback (most recent call last)",
      "\u001b[1;32m~\\AppData\\Local\\Temp\\ipykernel_20952\\1601645377.py\u001b[0m in \u001b[0;36m<module>\u001b[1;34m\u001b[0m\n\u001b[1;32m----> 1\u001b[1;33m \u001b[0mall_scan_ids\u001b[0m\u001b[1;33m=\u001b[0m\u001b[0mset\u001b[0m\u001b[1;33m(\u001b[0m\u001b[1;33m[\u001b[0m\u001b[0mint\u001b[0m\u001b[1;33m(\u001b[0m\u001b[0ms\u001b[0m\u001b[1;33m)\u001b[0m \u001b[1;32mfor\u001b[0m \u001b[0ms\u001b[0m \u001b[1;32min\u001b[0m \u001b[0mmodel\u001b[0m\u001b[1;33m.\u001b[0m\u001b[0margs\u001b[0m\u001b[1;33m.\u001b[0m\u001b[0midxs_dict\u001b[0m\u001b[1;33m[\u001b[0m\u001b[1;34m'all'\u001b[0m\u001b[1;33m]\u001b[0m\u001b[1;33m]\u001b[0m\u001b[1;33m)\u001b[0m\u001b[1;33m\u001b[0m\u001b[1;33m\u001b[0m\u001b[0m\n\u001b[0m\u001b[0;32m      2\u001b[0m \u001b[0mclinical_df_subset\u001b[0m\u001b[1;33m=\u001b[0m\u001b[0mclinical_df\u001b[0m\u001b[1;33m[\u001b[0m\u001b[0mclinical_df\u001b[0m\u001b[1;33m[\u001b[0m\u001b[1;34m'Scan Index'\u001b[0m\u001b[1;33m]\u001b[0m\u001b[1;33m.\u001b[0m\u001b[0misin\u001b[0m\u001b[1;33m(\u001b[0m\u001b[0mall_scan_ids\u001b[0m\u001b[1;33m)\u001b[0m\u001b[1;33m]\u001b[0m\u001b[1;33m\u001b[0m\u001b[1;33m\u001b[0m\u001b[0m\n",
      "\u001b[1;31mNameError\u001b[0m: name 'model' is not defined"
     ]
    }
   ],
   "source": [
    "all_scan_ids=set([int(s) for s in model.args.idxs_dict['all']])\n",
    "clinical_df_subset=clinical_df[clinical_df['Scan Index'].isin(all_scan_ids)]"
   ]
  },
  {
   "cell_type": "code",
   "execution_count": 26,
   "id": "ac54dc6a",
   "metadata": {},
   "outputs": [],
   "source": [
    "# def digest_stat_df(stat_df,stat_type,prob=False):\n",
    "#     print(c for c in stat_df.columns)\n",
    "    \n",
    "#     cols_to_use=[c for c in stat_df.columns if stat_type.lower() in c.lower()]\n",
    "#     if prob:\n",
    "#         cols_to_use=[c for c in cols_to_use if 'prob' in c.lower()]\n",
    "#     else:\n",
    "#         cols_to_use=[c for c in cols_to_use if 'prob' not in c.lower()]\n",
    "#     return np.array(stat_df[cols_to_use]),cols_to_use\n",
    "\n",
    "# def slice_metric_df(stat_df_full,label_col,conditionals,title='',plot_save_path='',df_save_path=''):\n",
    "#     conditional_df=stat_df_full[conditionals]\n",
    "#     if len(conditional_df['ID'].unique())*2<=len(conditional_df['ID']):\n",
    "#         repeated=True\n",
    "#     else:\n",
    "#         repeated=False\n",
    "#     print(conditional_df.shape,'CONDITIONAL DF')\n",
    "#     scan_labels = conditional_df[label_col].values\n",
    "#     print(scan_labels,\"SCAN LABELS\")\n",
    "#     print(conditional_df['ID'],'ID LABELS')\n",
    "    \n",
    "#     if min(scan_labels)>0:\n",
    "#         scan_labels=scan_labels-1  \n",
    "        \n",
    "#     if label_col in ('diagnosis','diagnosis_inv'):\n",
    "#         group_labels = ['Healthy Control', 'SCD']\n",
    "#     elif label_col == 'CogTr':\n",
    "#         # group_labels=['Control','CogTr']\n",
    "#         group_labels=['CogTr','Control']\n",
    "#     elif label_col == 'Pre':\n",
    "#         group_labels=['Post','Pre']\n",
    "#     else:\n",
    "#         raise Exception('Unknown metric col: {}'.format(metric_col))\n",
    "        \n",
    "#     cluster_labels=[\"pDMN\",\"aDMN\",\"DAN\",\"FPN\",\"VN\",\"VAN\",\"SN\",\"SMN\"]\n",
    "        \n",
    "#     rc,rc_labels=digest_stat_df(conditional_df,stat_type='rad')\n",
    "#     wc,wc_labels=digest_stat_df(conditional_df,stat_type='coh')\n",
    "#     bc,bc_labels=digest_stat_df(conditional_df,stat_type='btw')\n",
    "    \n",
    "#     age=np.array(conditional_df[['age']])\n",
    "#     wc=wc.astype(float)\n",
    "\n",
    "#     val_col=np.array(stat_df_full[label_col])\n",
    "#     val_col=val_col-val_col.min()\n",
    "# #     print(val_col,'val col')\n",
    "# #     print(scan_labels,'graph met')\n",
    "# #     assert np.sum(np.abs((val_col-scan_labels)))==0\n",
    "# #     print('ALL EQUAL!')\n",
    "\n",
    "#     print(wc_labels,'WC LABELS')\n",
    "\n",
    "# #     metric_analysis(wc,cluster_labels,scan_labels,column_name=label_col,y_axis=['Cluster Cohesion'],plot_title=title,\n",
    "# #                     plot_save_path=plot_save_path+'_C',\n",
    "# #                     graph_label_names=group_labels,sort_vals=True,max_plot=8,clinical_df=conditional_df)\n",
    "#     print('rad')\n",
    "    \n",
    "#     print(label_col,'label col')\n",
    "\n",
    "#     if repeated:\n",
    "#         metric_analysis(rc,cluster_labels, scan_labels,column_name=label_col,y_axis=['Cluster Radius from Origin'],\n",
    "#                     analyze_time=True,\n",
    "#                     plot_save_path=plot_save_path+'_R_time',df_save_path=df_save_path+'R.csv',\n",
    "#                     plot_title=title,graph_label_names=group_labels,sort_vals=True,max_plot=8,clinical_df=conditional_df)\n",
    "#     else:\n",
    "#         metric_analysis(rc,cluster_labels, scan_labels,column_name=label_col,y_axis=['Cluster Radius from Origin'],\n",
    "#                         plot_save_path=plot_save_path+'_R',df_save_path=df_save_path+'R.csv',\n",
    "#                         plot_title=title,graph_label_names=group_labels,sort_vals=True,max_plot=8,clinical_df=conditional_df)\n",
    "# #     print('btw clust')\n",
    "# #     metric_analysis(bc,bc_labels,scan_labels,y_axis=['Dist Btw Clusters'],column_name=['Dist Btw Clusters'],\n",
    "# #                     plot_save_path=plot_save_path+'_D',\n",
    "# #                     plot_title=title,graph_label_names=group_labels,sort_vals=True,max_plot=6,clinical_df=conditional_df)\n",
    "# #     metric_analysis(age,['age'], scan_labels,column_name=label_col,y_axis=['age'],\n",
    "# #                     plot_save_path=plot_save_path+'_A',df_save_path=df_save_path+'A.csv',\n",
    "# #                     plot_title=title,graph_label_names=group_labels,sort_vals=True,max_plot=1,clinical_df=conditional_df)\n",
    "\n",
    "    "
   ]
  },
  {
   "cell_type": "code",
   "execution_count": 6,
   "id": "fbeb9bcc",
   "metadata": {},
   "outputs": [],
   "source": [
    "title_dict={'diagnosis':{1:'HC Group',2:'SCD Group',10:'All patients'},\n",
    " 'CogTr':{1:'the Training Group',2:'No Training Group',10:'All patients'},\n",
    "            'Pre':{0:'Second Scan',1:'First Scan',2:'Both Scans (Mixed Model)'}}"
   ]
  },
  {
   "cell_type": "code",
   "execution_count": 7,
   "id": "2ceb8362",
   "metadata": {},
   "outputs": [],
   "source": [
    "def run_all_slices_diagnosis(stat_df,title_dict,output_dir=''):\n",
    "    clinical_df=stat_df\n",
    "    print(output_dir,'OUTPUT')\n",
    "    if not os.path.exists(output_dir):\n",
    "        os.mkdir(output_dir)\n",
    "    output_plot_dir=os.path.join(output_dir,'plots')\n",
    "    output_df_dir=os.path.join(output_dir,'dfs')\n",
    "    if not os.path.exists(output_plot_dir):\n",
    "        os.mkdir(output_plot_dir)\n",
    "    if not os.path.exists(output_df_dir):\n",
    "        os.mkdir(output_df_dir)\n",
    "        \n",
    "    for train_val,train_title in title_dict['CogTr'].items():\n",
    "        for pre_val,pre_title in title_dict['Pre'].items():\n",
    "            train_title=title_dict['CogTr'][train_val]\n",
    "            print(train_val,pre_title)\n",
    "            \n",
    "            if pre_val<=1 and train_val<=2:\n",
    "                conditionals=((clinical_df['CogTr']==train_val) & (clinical_df['Pre']==pre_val))\n",
    "#                 print(conditionals.shape,'DOUBLE TROUBL')\n",
    "                \n",
    "#                 sjsjs\n",
    "            elif pre_val>1 and train_val<=2:\n",
    "                conditionals=((clinical_df['CogTr']==train_val))\n",
    "                print('both scans!!')\n",
    "                print(conditionals.shape,'!!')\n",
    "            elif pre_val<=1 and train_val>2:\n",
    "                conditionals=((clinical_df['Pre']==pre_val))\n",
    "            elif pre_val>1 and train_val>2:\n",
    "                conditionals=((clinical_df['CogTr']<20))\n",
    "            title='{} of {}'.format(pre_title,train_title)\n",
    "            print(title,'title')\n",
    "            plot_save_path=os.path.join(output_plot_dir,'CG{}_PRE{}'.format(train_val,pre_val))\n",
    "            df_save_path=os.path.join(output_df_dir,'CG{}_PRE{}'.format(train_val,pre_val))\n",
    "            slice_metric_df(stat_df,label_col='diagnosis',conditionals =conditionals,\n",
    "                            title=title,plot_save_path=plot_save_path,df_save_path=df_save_path)"
   ]
  },
  {
   "cell_type": "code",
   "execution_count": 8,
   "id": "4a97b2c9",
   "metadata": {},
   "outputs": [],
   "source": [
    "def run_all_slices_training(stat_df,title_dict,output_dir=''):\n",
    "    clinical_df=stat_df\n",
    "    if not os.path.exists(output_dir):\n",
    "        os.makedirs(output_dir)\n",
    "    output_plot_dir=os.path.join(output_dir,'plots')\n",
    "    output_df_dir=os.path.join(output_dir,'dfs')\n",
    "    if not os.path.exists(output_plot_dir):\n",
    "        os.mkdir(output_plot_dir)\n",
    "    if not os.path.exists(output_df_dir):\n",
    "        os.mkdir(output_df_dir)\n",
    "        \n",
    "    for diag_val,diag_title in title_dict['diagnosis'].items():\n",
    "        for pre_val,pre_title in title_dict['Pre'].items():\n",
    "            print(diag_val,pre_title)\n",
    "            \n",
    "            if pre_val<=1 and diag_val<=2:\n",
    "                conditionals=((clinical_df['diagnosis']==diag_val) & (clinical_df['Pre']==pre_val))\n",
    "#                 print(conditionals.shape,'DOUBLE TROUBL')\n",
    "                \n",
    "#                 sjsjs\n",
    "            elif pre_val>1 and diag_val<=2:\n",
    "                conditionals=((clinical_df['diagnosis']==diag_val))\n",
    "                print('both scans!!')\n",
    "                print(conditionals.shape,'!!')\n",
    "            elif pre_val<=1 and diag_val>2:\n",
    "                conditionals=((clinical_df['Pre']==pre_val))\n",
    "            elif pre_val>1 and diag_val>2:\n",
    "                conditionals=((clinical_df['diagnosis']<20))\n",
    "            title='{} of {}'.format(pre_title,diag_title)\n",
    "#             output_path=os.path.join(output_dir,'D{}_PRE{}'.format(diag_val,pre_val))\n",
    "\n",
    "            plot_save_path=os.path.join(output_plot_dir,'D{}_PRE{}'.format(diag_val,pre_val))\n",
    "            df_save_path=os.path.join(output_df_dir,'D{}_PRE{}'.format(diag_val,pre_val))\n",
    "            slice_metric_df(stat_df,label_col='CogTr',conditionals =conditionals,\n",
    "                            title=title,plot_save_path=plot_save_path,df_save_path=df_save_path)"
   ]
  },
  {
   "cell_type": "code",
   "execution_count": 9,
   "id": "b2c7a23f",
   "metadata": {},
   "outputs": [
    {
     "name": "stdout",
     "output_type": "stream",
     "text": [
      "C:\\Users\\coleb\\OneDrive\\Desktop\\Fall 2021\\Neuro\\hyperBrain\\outputs\\stats\\main_54\\stat_analysis OUTPUT\n",
      "1 Second Scan\n",
      "Second Scan of the Training Group title\n"
     ]
    },
    {
     "ename": "NameError",
     "evalue": "name 'slice_metric_df' is not defined",
     "output_type": "error",
     "traceback": [
      "\u001b[1;31m---------------------------------------------------------------------------\u001b[0m",
      "\u001b[1;31mNameError\u001b[0m                                 Traceback (most recent call last)",
      "\u001b[1;32m~\\AppData\\Local\\Temp\\ipykernel_20952\\3718152234.py\u001b[0m in \u001b[0;36m<module>\u001b[1;34m\u001b[0m\n\u001b[1;32m----> 1\u001b[1;33m \u001b[0mrun_all_slices_diagnosis\u001b[0m\u001b[1;33m(\u001b[0m\u001b[0mfull_stat_df\u001b[0m\u001b[1;33m,\u001b[0m\u001b[0mtitle_dict\u001b[0m\u001b[1;33m,\u001b[0m\u001b[0moutput_dir\u001b[0m\u001b[1;33m)\u001b[0m\u001b[1;33m\u001b[0m\u001b[1;33m\u001b[0m\u001b[0m\n\u001b[0m",
      "\u001b[1;32m~\\AppData\\Local\\Temp\\ipykernel_20952\\3685842656.py\u001b[0m in \u001b[0;36mrun_all_slices_diagnosis\u001b[1;34m(stat_df, title_dict, output_dir)\u001b[0m\n\u001b[0;32m     33\u001b[0m             \u001b[0mplot_save_path\u001b[0m\u001b[1;33m=\u001b[0m\u001b[0mos\u001b[0m\u001b[1;33m.\u001b[0m\u001b[0mpath\u001b[0m\u001b[1;33m.\u001b[0m\u001b[0mjoin\u001b[0m\u001b[1;33m(\u001b[0m\u001b[0moutput_plot_dir\u001b[0m\u001b[1;33m,\u001b[0m\u001b[1;34m'CG{}_PRE{}'\u001b[0m\u001b[1;33m.\u001b[0m\u001b[0mformat\u001b[0m\u001b[1;33m(\u001b[0m\u001b[0mtrain_val\u001b[0m\u001b[1;33m,\u001b[0m\u001b[0mpre_val\u001b[0m\u001b[1;33m)\u001b[0m\u001b[1;33m)\u001b[0m\u001b[1;33m\u001b[0m\u001b[1;33m\u001b[0m\u001b[0m\n\u001b[0;32m     34\u001b[0m             \u001b[0mdf_save_path\u001b[0m\u001b[1;33m=\u001b[0m\u001b[0mos\u001b[0m\u001b[1;33m.\u001b[0m\u001b[0mpath\u001b[0m\u001b[1;33m.\u001b[0m\u001b[0mjoin\u001b[0m\u001b[1;33m(\u001b[0m\u001b[0moutput_df_dir\u001b[0m\u001b[1;33m,\u001b[0m\u001b[1;34m'CG{}_PRE{}'\u001b[0m\u001b[1;33m.\u001b[0m\u001b[0mformat\u001b[0m\u001b[1;33m(\u001b[0m\u001b[0mtrain_val\u001b[0m\u001b[1;33m,\u001b[0m\u001b[0mpre_val\u001b[0m\u001b[1;33m)\u001b[0m\u001b[1;33m)\u001b[0m\u001b[1;33m\u001b[0m\u001b[1;33m\u001b[0m\u001b[0m\n\u001b[1;32m---> 35\u001b[1;33m             slice_metric_df(stat_df,label_col='diagnosis',conditionals =conditionals,\n\u001b[0m\u001b[0;32m     36\u001b[0m                             title=title,plot_save_path=plot_save_path,df_save_path=df_save_path)\n",
      "\u001b[1;31mNameError\u001b[0m: name 'slice_metric_df' is not defined"
     ]
    }
   ],
   "source": [
    "run_all_slices_diagnosis(full_stat_df,title_dict,output_dir)"
   ]
  },
  {
   "cell_type": "code",
   "execution_count": 1,
   "id": "1a11b0a1",
   "metadata": {},
   "outputs": [
    {
     "ename": "NameError",
     "evalue": "name 'run_all_slices_training' is not defined",
     "output_type": "error",
     "traceback": [
      "\u001b[1;31m---------------------------------------------------------------------------\u001b[0m",
      "\u001b[1;31mNameError\u001b[0m                                 Traceback (most recent call last)",
      "\u001b[1;32m~\\AppData\\Local\\Temp\\ipykernel_14932\\309613798.py\u001b[0m in \u001b[0;36m<module>\u001b[1;34m\u001b[0m\n\u001b[1;32m----> 1\u001b[1;33m \u001b[0mrun_all_slices_training\u001b[0m\u001b[1;33m(\u001b[0m\u001b[0mfull_stat_df\u001b[0m\u001b[1;33m,\u001b[0m\u001b[0mtitle_dict\u001b[0m\u001b[1;33m,\u001b[0m\u001b[0moutput_dir\u001b[0m\u001b[1;33m)\u001b[0m\u001b[1;33m\u001b[0m\u001b[1;33m\u001b[0m\u001b[0m\n\u001b[0m",
      "\u001b[1;31mNameError\u001b[0m: name 'run_all_slices_training' is not defined"
     ]
    }
   ],
   "source": [
    "run_all_slices_training(full_stat_df,title_dict,output_dir)"
   ]
  },
  {
   "cell_type": "code",
   "execution_count": null,
   "id": "82e7fb99",
   "metadata": {},
   "outputs": [],
   "source": []
  }
 ],
 "metadata": {
  "kernelspec": {
   "display_name": "Python 3 (ipykernel)",
   "language": "python",
   "name": "python3"
  },
  "language_info": {
   "codemirror_mode": {
    "name": "ipython",
    "version": 3
   },
   "file_extension": ".py",
   "mimetype": "text/x-python",
   "name": "python",
   "nbconvert_exporter": "python",
   "pygments_lexer": "ipython3",
   "version": "3.7.12"
  }
 },
 "nbformat": 4,
 "nbformat_minor": 5
}
