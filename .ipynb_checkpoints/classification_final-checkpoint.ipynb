{
 "cells": [
  {
   "cell_type": "code",
   "execution_count": 45,
   "id": "bc99e2a7",
   "metadata": {},
   "outputs": [
    {
     "name": "stdout",
     "output_type": "stream",
     "text": [
      "The autoreload extension is already loaded. To reload it, use:\n",
      "  %reload_ext autoreload\n"
     ]
    }
   ],
   "source": [
    "import numpy as np\n",
    "import pandas as pd\n",
    "%load_ext autoreload\n",
    "%autoreload 2\n",
    "%reload_ext autoreload\n",
    "from utils.embedding_utils import *\n",
    "from classifiers.CustomClassifiers import AggregateClassifier,AggregateClassifierGrid\n",
    "from itertools import combinations"
   ]
  },
  {
   "cell_type": "code",
   "execution_count": 4,
   "id": "de7c0611",
   "metadata": {},
   "outputs": [],
   "source": [
    "embedding_dir=os.path.join(os.getcwd(),'outputs',\"stats\",\"main_54\")\n",
    "full_stat_df=pd.read_csv(os.path.join(embedding_dir,\"embedding_stats_avg5.csv\"))\n",
    "output_dir=os.path.join(embedding_dir,\"stat_analysis\")"
   ]
  },
  {
   "cell_type": "code",
   "execution_count": 78,
   "id": "6559521d",
   "metadata": {},
   "outputs": [],
   "source": [
    "def run_embedding_classiciation(stat_df,X_weight,use_prob=True,min_combos=3,\n",
    "                                max_combos=4,skip_w=True,pred_col='diagnosis',conditionals=[]):\n",
    "    graph_labels = stat_df[pred_col].values\n",
    "    data_names=['W','rad','btw','coh']\n",
    "#     data_names=['rad','btw','coh']\n",
    "    features=[]\n",
    "    for n in data_names:\n",
    "        if n in ['rad','btw','coh']:\n",
    "            cols_to_use=[c for c in stat_df.columns if n in c.lower()]\n",
    "            if use_prob:\n",
    "                cols_to_use=[c for c in cols_to_use if 'prob' in c.lower()]\n",
    "            else:\n",
    "                cols_to_use=[c for c in cols_to_use if 'prob' not in c.lower()]\n",
    "            n_df=np.array(stat_df[cols_to_use])\n",
    "            data,y_comb,pat_to_indx=combine_patient_feats(n_df,graph_labels,stat_df,conditional=conditionals)\n",
    "            print(n_df,'NF')\n",
    "        else:\n",
    "            n_df=X_weight\n",
    "            data,y_comb,pat_to_indx=combine_patient_feats(n_df,graph_labels,stat_df,conditional=conditionals)\n",
    "            Wa=data\n",
    "            \n",
    "            \n",
    "#         data,y_comb,pat_to_indx=combine_patient_feats(n_df,graph_labels,stat_df,conditional=conditionals)\n",
    "        features.append(data)\n",
    "        \n",
    "    \n",
    "        \n",
    "\n",
    "#     Wa=X_weight_comb\n",
    "#     names=['W','X_rc','X_bc','X_wc']\n",
    "    indices=np.array([i for i in range(len(data_names))])\n",
    "    feature_combinations=[]\n",
    "    name_combinations=[]\n",
    "    list_combinations = list()\n",
    "\n",
    "    for n in range(min_combos,max_combos+1):\n",
    "        for combo in combinations(indices, n):\n",
    "            print(combo)\n",
    "            feat_list=[features[i] for i in combo]\n",
    "            name_list=[data_names[i] for i in combo]\n",
    "            print(name_list)\n",
    "            feat_combines=np.hstack(feat_list)\n",
    "            print(feat_combines.shape)\n",
    "            feature_combinations.append(feat_combines)\n",
    "            name_combinations.append(name_list)\n",
    "\n",
    "    if not skip_w:\n",
    "        feature_combinations=[Wa]+feature_combinations\n",
    "        name_combinations=[['W']]+name_combinations\n",
    "        \n",
    "    return feature_combinations,name_combinations,y_comb\n",
    "    "
   ]
  },
  {
   "cell_type": "code",
   "execution_count": 79,
   "id": "912d0d3d",
   "metadata": {},
   "outputs": [],
   "source": [
    "conditionals = ((full_stat_df['CogTr']==1))\n",
    "fit_method='concatenate'\n",
    "predict_method='same'\n",
    "# run_combos_list(model_type=LogisticRegression,names=name_combinations,\n",
    "#                 feature_list=feature_combinations,times=1,\n",
    "#                 use_agg=True,agg_fit=fit_method,agg_pred=predict_method,y_comb=y_comb)  \n"
   ]
  },
  {
   "cell_type": "code",
   "execution_count": 80,
   "id": "7b41a60f",
   "metadata": {},
   "outputs": [],
   "source": [
    "import argparse\n",
    "parser = argparse.ArgumentParser(description='RiemannianGNN')\n",
    "args, _ = parser.parse_known_args()\n",
    "MEGLpParams.add_params(parser)\n",
    "args = parser.parse_args(args=[])"
   ]
  },
  {
   "cell_type": "code",
   "execution_count": 81,
   "id": "b6286ebb",
   "metadata": {},
   "outputs": [],
   "source": [
    "BAND_TO_INDEX = {'theta':0,'alpha':1,'beta1':2,'beta2':3,'beta':4,'gamma':5}\n",
    "METRIC_TO_INDEX = {'plv':0,'ciplv':1}\n",
    "\n",
    "\n",
    "band_adj = BAND_TO_INDEX['alpha']\n",
    "metric_adj = METRIC_TO_INDEX[args.metric]\n",
    "raw_scans = np.load(args.raw_scan_file)\n",
    "scan_data = raw_scans[:,band_adj,metric_adj] ### this is not changed by any hyperparamters\n",
    "\n",
    "graph_ids = full_stat_df['Scan Index'].values\n",
    "scan_data = raw_scans[:,band_adj,metric_adj] ### this is not changed by any hyperparamters\n",
    "train_scans = scan_data[graph_ids.astype(int) ]\n",
    "X_weight = np.array([a[np.triu_indices(a.shape[0])] for a in train_scans])"
   ]
  },
  {
   "cell_type": "code",
   "execution_count": 82,
   "id": "2133a1c8",
   "metadata": {},
   "outputs": [
    {
     "name": "stdout",
     "output_type": "stream",
     "text": [
      "conditational\n",
      "0       True\n",
      "1       True\n",
      "2       True\n",
      "3       True\n",
      "4       True\n",
      "       ...  \n",
      "175    False\n",
      "176    False\n",
      "177    False\n",
      "178    False\n",
      "179    False\n",
      "Name: CogTr, Length: 180, dtype: bool\n",
      "NO SHUFFLE\n",
      "conditational\n",
      "0       True\n",
      "1       True\n",
      "2       True\n",
      "3       True\n",
      "4       True\n",
      "       ...  \n",
      "175    False\n",
      "176    False\n",
      "177    False\n",
      "178    False\n",
      "179    False\n",
      "Name: CogTr, Length: 180, dtype: bool\n",
      "NO SHUFFLE\n",
      "[[1.14856664 2.0953061  2.18031072 ... 2.05160935 1.42537626 2.26457091]\n",
      " [1.12309426 2.06000353 2.21085388 ... 2.09441905 1.45372466 2.33475558]\n",
      " [1.21732124 1.98617806 2.04157465 ... 1.89624364 1.33290461 1.99036129]\n",
      " ...\n",
      " [1.19672428 2.10935528 2.21695379 ... 2.04229307 1.52801455 2.00044454]\n",
      " [1.30283475 1.89239307 1.91787272 ... 1.98593059 1.42585129 1.99628657]\n",
      " [1.29968796 1.78858962 1.84196672 ... 1.9000061  1.39210995 1.90546139]] NF\n",
      "conditational\n",
      "0       True\n",
      "1       True\n",
      "2       True\n",
      "3       True\n",
      "4       True\n",
      "       ...  \n",
      "175    False\n",
      "176    False\n",
      "177    False\n",
      "178    False\n",
      "179    False\n",
      "Name: CogTr, Length: 180, dtype: bool\n",
      "NO SHUFFLE\n",
      "[[2.21571424 2.34210272 2.18139554 ... 2.1801068  2.79862933 2.30481885]\n",
      " [2.38123251 2.50880569 2.43149855 ... 2.24373421 2.88898432 2.36512147]\n",
      " [2.34770237 2.25685528 2.23141309 ... 2.04641675 2.67314733 2.42420795]\n",
      " ...\n",
      " [2.1636657  2.44516444 2.23572484 ... 2.05156655 2.64917925 2.30653939]\n",
      " [2.08938158 2.17658656 2.30082299 ... 2.04204749 2.57619811 2.21407471]\n",
      " [2.17389076 2.15353666 2.29744721 ... 2.04345541 2.54145052 2.33430249]] NF\n",
      "conditational\n",
      "0       True\n",
      "1       True\n",
      "2       True\n",
      "3       True\n",
      "4       True\n",
      "       ...  \n",
      "175    False\n",
      "176    False\n",
      "177    False\n",
      "178    False\n",
      "179    False\n",
      "Name: CogTr, Length: 180, dtype: bool\n",
      "NO SHUFFLE\n",
      "[[1.61672632 0.48133449 3.01113876 ... 2.80650585 1.3801329  2.73582551]\n",
      " [1.71621068 0.50311232 3.16526052 ... 2.88327991 1.27479391 3.08219367]\n",
      " [1.74156218 0.94195549 2.688884   ... 2.64042047 1.29079281 2.40175145]\n",
      " ...\n",
      " [1.68641972 0.61758473 2.95959648 ... 2.74814367 1.02410082 2.40559861]\n",
      " [1.83216143 0.66071667 2.55659762 ... 2.66371617 1.1957358  2.36306722]\n",
      " [1.93642604 0.49147834 2.31733502 ... 2.60703069 1.25944937 2.19851648]] NF\n",
      "(0, 1)\n",
      "['W', 'rad']\n",
      "(46, 4103, 2)\n",
      "(0, 2)\n",
      "['W', 'btw']\n",
      "(46, 4123, 2)\n",
      "(0, 3)\n",
      "['W', 'coh']\n",
      "(46, 4103, 2)\n",
      "(1, 2)\n",
      "['rad', 'btw']\n",
      "(46, 36, 2)\n",
      "(1, 3)\n",
      "['rad', 'coh']\n",
      "(46, 16, 2)\n",
      "(2, 3)\n",
      "['btw', 'coh']\n",
      "(46, 36, 2)\n",
      "(0, 1, 2)\n",
      "['W', 'rad', 'btw']\n",
      "(46, 4131, 2)\n",
      "(0, 1, 3)\n",
      "['W', 'rad', 'coh']\n",
      "(46, 4111, 2)\n",
      "(0, 2, 3)\n",
      "['W', 'btw', 'coh']\n",
      "(46, 4131, 2)\n",
      "(1, 2, 3)\n",
      "['rad', 'btw', 'coh']\n",
      "(46, 44, 2)\n",
      "(0, 1, 2, 3)\n",
      "['W', 'rad', 'btw', 'coh']\n",
      "(46, 4139, 2)\n"
     ]
    }
   ],
   "source": [
    "\n",
    "feature_combinations,name_combinations,y_comb=run_embedding_classiciation(full_stat_df,X_weight,skip_w=False,\n",
    "                                                                   use_prob=False,min_combos=2,max_combos=4,conditionals=conditionals)"
   ]
  },
  {
   "cell_type": "code",
   "execution_count": 77,
   "id": "a0311247",
   "metadata": {},
   "outputs": [],
   "source": [
    "# feature_combinations,name_combinations,y_comb=run_embedding_classiciation(all_stat_dicts[0],X_weight,\n",
    "#                                                                    use_prob=True,min_combos=3,max_combos=4)"
   ]
  },
  {
   "cell_type": "code",
   "execution_count": 83,
   "id": "6a6822ef",
   "metadata": {},
   "outputs": [
    {
     "name": "stdout",
     "output_type": "stream",
     "text": [
      "(46, 4095, 2)\n",
      "(46, 4103, 2)\n",
      "(46, 4123, 2)\n",
      "(46, 4103, 2)\n",
      "(46, 36, 2)\n",
      "(46, 16, 2)\n",
      "(46, 36, 2)\n",
      "(46, 4131, 2)\n",
      "(46, 4111, 2)\n",
      "(46, 4131, 2)\n",
      "(46, 44, 2)\n",
      "(46, 4139, 2)\n"
     ]
    }
   ],
   "source": [
    "for f in feature_combinations:\n",
    "    print(f.shape)"
   ]
  },
  {
   "cell_type": "code",
   "execution_count": 85,
   "id": "3494cb82",
   "metadata": {
    "scrolled": false
   },
   "outputs": [
    {
     "name": "stdout",
     "output_type": "stream",
     "text": [
      "(92,) y?\n",
      "(92, 4095) X\n",
      "None PASS\n",
      "0.7999906629318393 50 num_split?\n",
      "{'C': 10, 'class_weight': 'balanced', 'gamma': 0.5, 'kernel': 'rbf'} BEST PARAMS??\n",
      "\n",
      "NEW!\n",
      "[1 2 2 2 1 1 1 1 2 1 2 1 2 1 1 1 1 1 1 2 1 1 2 2 1 2 2 2 1 1 2 2 2 2 2 2 1\n",
      " 2 2 2 2 1 2 2 1 1 1 2 2 2 1 1 1 1 2 1 2 1 2 1 1 1 1 1 1 2 1 1 2 2 1 2 2 2\n",
      " 1 1 2 2 2 2 2 2 1 2 2 2 2 1 2 2 1 1] EXAMPLE Y\n",
      "(92,) EXAMPLE Y\n",
      "(92, 4095) new\n",
      "(92,) clone\n",
      "(92, 4095)  X shape???sss\n",
      "LeaveOneOut()\n",
      "[1 2 2 2 1 1 1 1 2 1 2 1 2 1 1 1 1 1 1 2 1 1 2 2 1 2 2 2 1 1 2 2 2 2 2 2 1\n",
      " 2 2 2 2 1 2 2 1 1 1 2 2 2 1 1 1 1 2 1 2 1 2 1 1 1 1 1 1 2 1 1 2 2 1 2 2 2\n",
      " 1 1 2 2 2 2 2 2 1 2 2 2 2 1 2 2 1 1] YYY\n",
      "              precision    recall  f1-score   support\n",
      "\n",
      "           1       0.82      0.75      0.79        44\n",
      "           2       0.79      0.85      0.82        48\n",
      "\n",
      "    accuracy                           0.80        92\n",
      "   macro avg       0.81      0.80      0.80        92\n",
      "weighted avg       0.81      0.80      0.80        92\n",
      "\n",
      "0.8043478260869565 accuracy\n",
      "0.8726325757575757 roc\n",
      "(0.8028571428571428, 0.8726325757575757) res\n",
      "(92,) y?\n",
      "(92, 4103) X\n",
      "None PASS\n",
      "0.7790996656534414 50 num_split?\n",
      "{'C': 10, 'class_weight': 'balanced', 'gamma': 0.5, 'kernel': 'rbf'} BEST PARAMS??\n",
      "\n",
      "NEW!\n",
      "[1 2 2 2 1 1 1 1 2 1 2 1 2 1 1 1 1 1 1 2 1 1 2 2 1 2 2 2 1 1 2 2 2 2 2 2 1\n",
      " 2 2 2 2 1 2 2 1 1 1 2 2 2 1 1 1 1 2 1 2 1 2 1 1 1 1 1 1 2 1 1 2 2 1 2 2 2\n",
      " 1 1 2 2 2 2 2 2 1 2 2 2 2 1 2 2 1 1] EXAMPLE Y\n",
      "(92,) EXAMPLE Y\n",
      "(92, 4103) new\n",
      "(92,) clone\n",
      "(92, 4103)  X shape???sss\n",
      "LeaveOneOut()\n",
      "[1 2 2 2 1 1 1 1 2 1 2 1 2 1 1 1 1 1 1 2 1 1 2 2 1 2 2 2 1 1 2 2 2 2 2 2 1\n",
      " 2 2 2 2 1 2 2 1 1 1 2 2 2 1 1 1 1 2 1 2 1 2 1 1 1 1 1 1 2 1 1 2 2 1 2 2 2\n",
      " 1 1 2 2 2 2 2 2 1 2 2 2 2 1 2 2 1 1] YYY\n",
      "              precision    recall  f1-score   support\n",
      "\n",
      "           1       0.85      0.75      0.80        44\n",
      "           2       0.79      0.88      0.83        48\n",
      "\n",
      "    accuracy                           0.82        92\n",
      "   macro avg       0.82      0.81      0.81        92\n",
      "weighted avg       0.82      0.82      0.81        92\n",
      "\n",
      "0.8152173913043478 accuracy\n",
      "0.8754734848484849 roc\n",
      "(0.813431945604199, 0.8754734848484849) res\n",
      "(92,) y?\n",
      "(92, 4123) X\n",
      "None PASS\n"
     ]
    },
    {
     "ename": "KeyboardInterrupt",
     "evalue": "",
     "output_type": "error",
     "traceback": [
      "\u001b[1;31m---------------------------------------------------------------------------\u001b[0m",
      "\u001b[1;31mKeyboardInterrupt\u001b[0m                         Traceback (most recent call last)",
      "\u001b[1;32m~\\AppData\\Local\\Temp\\ipykernel_32296\\445058109.py\u001b[0m in \u001b[0;36m<module>\u001b[1;34m\u001b[0m\n\u001b[0;32m      4\u001b[0m                 \u001b[0mfeature_list\u001b[0m\u001b[1;33m=\u001b[0m\u001b[0mfeature_combinations\u001b[0m\u001b[1;33m,\u001b[0m\u001b[0mtimes\u001b[0m\u001b[1;33m=\u001b[0m\u001b[1;36m1\u001b[0m\u001b[1;33m,\u001b[0m\u001b[1;33m\u001b[0m\u001b[1;33m\u001b[0m\u001b[0m\n\u001b[0;32m      5\u001b[0m                 \u001b[0muse_agg\u001b[0m\u001b[1;33m=\u001b[0m\u001b[1;32mTrue\u001b[0m\u001b[1;33m,\u001b[0m\u001b[0magg_fit\u001b[0m\u001b[1;33m=\u001b[0m\u001b[0mfit_method\u001b[0m\u001b[1;33m,\u001b[0m\u001b[1;33m\u001b[0m\u001b[1;33m\u001b[0m\u001b[0m\n\u001b[1;32m----> 6\u001b[1;33m                 agg_pred=predict_method,y_comb=y_comb,use_nested=False)  \n\u001b[0m\u001b[0;32m      7\u001b[0m \u001b[1;31m# run_combos_list(model_type=SVC,names=name_combinations,\u001b[0m\u001b[1;33m\u001b[0m\u001b[1;33m\u001b[0m\u001b[1;33m\u001b[0m\u001b[0m\n\u001b[0;32m      8\u001b[0m \u001b[1;31m#                 feature_list=feature_combinations,times=1,\u001b[0m\u001b[1;33m\u001b[0m\u001b[1;33m\u001b[0m\u001b[1;33m\u001b[0m\u001b[0m\n",
      "\u001b[1;32m~\\OneDrive\\Desktop\\Fall 2021\\Neuro\\hyperBrain\\utils\\embedding_utils.py\u001b[0m in \u001b[0;36mrun_combos_list\u001b[1;34m(model_type, feature_list, names, times, use_agg, agg_fit, agg_pred, hyp_search, passed_params, y_comb, use_nested)\u001b[0m\n\u001b[0;32m   3905\u001b[0m         \u001b[1;32mfor\u001b[0m \u001b[0mi\u001b[0m \u001b[1;32min\u001b[0m \u001b[0mrange\u001b[0m\u001b[1;33m(\u001b[0m\u001b[0mlen\u001b[0m\u001b[1;33m(\u001b[0m\u001b[0mfeature_list\u001b[0m\u001b[1;33m)\u001b[0m\u001b[1;33m)\u001b[0m\u001b[1;33m:\u001b[0m\u001b[1;33m\u001b[0m\u001b[1;33m\u001b[0m\u001b[0m\n\u001b[0;32m   3906\u001b[0m             \u001b[0mfeats\u001b[0m\u001b[1;33m=\u001b[0m\u001b[0mfeature_list\u001b[0m\u001b[1;33m[\u001b[0m\u001b[0mi\u001b[0m\u001b[1;33m]\u001b[0m\u001b[1;33m\u001b[0m\u001b[1;33m\u001b[0m\u001b[0m\n\u001b[1;32m-> 3907\u001b[1;33m             \u001b[0mres\u001b[0m\u001b[1;33m=\u001b[0m\u001b[0mexecute\u001b[0m\u001b[1;33m(\u001b[0m\u001b[0mfeats\u001b[0m\u001b[1;33m,\u001b[0m\u001b[0my\u001b[0m\u001b[1;33m=\u001b[0m\u001b[0my_comb\u001b[0m\u001b[1;33m)\u001b[0m\u001b[1;33m\u001b[0m\u001b[1;33m\u001b[0m\u001b[0m\n\u001b[0m\u001b[0;32m   3908\u001b[0m             \u001b[0mf1_list\u001b[0m\u001b[1;33m[\u001b[0m\u001b[0mi\u001b[0m\u001b[1;33m,\u001b[0m\u001b[0mt\u001b[0m\u001b[1;33m]\u001b[0m\u001b[1;33m=\u001b[0m\u001b[0mres\u001b[0m\u001b[1;33m[\u001b[0m\u001b[1;36m0\u001b[0m\u001b[1;33m]\u001b[0m\u001b[1;33m\u001b[0m\u001b[1;33m\u001b[0m\u001b[0m\n\u001b[0;32m   3909\u001b[0m             \u001b[0mroc_list\u001b[0m\u001b[1;33m[\u001b[0m\u001b[0mi\u001b[0m\u001b[1;33m,\u001b[0m\u001b[0mt\u001b[0m\u001b[1;33m]\u001b[0m\u001b[1;33m=\u001b[0m\u001b[0mres\u001b[0m\u001b[1;33m[\u001b[0m\u001b[1;36m1\u001b[0m\u001b[1;33m]\u001b[0m\u001b[1;33m\u001b[0m\u001b[1;33m\u001b[0m\u001b[0m\n",
      "\u001b[1;32m~\\OneDrive\\Desktop\\Fall 2021\\Neuro\\hyperBrain\\utils\\embedding_utils.py\u001b[0m in \u001b[0;36mexecute\u001b[1;34m(X, y)\u001b[0m\n\u001b[0;32m   3892\u001b[0m                 res=make_classifier_agg(X,y,base_model=model_type,\n\u001b[0;32m   3893\u001b[0m                         \u001b[0mfit_method\u001b[0m\u001b[1;33m=\u001b[0m\u001b[0magg_fit\u001b[0m\u001b[1;33m,\u001b[0m\u001b[0mpredict_method\u001b[0m\u001b[1;33m=\u001b[0m\u001b[0magg_pred\u001b[0m\u001b[1;33m,\u001b[0m\u001b[1;33m\u001b[0m\u001b[1;33m\u001b[0m\u001b[0m\n\u001b[1;32m-> 3894\u001b[1;33m                                     hyp_search=hyp_search,passed_params=passed_params)\n\u001b[0m\u001b[0;32m   3895\u001b[0m             \u001b[0mprint\u001b[0m\u001b[1;33m(\u001b[0m\u001b[0mres\u001b[0m\u001b[1;33m,\u001b[0m\u001b[1;34m'res'\u001b[0m\u001b[1;33m)\u001b[0m\u001b[1;33m\u001b[0m\u001b[1;33m\u001b[0m\u001b[0m\n\u001b[0;32m   3896\u001b[0m             \u001b[1;32mreturn\u001b[0m \u001b[0mres\u001b[0m\u001b[1;33m\u001b[0m\u001b[1;33m\u001b[0m\u001b[0m\n",
      "\u001b[1;32m~\\OneDrive\\Desktop\\Fall 2021\\Neuro\\hyperBrain\\utils\\embedding_utils.py\u001b[0m in \u001b[0;36mmake_classifier_agg\u001b[1;34m(X, y, base_model, fit_method, predict_method, hyp_search, passed_params)\u001b[0m\n\u001b[0;32m   4242\u001b[0m \u001b[1;31m#         params= agg_params_grid(base_model,fit_method='fit_method','predict_method'=predict_method)\u001b[0m\u001b[1;33m\u001b[0m\u001b[1;33m\u001b[0m\u001b[1;33m\u001b[0m\u001b[0m\n\u001b[0;32m   4243\u001b[0m         \u001b[1;32mif\u001b[0m \u001b[0mhyp_search\u001b[0m\u001b[1;33m:\u001b[0m\u001b[1;33m\u001b[0m\u001b[1;33m\u001b[0m\u001b[0m\n\u001b[1;32m-> 4244\u001b[1;33m             \u001b[0mgs\u001b[0m \u001b[1;33m=\u001b[0m \u001b[0mrun_grid_search\u001b[0m\u001b[1;33m(\u001b[0m\u001b[0mdeepcopy\u001b[0m\u001b[1;33m(\u001b[0m\u001b[0mX\u001b[0m\u001b[1;33m)\u001b[0m\u001b[1;33m,\u001b[0m\u001b[0my\u001b[0m\u001b[1;33m,\u001b[0m\u001b[0mmodel\u001b[0m\u001b[1;33m,\u001b[0m\u001b[0mparams\u001b[0m\u001b[1;33m,\u001b[0m\u001b[0mcv\u001b[0m\u001b[1;33m=\u001b[0m\u001b[1;36m8\u001b[0m\u001b[1;33m)\u001b[0m\u001b[1;33m\u001b[0m\u001b[1;33m\u001b[0m\u001b[0m\n\u001b[0m\u001b[0;32m   4245\u001b[0m \u001b[1;33m\u001b[0m\u001b[0m\n\u001b[0;32m   4246\u001b[0m             \u001b[0mgs_df\u001b[0m \u001b[1;33m=\u001b[0m \u001b[0mpd\u001b[0m\u001b[1;33m.\u001b[0m\u001b[0mDataFrame\u001b[0m\u001b[1;33m(\u001b[0m\u001b[0mgs\u001b[0m\u001b[1;33m.\u001b[0m\u001b[0mcv_results_\u001b[0m\u001b[1;33m)\u001b[0m\u001b[1;33m\u001b[0m\u001b[1;33m\u001b[0m\u001b[0m\n",
      "\u001b[1;32m~\\OneDrive\\Desktop\\Fall 2021\\Neuro\\hyperBrain\\utils\\embedding_utils.py\u001b[0m in \u001b[0;36mrun_grid_search\u001b[1;34m(X, y, model, parameters, scoring, cv, p_test)\u001b[0m\n\u001b[0;32m   4084\u001b[0m \u001b[1;33m\u001b[0m\u001b[0m\n\u001b[0;32m   4085\u001b[0m     \u001b[0mclf\u001b[0m \u001b[1;33m=\u001b[0m \u001b[0mGridSearchCV\u001b[0m\u001b[1;33m(\u001b[0m\u001b[0mmodel\u001b[0m\u001b[1;33m,\u001b[0m \u001b[0mparameters\u001b[0m\u001b[1;33m,\u001b[0m\u001b[0mscoring\u001b[0m\u001b[1;33m=\u001b[0m\u001b[0mscoring\u001b[0m\u001b[1;33m,\u001b[0m\u001b[0mcv\u001b[0m\u001b[1;33m=\u001b[0m\u001b[0msplitter\u001b[0m\u001b[1;33m)\u001b[0m\u001b[1;33m\u001b[0m\u001b[1;33m\u001b[0m\u001b[0m\n\u001b[1;32m-> 4086\u001b[1;33m     \u001b[0mclf\u001b[0m\u001b[1;33m.\u001b[0m\u001b[0mfit\u001b[0m\u001b[1;33m(\u001b[0m\u001b[0mX\u001b[0m\u001b[1;33m,\u001b[0m \u001b[0my\u001b[0m\u001b[1;33m)\u001b[0m\u001b[1;33m\u001b[0m\u001b[1;33m\u001b[0m\u001b[0m\n\u001b[0m\u001b[0;32m   4087\u001b[0m     \u001b[0mclf_df\u001b[0m \u001b[1;33m=\u001b[0m\u001b[0mpd\u001b[0m\u001b[1;33m.\u001b[0m\u001b[0mDataFrame\u001b[0m\u001b[1;33m(\u001b[0m\u001b[0mclf\u001b[0m\u001b[1;33m.\u001b[0m\u001b[0mcv_results_\u001b[0m\u001b[1;33m)\u001b[0m\u001b[1;33m\u001b[0m\u001b[1;33m\u001b[0m\u001b[0m\n\u001b[0;32m   4088\u001b[0m     \u001b[0mclf_df\u001b[0m\u001b[1;33m=\u001b[0m\u001b[0mclf_df\u001b[0m\u001b[1;33m.\u001b[0m\u001b[0msort_values\u001b[0m\u001b[1;33m(\u001b[0m\u001b[0mby\u001b[0m\u001b[1;33m=\u001b[0m\u001b[1;33m[\u001b[0m\u001b[1;34m'rank_test_score'\u001b[0m\u001b[1;33m]\u001b[0m\u001b[1;33m)\u001b[0m\u001b[1;33m\u001b[0m\u001b[1;33m\u001b[0m\u001b[0m\n",
      "\u001b[1;32m~\\anaconda3\\envs\\hgnn\\lib\\site-packages\\sklearn\\model_selection\\_search.py\u001b[0m in \u001b[0;36mfit\u001b[1;34m(self, X, y, groups, **fit_params)\u001b[0m\n\u001b[0;32m    889\u001b[0m                 \u001b[1;32mreturn\u001b[0m \u001b[0mresults\u001b[0m\u001b[1;33m\u001b[0m\u001b[1;33m\u001b[0m\u001b[0m\n\u001b[0;32m    890\u001b[0m \u001b[1;33m\u001b[0m\u001b[0m\n\u001b[1;32m--> 891\u001b[1;33m             \u001b[0mself\u001b[0m\u001b[1;33m.\u001b[0m\u001b[0m_run_search\u001b[0m\u001b[1;33m(\u001b[0m\u001b[0mevaluate_candidates\u001b[0m\u001b[1;33m)\u001b[0m\u001b[1;33m\u001b[0m\u001b[1;33m\u001b[0m\u001b[0m\n\u001b[0m\u001b[0;32m    892\u001b[0m \u001b[1;33m\u001b[0m\u001b[0m\n\u001b[0;32m    893\u001b[0m             \u001b[1;31m# multimetric is determined here because in the case of a callable\u001b[0m\u001b[1;33m\u001b[0m\u001b[1;33m\u001b[0m\u001b[1;33m\u001b[0m\u001b[0m\n",
      "\u001b[1;32m~\\anaconda3\\envs\\hgnn\\lib\\site-packages\\sklearn\\model_selection\\_search.py\u001b[0m in \u001b[0;36m_run_search\u001b[1;34m(self, evaluate_candidates)\u001b[0m\n\u001b[0;32m   1390\u001b[0m     \u001b[1;32mdef\u001b[0m \u001b[0m_run_search\u001b[0m\u001b[1;33m(\u001b[0m\u001b[0mself\u001b[0m\u001b[1;33m,\u001b[0m \u001b[0mevaluate_candidates\u001b[0m\u001b[1;33m)\u001b[0m\u001b[1;33m:\u001b[0m\u001b[1;33m\u001b[0m\u001b[1;33m\u001b[0m\u001b[0m\n\u001b[0;32m   1391\u001b[0m         \u001b[1;34m\"\"\"Search all candidates in param_grid\"\"\"\u001b[0m\u001b[1;33m\u001b[0m\u001b[1;33m\u001b[0m\u001b[0m\n\u001b[1;32m-> 1392\u001b[1;33m         \u001b[0mevaluate_candidates\u001b[0m\u001b[1;33m(\u001b[0m\u001b[0mParameterGrid\u001b[0m\u001b[1;33m(\u001b[0m\u001b[0mself\u001b[0m\u001b[1;33m.\u001b[0m\u001b[0mparam_grid\u001b[0m\u001b[1;33m)\u001b[0m\u001b[1;33m)\u001b[0m\u001b[1;33m\u001b[0m\u001b[1;33m\u001b[0m\u001b[0m\n\u001b[0m\u001b[0;32m   1393\u001b[0m \u001b[1;33m\u001b[0m\u001b[0m\n\u001b[0;32m   1394\u001b[0m \u001b[1;33m\u001b[0m\u001b[0m\n",
      "\u001b[1;32m~\\anaconda3\\envs\\hgnn\\lib\\site-packages\\sklearn\\model_selection\\_search.py\u001b[0m in \u001b[0;36mevaluate_candidates\u001b[1;34m(candidate_params, cv, more_results)\u001b[0m\n\u001b[0;32m    849\u001b[0m                     )\n\u001b[0;32m    850\u001b[0m                     for (cand_idx, parameters), (split_idx, (train, test)) in product(\n\u001b[1;32m--> 851\u001b[1;33m                         \u001b[0menumerate\u001b[0m\u001b[1;33m(\u001b[0m\u001b[0mcandidate_params\u001b[0m\u001b[1;33m)\u001b[0m\u001b[1;33m,\u001b[0m \u001b[0menumerate\u001b[0m\u001b[1;33m(\u001b[0m\u001b[0mcv\u001b[0m\u001b[1;33m.\u001b[0m\u001b[0msplit\u001b[0m\u001b[1;33m(\u001b[0m\u001b[0mX\u001b[0m\u001b[1;33m,\u001b[0m \u001b[0my\u001b[0m\u001b[1;33m,\u001b[0m \u001b[0mgroups\u001b[0m\u001b[1;33m)\u001b[0m\u001b[1;33m)\u001b[0m\u001b[1;33m\u001b[0m\u001b[1;33m\u001b[0m\u001b[0m\n\u001b[0m\u001b[0;32m    852\u001b[0m                     )\n\u001b[0;32m    853\u001b[0m                 )\n",
      "\u001b[1;32m~\\anaconda3\\envs\\hgnn\\lib\\site-packages\\joblib\\parallel.py\u001b[0m in \u001b[0;36m__call__\u001b[1;34m(self, iterable)\u001b[0m\n\u001b[0;32m   1044\u001b[0m                 \u001b[0mself\u001b[0m\u001b[1;33m.\u001b[0m\u001b[0m_iterating\u001b[0m \u001b[1;33m=\u001b[0m \u001b[0mself\u001b[0m\u001b[1;33m.\u001b[0m\u001b[0m_original_iterator\u001b[0m \u001b[1;32mis\u001b[0m \u001b[1;32mnot\u001b[0m \u001b[1;32mNone\u001b[0m\u001b[1;33m\u001b[0m\u001b[1;33m\u001b[0m\u001b[0m\n\u001b[0;32m   1045\u001b[0m \u001b[1;33m\u001b[0m\u001b[0m\n\u001b[1;32m-> 1046\u001b[1;33m             \u001b[1;32mwhile\u001b[0m \u001b[0mself\u001b[0m\u001b[1;33m.\u001b[0m\u001b[0mdispatch_one_batch\u001b[0m\u001b[1;33m(\u001b[0m\u001b[0miterator\u001b[0m\u001b[1;33m)\u001b[0m\u001b[1;33m:\u001b[0m\u001b[1;33m\u001b[0m\u001b[1;33m\u001b[0m\u001b[0m\n\u001b[0m\u001b[0;32m   1047\u001b[0m                 \u001b[1;32mpass\u001b[0m\u001b[1;33m\u001b[0m\u001b[1;33m\u001b[0m\u001b[0m\n\u001b[0;32m   1048\u001b[0m \u001b[1;33m\u001b[0m\u001b[0m\n",
      "\u001b[1;32m~\\anaconda3\\envs\\hgnn\\lib\\site-packages\\joblib\\parallel.py\u001b[0m in \u001b[0;36mdispatch_one_batch\u001b[1;34m(self, iterator)\u001b[0m\n\u001b[0;32m    859\u001b[0m                 \u001b[1;32mreturn\u001b[0m \u001b[1;32mFalse\u001b[0m\u001b[1;33m\u001b[0m\u001b[1;33m\u001b[0m\u001b[0m\n\u001b[0;32m    860\u001b[0m             \u001b[1;32melse\u001b[0m\u001b[1;33m:\u001b[0m\u001b[1;33m\u001b[0m\u001b[1;33m\u001b[0m\u001b[0m\n\u001b[1;32m--> 861\u001b[1;33m                 \u001b[0mself\u001b[0m\u001b[1;33m.\u001b[0m\u001b[0m_dispatch\u001b[0m\u001b[1;33m(\u001b[0m\u001b[0mtasks\u001b[0m\u001b[1;33m)\u001b[0m\u001b[1;33m\u001b[0m\u001b[1;33m\u001b[0m\u001b[0m\n\u001b[0m\u001b[0;32m    862\u001b[0m                 \u001b[1;32mreturn\u001b[0m \u001b[1;32mTrue\u001b[0m\u001b[1;33m\u001b[0m\u001b[1;33m\u001b[0m\u001b[0m\n\u001b[0;32m    863\u001b[0m \u001b[1;33m\u001b[0m\u001b[0m\n",
      "\u001b[1;32m~\\anaconda3\\envs\\hgnn\\lib\\site-packages\\joblib\\parallel.py\u001b[0m in \u001b[0;36m_dispatch\u001b[1;34m(self, batch)\u001b[0m\n\u001b[0;32m    777\u001b[0m         \u001b[1;32mwith\u001b[0m \u001b[0mself\u001b[0m\u001b[1;33m.\u001b[0m\u001b[0m_lock\u001b[0m\u001b[1;33m:\u001b[0m\u001b[1;33m\u001b[0m\u001b[1;33m\u001b[0m\u001b[0m\n\u001b[0;32m    778\u001b[0m             \u001b[0mjob_idx\u001b[0m \u001b[1;33m=\u001b[0m \u001b[0mlen\u001b[0m\u001b[1;33m(\u001b[0m\u001b[0mself\u001b[0m\u001b[1;33m.\u001b[0m\u001b[0m_jobs\u001b[0m\u001b[1;33m)\u001b[0m\u001b[1;33m\u001b[0m\u001b[1;33m\u001b[0m\u001b[0m\n\u001b[1;32m--> 779\u001b[1;33m             \u001b[0mjob\u001b[0m \u001b[1;33m=\u001b[0m \u001b[0mself\u001b[0m\u001b[1;33m.\u001b[0m\u001b[0m_backend\u001b[0m\u001b[1;33m.\u001b[0m\u001b[0mapply_async\u001b[0m\u001b[1;33m(\u001b[0m\u001b[0mbatch\u001b[0m\u001b[1;33m,\u001b[0m \u001b[0mcallback\u001b[0m\u001b[1;33m=\u001b[0m\u001b[0mcb\u001b[0m\u001b[1;33m)\u001b[0m\u001b[1;33m\u001b[0m\u001b[1;33m\u001b[0m\u001b[0m\n\u001b[0m\u001b[0;32m    780\u001b[0m             \u001b[1;31m# A job can complete so quickly than its callback is\u001b[0m\u001b[1;33m\u001b[0m\u001b[1;33m\u001b[0m\u001b[1;33m\u001b[0m\u001b[0m\n\u001b[0;32m    781\u001b[0m             \u001b[1;31m# called before we get here, causing self._jobs to\u001b[0m\u001b[1;33m\u001b[0m\u001b[1;33m\u001b[0m\u001b[1;33m\u001b[0m\u001b[0m\n",
      "\u001b[1;32m~\\anaconda3\\envs\\hgnn\\lib\\site-packages\\joblib\\_parallel_backends.py\u001b[0m in \u001b[0;36mapply_async\u001b[1;34m(self, func, callback)\u001b[0m\n\u001b[0;32m    206\u001b[0m     \u001b[1;32mdef\u001b[0m \u001b[0mapply_async\u001b[0m\u001b[1;33m(\u001b[0m\u001b[0mself\u001b[0m\u001b[1;33m,\u001b[0m \u001b[0mfunc\u001b[0m\u001b[1;33m,\u001b[0m \u001b[0mcallback\u001b[0m\u001b[1;33m=\u001b[0m\u001b[1;32mNone\u001b[0m\u001b[1;33m)\u001b[0m\u001b[1;33m:\u001b[0m\u001b[1;33m\u001b[0m\u001b[1;33m\u001b[0m\u001b[0m\n\u001b[0;32m    207\u001b[0m         \u001b[1;34m\"\"\"Schedule a func to be run\"\"\"\u001b[0m\u001b[1;33m\u001b[0m\u001b[1;33m\u001b[0m\u001b[0m\n\u001b[1;32m--> 208\u001b[1;33m         \u001b[0mresult\u001b[0m \u001b[1;33m=\u001b[0m \u001b[0mImmediateResult\u001b[0m\u001b[1;33m(\u001b[0m\u001b[0mfunc\u001b[0m\u001b[1;33m)\u001b[0m\u001b[1;33m\u001b[0m\u001b[1;33m\u001b[0m\u001b[0m\n\u001b[0m\u001b[0;32m    209\u001b[0m         \u001b[1;32mif\u001b[0m \u001b[0mcallback\u001b[0m\u001b[1;33m:\u001b[0m\u001b[1;33m\u001b[0m\u001b[1;33m\u001b[0m\u001b[0m\n\u001b[0;32m    210\u001b[0m             \u001b[0mcallback\u001b[0m\u001b[1;33m(\u001b[0m\u001b[0mresult\u001b[0m\u001b[1;33m)\u001b[0m\u001b[1;33m\u001b[0m\u001b[1;33m\u001b[0m\u001b[0m\n",
      "\u001b[1;32m~\\anaconda3\\envs\\hgnn\\lib\\site-packages\\joblib\\_parallel_backends.py\u001b[0m in \u001b[0;36m__init__\u001b[1;34m(self, batch)\u001b[0m\n\u001b[0;32m    570\u001b[0m         \u001b[1;31m# Don't delay the application, to avoid keeping the input\u001b[0m\u001b[1;33m\u001b[0m\u001b[1;33m\u001b[0m\u001b[1;33m\u001b[0m\u001b[0m\n\u001b[0;32m    571\u001b[0m         \u001b[1;31m# arguments in memory\u001b[0m\u001b[1;33m\u001b[0m\u001b[1;33m\u001b[0m\u001b[1;33m\u001b[0m\u001b[0m\n\u001b[1;32m--> 572\u001b[1;33m         \u001b[0mself\u001b[0m\u001b[1;33m.\u001b[0m\u001b[0mresults\u001b[0m \u001b[1;33m=\u001b[0m \u001b[0mbatch\u001b[0m\u001b[1;33m(\u001b[0m\u001b[1;33m)\u001b[0m\u001b[1;33m\u001b[0m\u001b[1;33m\u001b[0m\u001b[0m\n\u001b[0m\u001b[0;32m    573\u001b[0m \u001b[1;33m\u001b[0m\u001b[0m\n\u001b[0;32m    574\u001b[0m     \u001b[1;32mdef\u001b[0m \u001b[0mget\u001b[0m\u001b[1;33m(\u001b[0m\u001b[0mself\u001b[0m\u001b[1;33m)\u001b[0m\u001b[1;33m:\u001b[0m\u001b[1;33m\u001b[0m\u001b[1;33m\u001b[0m\u001b[0m\n",
      "\u001b[1;32m~\\anaconda3\\envs\\hgnn\\lib\\site-packages\\joblib\\parallel.py\u001b[0m in \u001b[0;36m__call__\u001b[1;34m(self)\u001b[0m\n\u001b[0;32m    261\u001b[0m         \u001b[1;32mwith\u001b[0m \u001b[0mparallel_backend\u001b[0m\u001b[1;33m(\u001b[0m\u001b[0mself\u001b[0m\u001b[1;33m.\u001b[0m\u001b[0m_backend\u001b[0m\u001b[1;33m,\u001b[0m \u001b[0mn_jobs\u001b[0m\u001b[1;33m=\u001b[0m\u001b[0mself\u001b[0m\u001b[1;33m.\u001b[0m\u001b[0m_n_jobs\u001b[0m\u001b[1;33m)\u001b[0m\u001b[1;33m:\u001b[0m\u001b[1;33m\u001b[0m\u001b[1;33m\u001b[0m\u001b[0m\n\u001b[0;32m    262\u001b[0m             return [func(*args, **kwargs)\n\u001b[1;32m--> 263\u001b[1;33m                     for func, args, kwargs in self.items]\n\u001b[0m\u001b[0;32m    264\u001b[0m \u001b[1;33m\u001b[0m\u001b[0m\n\u001b[0;32m    265\u001b[0m     \u001b[1;32mdef\u001b[0m \u001b[0m__reduce__\u001b[0m\u001b[1;33m(\u001b[0m\u001b[0mself\u001b[0m\u001b[1;33m)\u001b[0m\u001b[1;33m:\u001b[0m\u001b[1;33m\u001b[0m\u001b[1;33m\u001b[0m\u001b[0m\n",
      "\u001b[1;32m~\\anaconda3\\envs\\hgnn\\lib\\site-packages\\joblib\\parallel.py\u001b[0m in \u001b[0;36m<listcomp>\u001b[1;34m(.0)\u001b[0m\n\u001b[0;32m    261\u001b[0m         \u001b[1;32mwith\u001b[0m \u001b[0mparallel_backend\u001b[0m\u001b[1;33m(\u001b[0m\u001b[0mself\u001b[0m\u001b[1;33m.\u001b[0m\u001b[0m_backend\u001b[0m\u001b[1;33m,\u001b[0m \u001b[0mn_jobs\u001b[0m\u001b[1;33m=\u001b[0m\u001b[0mself\u001b[0m\u001b[1;33m.\u001b[0m\u001b[0m_n_jobs\u001b[0m\u001b[1;33m)\u001b[0m\u001b[1;33m:\u001b[0m\u001b[1;33m\u001b[0m\u001b[1;33m\u001b[0m\u001b[0m\n\u001b[0;32m    262\u001b[0m             return [func(*args, **kwargs)\n\u001b[1;32m--> 263\u001b[1;33m                     for func, args, kwargs in self.items]\n\u001b[0m\u001b[0;32m    264\u001b[0m \u001b[1;33m\u001b[0m\u001b[0m\n\u001b[0;32m    265\u001b[0m     \u001b[1;32mdef\u001b[0m \u001b[0m__reduce__\u001b[0m\u001b[1;33m(\u001b[0m\u001b[0mself\u001b[0m\u001b[1;33m)\u001b[0m\u001b[1;33m:\u001b[0m\u001b[1;33m\u001b[0m\u001b[1;33m\u001b[0m\u001b[0m\n",
      "\u001b[1;32m~\\anaconda3\\envs\\hgnn\\lib\\site-packages\\sklearn\\utils\\fixes.py\u001b[0m in \u001b[0;36m__call__\u001b[1;34m(self, *args, **kwargs)\u001b[0m\n\u001b[0;32m    214\u001b[0m     \u001b[1;32mdef\u001b[0m \u001b[0m__call__\u001b[0m\u001b[1;33m(\u001b[0m\u001b[0mself\u001b[0m\u001b[1;33m,\u001b[0m \u001b[1;33m*\u001b[0m\u001b[0margs\u001b[0m\u001b[1;33m,\u001b[0m \u001b[1;33m**\u001b[0m\u001b[0mkwargs\u001b[0m\u001b[1;33m)\u001b[0m\u001b[1;33m:\u001b[0m\u001b[1;33m\u001b[0m\u001b[1;33m\u001b[0m\u001b[0m\n\u001b[0;32m    215\u001b[0m         \u001b[1;32mwith\u001b[0m \u001b[0mconfig_context\u001b[0m\u001b[1;33m(\u001b[0m\u001b[1;33m**\u001b[0m\u001b[0mself\u001b[0m\u001b[1;33m.\u001b[0m\u001b[0mconfig\u001b[0m\u001b[1;33m)\u001b[0m\u001b[1;33m:\u001b[0m\u001b[1;33m\u001b[0m\u001b[1;33m\u001b[0m\u001b[0m\n\u001b[1;32m--> 216\u001b[1;33m             \u001b[1;32mreturn\u001b[0m \u001b[0mself\u001b[0m\u001b[1;33m.\u001b[0m\u001b[0mfunction\u001b[0m\u001b[1;33m(\u001b[0m\u001b[1;33m*\u001b[0m\u001b[0margs\u001b[0m\u001b[1;33m,\u001b[0m \u001b[1;33m**\u001b[0m\u001b[0mkwargs\u001b[0m\u001b[1;33m)\u001b[0m\u001b[1;33m\u001b[0m\u001b[1;33m\u001b[0m\u001b[0m\n\u001b[0m\u001b[0;32m    217\u001b[0m \u001b[1;33m\u001b[0m\u001b[0m\n\u001b[0;32m    218\u001b[0m \u001b[1;33m\u001b[0m\u001b[0m\n",
      "\u001b[1;32m~\\anaconda3\\envs\\hgnn\\lib\\site-packages\\sklearn\\model_selection\\_validation.py\u001b[0m in \u001b[0;36m_fit_and_score\u001b[1;34m(estimator, X, y, scorer, train, test, verbose, parameters, fit_params, return_train_score, return_parameters, return_n_test_samples, return_times, return_estimator, split_progress, candidate_progress, error_score)\u001b[0m\n\u001b[0;32m    670\u001b[0m     \u001b[0mstart_time\u001b[0m \u001b[1;33m=\u001b[0m \u001b[0mtime\u001b[0m\u001b[1;33m.\u001b[0m\u001b[0mtime\u001b[0m\u001b[1;33m(\u001b[0m\u001b[1;33m)\u001b[0m\u001b[1;33m\u001b[0m\u001b[1;33m\u001b[0m\u001b[0m\n\u001b[0;32m    671\u001b[0m \u001b[1;33m\u001b[0m\u001b[0m\n\u001b[1;32m--> 672\u001b[1;33m     \u001b[0mX_train\u001b[0m\u001b[1;33m,\u001b[0m \u001b[0my_train\u001b[0m \u001b[1;33m=\u001b[0m \u001b[0m_safe_split\u001b[0m\u001b[1;33m(\u001b[0m\u001b[0mestimator\u001b[0m\u001b[1;33m,\u001b[0m \u001b[0mX\u001b[0m\u001b[1;33m,\u001b[0m \u001b[0my\u001b[0m\u001b[1;33m,\u001b[0m \u001b[0mtrain\u001b[0m\u001b[1;33m)\u001b[0m\u001b[1;33m\u001b[0m\u001b[1;33m\u001b[0m\u001b[0m\n\u001b[0m\u001b[0;32m    673\u001b[0m     \u001b[0mX_test\u001b[0m\u001b[1;33m,\u001b[0m \u001b[0my_test\u001b[0m \u001b[1;33m=\u001b[0m \u001b[0m_safe_split\u001b[0m\u001b[1;33m(\u001b[0m\u001b[0mestimator\u001b[0m\u001b[1;33m,\u001b[0m \u001b[0mX\u001b[0m\u001b[1;33m,\u001b[0m \u001b[0my\u001b[0m\u001b[1;33m,\u001b[0m \u001b[0mtest\u001b[0m\u001b[1;33m,\u001b[0m \u001b[0mtrain\u001b[0m\u001b[1;33m)\u001b[0m\u001b[1;33m\u001b[0m\u001b[1;33m\u001b[0m\u001b[0m\n\u001b[0;32m    674\u001b[0m \u001b[1;33m\u001b[0m\u001b[0m\n",
      "\u001b[1;32m~\\anaconda3\\envs\\hgnn\\lib\\site-packages\\sklearn\\utils\\metaestimators.py\u001b[0m in \u001b[0;36m_safe_split\u001b[1;34m(estimator, X, y, indices, train_indices)\u001b[0m\n\u001b[0;32m    286\u001b[0m             \u001b[0mX_subset\u001b[0m \u001b[1;33m=\u001b[0m \u001b[0mX\u001b[0m\u001b[1;33m[\u001b[0m\u001b[0mnp\u001b[0m\u001b[1;33m.\u001b[0m\u001b[0mix_\u001b[0m\u001b[1;33m(\u001b[0m\u001b[0mindices\u001b[0m\u001b[1;33m,\u001b[0m \u001b[0mtrain_indices\u001b[0m\u001b[1;33m)\u001b[0m\u001b[1;33m]\u001b[0m\u001b[1;33m\u001b[0m\u001b[1;33m\u001b[0m\u001b[0m\n\u001b[0;32m    287\u001b[0m     \u001b[1;32melse\u001b[0m\u001b[1;33m:\u001b[0m\u001b[1;33m\u001b[0m\u001b[1;33m\u001b[0m\u001b[0m\n\u001b[1;32m--> 288\u001b[1;33m         \u001b[0mX_subset\u001b[0m \u001b[1;33m=\u001b[0m \u001b[0m_safe_indexing\u001b[0m\u001b[1;33m(\u001b[0m\u001b[0mX\u001b[0m\u001b[1;33m,\u001b[0m \u001b[0mindices\u001b[0m\u001b[1;33m)\u001b[0m\u001b[1;33m\u001b[0m\u001b[1;33m\u001b[0m\u001b[0m\n\u001b[0m\u001b[0;32m    289\u001b[0m \u001b[1;33m\u001b[0m\u001b[0m\n\u001b[0;32m    290\u001b[0m     \u001b[1;32mif\u001b[0m \u001b[0my\u001b[0m \u001b[1;32mis\u001b[0m \u001b[1;32mnot\u001b[0m \u001b[1;32mNone\u001b[0m\u001b[1;33m:\u001b[0m\u001b[1;33m\u001b[0m\u001b[1;33m\u001b[0m\u001b[0m\n",
      "\u001b[1;32m~\\anaconda3\\envs\\hgnn\\lib\\site-packages\\sklearn\\utils\\__init__.py\u001b[0m in \u001b[0;36m_safe_indexing\u001b[1;34m(X, indices, axis)\u001b[0m\n\u001b[0;32m    376\u001b[0m         \u001b[1;32mreturn\u001b[0m \u001b[0m_pandas_indexing\u001b[0m\u001b[1;33m(\u001b[0m\u001b[0mX\u001b[0m\u001b[1;33m,\u001b[0m \u001b[0mindices\u001b[0m\u001b[1;33m,\u001b[0m \u001b[0mindices_dtype\u001b[0m\u001b[1;33m,\u001b[0m \u001b[0maxis\u001b[0m\u001b[1;33m=\u001b[0m\u001b[0maxis\u001b[0m\u001b[1;33m)\u001b[0m\u001b[1;33m\u001b[0m\u001b[1;33m\u001b[0m\u001b[0m\n\u001b[0;32m    377\u001b[0m     \u001b[1;32melif\u001b[0m \u001b[0mhasattr\u001b[0m\u001b[1;33m(\u001b[0m\u001b[0mX\u001b[0m\u001b[1;33m,\u001b[0m \u001b[1;34m\"shape\"\u001b[0m\u001b[1;33m)\u001b[0m\u001b[1;33m:\u001b[0m\u001b[1;33m\u001b[0m\u001b[1;33m\u001b[0m\u001b[0m\n\u001b[1;32m--> 378\u001b[1;33m         \u001b[1;32mreturn\u001b[0m \u001b[0m_array_indexing\u001b[0m\u001b[1;33m(\u001b[0m\u001b[0mX\u001b[0m\u001b[1;33m,\u001b[0m \u001b[0mindices\u001b[0m\u001b[1;33m,\u001b[0m \u001b[0mindices_dtype\u001b[0m\u001b[1;33m,\u001b[0m \u001b[0maxis\u001b[0m\u001b[1;33m=\u001b[0m\u001b[0maxis\u001b[0m\u001b[1;33m)\u001b[0m\u001b[1;33m\u001b[0m\u001b[1;33m\u001b[0m\u001b[0m\n\u001b[0m\u001b[0;32m    379\u001b[0m     \u001b[1;32melse\u001b[0m\u001b[1;33m:\u001b[0m\u001b[1;33m\u001b[0m\u001b[1;33m\u001b[0m\u001b[0m\n\u001b[0;32m    380\u001b[0m         \u001b[1;32mreturn\u001b[0m \u001b[0m_list_indexing\u001b[0m\u001b[1;33m(\u001b[0m\u001b[0mX\u001b[0m\u001b[1;33m,\u001b[0m \u001b[0mindices\u001b[0m\u001b[1;33m,\u001b[0m \u001b[0mindices_dtype\u001b[0m\u001b[1;33m)\u001b[0m\u001b[1;33m\u001b[0m\u001b[1;33m\u001b[0m\u001b[0m\n",
      "\u001b[1;32m~\\anaconda3\\envs\\hgnn\\lib\\site-packages\\sklearn\\utils\\__init__.py\u001b[0m in \u001b[0;36m_array_indexing\u001b[1;34m(array, key, key_dtype, axis)\u001b[0m\n\u001b[0;32m    200\u001b[0m     \u001b[1;32mif\u001b[0m \u001b[0misinstance\u001b[0m\u001b[1;33m(\u001b[0m\u001b[0mkey\u001b[0m\u001b[1;33m,\u001b[0m \u001b[0mtuple\u001b[0m\u001b[1;33m)\u001b[0m\u001b[1;33m:\u001b[0m\u001b[1;33m\u001b[0m\u001b[1;33m\u001b[0m\u001b[0m\n\u001b[0;32m    201\u001b[0m         \u001b[0mkey\u001b[0m \u001b[1;33m=\u001b[0m \u001b[0mlist\u001b[0m\u001b[1;33m(\u001b[0m\u001b[0mkey\u001b[0m\u001b[1;33m)\u001b[0m\u001b[1;33m\u001b[0m\u001b[1;33m\u001b[0m\u001b[0m\n\u001b[1;32m--> 202\u001b[1;33m     \u001b[1;32mreturn\u001b[0m \u001b[0marray\u001b[0m\u001b[1;33m[\u001b[0m\u001b[0mkey\u001b[0m\u001b[1;33m]\u001b[0m \u001b[1;32mif\u001b[0m \u001b[0maxis\u001b[0m \u001b[1;33m==\u001b[0m \u001b[1;36m0\u001b[0m \u001b[1;32melse\u001b[0m \u001b[0marray\u001b[0m\u001b[1;33m[\u001b[0m\u001b[1;33m:\u001b[0m\u001b[1;33m,\u001b[0m \u001b[0mkey\u001b[0m\u001b[1;33m]\u001b[0m\u001b[1;33m\u001b[0m\u001b[1;33m\u001b[0m\u001b[0m\n\u001b[0m\u001b[0;32m    203\u001b[0m \u001b[1;33m\u001b[0m\u001b[0m\n\u001b[0;32m    204\u001b[0m \u001b[1;33m\u001b[0m\u001b[0m\n",
      "\u001b[1;31mKeyboardInterrupt\u001b[0m: "
     ]
    }
   ],
   "source": [
    "fit_method='concatenate'\n",
    "predict_method='same'\n",
    "run_combos_list(model_type=SVC,names=name_combinations,\n",
    "                feature_list=feature_combinations,times=1,\n",
    "                use_agg=True,agg_fit=fit_method,\n",
    "                agg_pred=predict_method,y_comb=y_comb,use_nested=False)  \n",
    "# run_combos_list(model_type=SVC,names=name_combinations,\n",
    "#                 feature_list=feature_combinations,times=1,\n",
    "#                 use_agg=True,agg_fit=fit_method,\n",
    "#                 agg_pred=predict_method,y_comb=y_comb,use_nested=False)  "
   ]
  },
  {
   "cell_type": "code",
   "execution_count": null,
   "id": "987a006f",
   "metadata": {
    "scrolled": true
   },
   "outputs": [],
   "source": []
  },
  {
   "cell_type": "code",
   "execution_count": null,
   "id": "aabc502e",
   "metadata": {},
   "outputs": [],
   "source": [
    "feature_combinations,name_combinations,y_comb=run_embedding_classiciation(all_stat_dicts[1],X_weight,\n",
    "                                                                   use_prob=True,min_combos=3,max_combos=4)\n"
   ]
  },
  {
   "cell_type": "code",
   "execution_count": null,
   "id": "ade76843",
   "metadata": {},
   "outputs": [],
   "source": [
    "run_combos_list(model_type=LogisticRegression,names=name_combinations,\n",
    "                feature_list=feature_combinations,times=2,\n",
    "                use_agg=True,agg_fit=fit_method,agg_pred=predict_method,y_comb=y_comb,use_nested=True)  "
   ]
  },
  {
   "cell_type": "code",
   "execution_count": null,
   "id": "ccb599aa",
   "metadata": {},
   "outputs": [],
   "source": [
    "feature_combinations,name_combinations,y_comb=run_embedding_classiciation(all_stat_dicts[2],X_weight,\n",
    "                                                                   use_prob=True,min_combos=3,max_combos=4)"
   ]
  },
  {
   "cell_type": "code",
   "execution_count": null,
   "id": "bb88d893",
   "metadata": {},
   "outputs": [],
   "source": [
    "run_combos_list(model_type=LogisticRegression,names=name_combinations,\n",
    "                feature_list=feature_combinations,times=2,\n",
    "                use_agg=True,agg_fit=fit_method,agg_pred=predict_method,y_comb=y_comb,use_nested=True)  "
   ]
  },
  {
   "cell_type": "code",
   "execution_count": null,
   "id": "bdf8dc43",
   "metadata": {},
   "outputs": [],
   "source": [
    "skks\n",
    "feature_combinations,name_combinations,y_comb=run_embedding_classiciation(all_stat_dicts[2],X_weight,\n",
    "                                                                   use_prob=True,min_combos=3,max_combos=4)"
   ]
  },
  {
   "cell_type": "code",
   "execution_count": null,
   "id": "1d8e95de",
   "metadata": {},
   "outputs": [],
   "source": [
    "run_combos_list(model_type=LogisticRegression,names=name_combinations,\n",
    "                feature_list=feature_combinations,times=1,\n",
    "                use_agg=True,agg_fit=fit_method,agg_pred=predict_method,y_comb=y_comb,use_nested=False)  "
   ]
  },
  {
   "cell_type": "code",
   "execution_count": null,
   "id": "1c2f6f5b",
   "metadata": {},
   "outputs": [],
   "source": [
    "feature_combinations,name_combinations,y_comb=run_embedding_classiciation(full_dict,X_weight,\n",
    "                                                                   use_prob=True,min_combos=3,max_combos=4)"
   ]
  },
  {
   "cell_type": "code",
   "execution_count": null,
   "id": "d59efbb9",
   "metadata": {},
   "outputs": [],
   "source": [
    "run_combos_list(model_type=LogisticRegression,names=name_combinations,\n",
    "                feature_list=feature_combinations,times=3,\n",
    "                use_agg=True,agg_fit=fit_method,agg_pred=predict_method,y_comb=y_comb,use_nested=False)  "
   ]
  },
  {
   "cell_type": "code",
   "execution_count": null,
   "id": "5e9b4259",
   "metadata": {},
   "outputs": [],
   "source": [
    "num=1\n",
    "names_short=name_combinations[:num]\n",
    "feats_short=feature_combinations[:num]"
   ]
  },
  {
   "cell_type": "code",
   "execution_count": null,
   "id": "bfcf68d6",
   "metadata": {},
   "outputs": [],
   "source": [
    "run_combos_list(model_type=LogisticRegression,names=name_combinations,\n",
    "                feature_list=feature_combinations,times=1,\n",
    "                use_agg=True,agg_fit=fit_method,agg_pred=predict_method,y_comb=y_comb)  "
   ]
  },
  {
   "cell_type": "code",
   "execution_count": null,
   "id": "29c90d21",
   "metadata": {},
   "outputs": [],
   "source": []
  },
  {
   "cell_type": "code",
   "execution_count": null,
   "id": "7e61ff41",
   "metadata": {},
   "outputs": [],
   "source": []
  },
  {
   "cell_type": "code",
   "execution_count": null,
   "id": "ea556837",
   "metadata": {},
   "outputs": [],
   "source": []
  },
  {
   "cell_type": "code",
   "execution_count": null,
   "id": "cb72f866",
   "metadata": {},
   "outputs": [],
   "source": []
  },
  {
   "cell_type": "code",
   "execution_count": null,
   "id": "7884343d",
   "metadata": {},
   "outputs": [],
   "source": []
  },
  {
   "cell_type": "code",
   "execution_count": null,
   "id": "019168e6",
   "metadata": {},
   "outputs": [],
   "source": []
  },
  {
   "cell_type": "code",
   "execution_count": null,
   "id": "2229f343",
   "metadata": {},
   "outputs": [],
   "source": []
  }
 ],
 "metadata": {
  "kernelspec": {
   "display_name": "Python 3 (ipykernel)",
   "language": "python",
   "name": "python3"
  },
  "language_info": {
   "codemirror_mode": {
    "name": "ipython",
    "version": 3
   },
   "file_extension": ".py",
   "mimetype": "text/x-python",
   "name": "python",
   "nbconvert_exporter": "python",
   "pygments_lexer": "ipython3",
   "version": "3.7.12"
  }
 },
 "nbformat": 4,
 "nbformat_minor": 5
}
