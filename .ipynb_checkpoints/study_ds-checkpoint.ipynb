{
 "cells": [
  {
   "cell_type": "code",
   "execution_count": 60,
   "id": "6ad3f93a",
   "metadata": {},
   "outputs": [
    {
     "name": "stdout",
     "output_type": "stream",
     "text": [
      "The autoreload extension is already loaded. To reload it, use:\n",
      "  %reload_ext autoreload\n"
     ]
    }
   ],
   "source": [
    "\"\"\"\n",
    "This script can be used for recreating the link prediction results for different parameter settings\n",
    "and dimensionality\n",
    "\"\"\"\n",
    "import argparse\n",
    "from datetime import datetime\n",
    "import random\n",
    "import numpy as np\n",
    "import os\n",
    "import time\n",
    "from utils import *\n",
    "from params import *\n",
    "# from params import BAND_TO_OPT_C\n",
    "import sys\n",
    "from datetime import date\n",
    "import pickle\n",
    "import train_inductive\n",
    "# should we not make a seperate config for out \"official runnings\"\n",
    "from trials.hyperparam_config import config\n",
    "import pickle\n",
    "import optuna\n",
    "import copy\n",
    "from utils.train_utils import get_dir_name, format_metrics\n",
    "from main import parse_default_args\n",
    "from hyperparam import create_study_output_dir,create_objective_fun,complete_study_one_arg\n",
    "%load_ext autoreload\n",
    "%autoreload 2\n",
    "%reload_ext autoreload"
   ]
  },
  {
   "cell_type": "code",
   "execution_count": 61,
   "id": "2502fffb",
   "metadata": {},
   "outputs": [],
   "source": [
    "from trials.hyperparam_config import config\n",
    "from main import parse_default_args"
   ]
  },
  {
   "cell_type": "code",
   "execution_count": 62,
   "id": "a20533ae",
   "metadata": {},
   "outputs": [],
   "source": [
    "BAND_TO_OPT_C= { \n",
    "           'alpha':.54,\n",
    "           'gamma':.66,\n",
    "           'beta': .74,\n",
    "            'theta':None\n",
    "}"
   ]
  },
  {
   "cell_type": "code",
   "execution_count": 63,
   "id": "1f4b6f20",
   "metadata": {},
   "outputs": [],
   "source": [
    "hyp_arch_dict={'model':'HGCN','optimizer':'RiemannianAdam','manifold':'PoincareBall'}\n",
    "euc_arch_dict={'model':'GCN','optimizer':'Adam','manifold':'Euclidean'}"
   ]
  },
  {
   "cell_type": "code",
   "execution_count": 64,
   "id": "be2f4417",
   "metadata": {},
   "outputs": [
    {
     "data": {
      "text/plain": [
       "{'setc': {'model': 'HGCN',\n",
       "  'optimizer': 'RiemannianAdam',\n",
       "  'manifold': 'PoincareBall',\n",
       "  'c': 'set'},\n",
       " 'findc': {'model': 'HGCN',\n",
       "  'optimizer': 'RiemannianAdam',\n",
       "  'manifold': 'PoincareBall',\n",
       "  'c': None},\n",
       " '1c': {'model': 'HGCN',\n",
       "  'optimizer': 'RiemannianAdam',\n",
       "  'manifold': 'PoincareBall',\n",
       "  'c': 1},\n",
       " 'euc': {'model': 'GCN', 'optimizer': 'Adam', 'manifold': 'Euclidean', 'c': 0}}"
      ]
     },
     "execution_count": 64,
     "metadata": {},
     "output_type": "execute_result"
    }
   ],
   "source": [
    "arch_types={'full':{'use_weight':1,'use_virtual':1},\n",
    "            'no_virt':{'use_weight':1,'use_virtual':0},\n",
    "                'no_weight':{'use_weight':0,'use_virtual':1}}\n",
    "\n",
    "input_types={'plv':{'use_plv':1,'use_identity':0},'id':{'use_plv':0,'use_identity':1}}\n",
    "\n",
    "\n",
    "curve_types={'setc':{**hyp_arch_dict,'c':'set'},\n",
    "            'findc':{**hyp_arch_dict,'c':None},\n",
    "            '1c':{**hyp_arch_dict,'c':1},\n",
    "             'euc':{**euc_arch_dict,'c':0},\n",
    "            }\n",
    "curve_types"
   ]
  },
  {
   "cell_type": "code",
   "execution_count": 80,
   "id": "72779412",
   "metadata": {},
   "outputs": [
    {
     "name": "stdout",
     "output_type": "stream",
     "text": [
      "None C VAL\n",
      "ds should match manual\n",
      "ds 3\n",
      "compase\n",
      "C: None, ID: 1, PLV 0\n",
      "C: None, ID: 1, PLV 0\n",
      "HGCN_full_findc_id_dp model\n",
      "HGCN_full_findc_id_dp model\n",
      "C:\\Users\\coleb\\OneDrive\\Desktop\\Fall 2021\\Neuro\\hyperBrain\\study\\meg\\ds\\L3\\HGCN_full_findc_id_dp study dir\n",
      "None C VAL\n",
      "ds should match manual\n",
      "ds 3\n",
      "compase\n",
      "C: None, ID: 1, PLV 0\n",
      "C: None, ID: 1, PLV 0\n",
      "HGCN_full_findc_id_dp model\n",
      "HGCN_full_findc_id_dp model\n",
      "C:\\Users\\coleb\\OneDrive\\Desktop\\Fall 2021\\Neuro\\hyperBrain\\study\\meg\\ds\\L3\\HGCN_full_findc_id_dp study dir\n",
      "None C VAL\n",
      "ds should match manual\n",
      "ds 3\n",
      "compase\n",
      "C: None, ID: 0, PLV 1\n",
      "C: None, ID: 0, PLV 1\n",
      "HGCN_full_findc_plv_dp model\n",
      "HGCN_full_findc_plv_dp model\n",
      "C:\\Users\\coleb\\OneDrive\\Desktop\\Fall 2021\\Neuro\\hyperBrain\\study\\meg\\ds\\L3\\HGCN_full_findc_plv_dp study dir\n",
      "None C VAL\n",
      "ds should match manual\n",
      "ds 3\n",
      "compase\n",
      "C: None, ID: 0, PLV 1\n",
      "C: None, ID: 0, PLV 1\n",
      "HGCN_full_findc_plv_dp model\n",
      "HGCN_full_findc_plv_dp model\n",
      "C:\\Users\\coleb\\OneDrive\\Desktop\\Fall 2021\\Neuro\\hyperBrain\\study\\meg\\ds\\L3\\HGCN_full_findc_plv_dp study dir\n"
     ]
    }
   ],
   "source": [
    "# the total number of validation runs that all should have\n",
    "NUM_VALIDATIONS=5\n",
    "criteria={'CogTr':1}\n",
    "set_args={'dataset':'meg',\n",
    "          'task':'ds',\n",
    "          'criteria_dict':criteria}\n",
    "criteria=criteria\n",
    "output_dims=[3]\n",
    "arch_types_to_use=['full']\n",
    "input_types_to_use=['id','plv']\n",
    "curve_types_to_use=['setc','findc']\n",
    "for d in output_dims:\n",
    "    for i in input_types_to_use:\n",
    "        inp_dict=input_types[i]\n",
    "        for c_type in curve_types_to_use:\n",
    "#             print(c,'C')\n",
    "#             print(c_dict,'C DICT?')\n",
    "            c_dict=curve_types[c_type]\n",
    "            print(c_dict,'')\n",
    "            c_val=c_dict['c']\n",
    "            print(c_val,'C VAL')\n",
    "            if c_val=='set':\n",
    "                c_set=BAND_TO_OPT_C['alpha']\n",
    "                c_dict['c']=c_set\n",
    "                \n",
    "            set_args = copy.deepcopy(set_args)\n",
    "            set_args['output_dim']=d\n",
    "            set_args.update(c_dict)\n",
    "            set_args.update(inp_dict)\n",
    "            args = parse_default_args(set_args)\n",
    "#             print(set_args['c'],set_args['use_identity'],set_args['use_plv'])\n",
    "            print('compase')\n",
    "            print('C: {}, ID: {}, PLV {}'.format(set_args['c'],set_args['use_identity'],set_args['use_plv']))\n",
    "            print('C: {}, ID: {}, PLV {}'.format(args.c,args.use_identity,args.use_plv))\n",
    "#             akak\n",
    "            complete_study_one_arg(args,NUM_VALIDATIONS)\n",
    "            \n",
    "            \n",
    "\n",
    "# # c=[1,None,.54]\n",
    "# args = parse_default_args(set_args) ### still need to call this with args for dataset, possibly others\n",
    "# complete_study_one_arg(args,NUM_VALIDATIONS)\n",
    "# # print(args)\n",
    "# # change_task(args,)\n",
    "# # \n",
    "# # setattr(args,'criteria_dict',criteria)"
   ]
  },
  {
   "cell_type": "code",
   "execution_count": null,
   "id": "2382116b",
   "metadata": {},
   "outputs": [],
   "source": []
  },
  {
   "cell_type": "code",
   "execution_count": null,
   "id": "7713a7d8",
   "metadata": {},
   "outputs": [],
   "source": [
    "# def complete_study_one_arg(args,n):\n",
    "#     \"\"\"\n",
    "#     this will run the a study of trains n times\n",
    "#     for one static set of args\n",
    "#     \"\"\"\n",
    "#     create_study_output_dir(args)\n",
    "#     setattr(args,'study_dir',create_study_output_dir(args))\n",
    "#     print(args.study_dir,'study dir')\n",
    "#     # assert os.path.exists(args.study_dir)\n",
    "\n",
    "#     path=args.study_dir\n",
    "#     # path=r\"C:\\Users\\coleb\\OneDrive\\Desktop\\Fall 2021\\Neuro\\hyperBrain\\study\\meg\\L3\\HGCN_novirt_0.54c_id\"\n",
    "#     if os.path.exists(path):\n",
    "#         print(os.path.exists(path),'exists for sure')\n",
    "#         print(os.listdir(path))\n",
    "#         subdirs=[ name for name in os.listdir(path) if os.path.isdir(os.path.join(path, name))]222\n",
    "#         competed=[sd for sd in subdirs if 'finish_train.txt' in os.listdir(sd)]\n",
    "#         num_completed=len(competed)\n",
    "#     else:\n",
    "#         num_completed=0\n",
    "\n",
    "\n",
    "#     n_trial=NUM_VALIDATIONS-num_completions\n",
    "#     for n in range(n_trials):\n",
    "#         args_copy = copy.deepcopy(args)\n",
    "#         args_copy.save_dir = get_dir_name(args.study_dir)"
   ]
  },
  {
   "cell_type": "code",
   "execution_count": null,
   "id": "4bdbd527",
   "metadata": {},
   "outputs": [],
   "source": [
    "# it doesn't really make sense to make one big hyperparameters study of all the possible combinations..\n",
    "# those studys (at the moment, are all supposed to be be in one large directory). We could do a split at a different level\n",
    "# but right now I think it makes the most sense to do this manually.\n",
    "study_args="
   ]
  },
  {
   "cell_type": "code",
   "execution_count": null,
   "id": "57fcf7be",
   "metadata": {},
   "outputs": [],
   "source": []
  },
  {
   "cell_type": "code",
   "execution_count": null,
   "id": "f2a8d0f9",
   "metadata": {},
   "outputs": [],
   "source": []
  }
 ],
 "metadata": {
  "kernelspec": {
   "display_name": "Python 3 (ipykernel)",
   "language": "python",
   "name": "python3"
  },
  "language_info": {
   "codemirror_mode": {
    "name": "ipython",
    "version": 3
   },
   "file_extension": ".py",
   "mimetype": "text/x-python",
   "name": "python",
   "nbconvert_exporter": "python",
   "pygments_lexer": "ipython3",
   "version": "3.7.12"
  }
 },
 "nbformat": 4,
 "nbformat_minor": 5
}
