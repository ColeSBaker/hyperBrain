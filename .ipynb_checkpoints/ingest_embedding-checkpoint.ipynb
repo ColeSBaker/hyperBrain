{
 "cells": [
  {
   "cell_type": "code",
   "execution_count": 1,
   "id": "bc99e2a7",
   "metadata": {},
   "outputs": [],
   "source": [
    "import numpy as np\n",
    "import pandas as pd\n",
    "%matplotlib inline\n",
    "import matplotlib.pyplot as plt\n",
    "from matplotlib import patches as mpatches\n",
    "plt.style.use('seaborn')\n",
    "import seaborn as sns\n",
    "import time\n",
    "import sys\n",
    "import os\n",
    "import scipy.stats as st\n",
    "from \n",
    "# ignore warnings\n",
    "import warnings\n",
    "warnings.filterwarnings('ignore');\n",
    "\n",
    "# display multiple outputs within a cell\n",
    "from IPython.core.interactiveshell import InteractiveShell\n",
    "InteractiveShell.ast_node_interactivity = \"all\";"
   ]
  },
  {
   "cell_type": "code",
   "execution_count": 2,
   "id": "dee45d94",
   "metadata": {},
   "outputs": [],
   "source": [
    "%load_ext autoreload\n",
    "%autoreload 2\n",
    "%reload_ext autoreload"
   ]
  },
  {
   "cell_type": "code",
   "execution_count": 3,
   "id": "4d25dc6c",
   "metadata": {},
   "outputs": [],
   "source": [
    "label_options = {'FN':'Functional Net','SOB':'SOB','FN_SOB':'Func Net SOB','All':'All'}\n",
    "label=label_options['FN']"
   ]
  },
  {
   "cell_type": "code",
   "execution_count": 7,
   "id": "c7cde13c",
   "metadata": {},
   "outputs": [],
   "source": [
    "clinical_file=r'C:\\Users\\coleb\\OneDrive\\Desktop\\Fall 2021\\Neuro\\hgcn\\data\\MEG\\MEG.clinical.csv'\n",
    "clinical_df = pd.read_csv(clinical_file)"
   ]
  },
  {
   "cell_type": "code",
   "execution_count": 8,
   "id": "9c0c6b1c",
   "metadata": {
    "scrolled": true
   },
   "outputs": [],
   "source": [
    "study_dirs=[ r\"C:\\Users\\coleb\\OneDrive\\Desktop\\Fall 2021\\Neuro\\hgcn\\study\\meg\\lp\\alpha_plv_54c_dp\",]"
   ]
  },
  {
   "cell_type": "code",
   "execution_count": 9,
   "id": "a3bdaeb3",
   "metadata": {},
   "outputs": [
    {
     "ename": "NameError",
     "evalue": "name 'multiple_embedding_analysis' is not defined",
     "output_type": "error",
     "traceback": [
      "\u001b[1;31m---------------------------------------------------------------------------\u001b[0m",
      "\u001b[1;31mNameError\u001b[0m                                 Traceback (most recent call last)",
      "\u001b[1;32m~\\AppData\\Local\\Temp\\ipykernel_19504\\1277637718.py\u001b[0m in \u001b[0;36m<module>\u001b[1;34m\u001b[0m\n\u001b[0;32m      2\u001b[0m     \u001b[0msave_dir\u001b[0m\u001b[1;33m=\u001b[0m\u001b[0ms\u001b[0m\u001b[1;33m\u001b[0m\u001b[1;33m\u001b[0m\u001b[0m\n\u001b[0;32m      3\u001b[0m     \u001b[0mall_roots\u001b[0m\u001b[1;33m=\u001b[0m\u001b[1;33m[\u001b[0m\u001b[0mos\u001b[0m\u001b[1;33m.\u001b[0m\u001b[0mpath\u001b[0m\u001b[1;33m.\u001b[0m\u001b[0mjoin\u001b[0m\u001b[1;33m(\u001b[0m\u001b[0ms\u001b[0m\u001b[1;33m,\u001b[0m\u001b[0mr\u001b[0m\u001b[1;33m)\u001b[0m \u001b[1;32mfor\u001b[0m \u001b[0mr\u001b[0m \u001b[1;32min\u001b[0m \u001b[0mos\u001b[0m\u001b[1;33m.\u001b[0m\u001b[0mlistdir\u001b[0m\u001b[1;33m(\u001b[0m\u001b[0ms\u001b[0m\u001b[1;33m)\u001b[0m \u001b[1;32mif\u001b[0m \u001b[1;34m'.csv'\u001b[0m \u001b[1;32mnot\u001b[0m \u001b[1;32min\u001b[0m \u001b[0mr\u001b[0m  \u001b[1;32mand\u001b[0m \u001b[1;33m(\u001b[0m\u001b[1;34m'.json'\u001b[0m \u001b[1;32mnot\u001b[0m \u001b[1;32min\u001b[0m \u001b[0mr\u001b[0m\u001b[1;33m)\u001b[0m \u001b[1;33m]\u001b[0m\u001b[1;33m[\u001b[0m\u001b[1;33m:\u001b[0m\u001b[1;36m2\u001b[0m\u001b[1;33m]\u001b[0m\u001b[1;33m\u001b[0m\u001b[1;33m\u001b[0m\u001b[0m\n\u001b[1;32m----> 4\u001b[1;33m     all_stat_dicts,full_dict,all_stat_dfs,full_stat_df = multiple_embedding_analysis(all_roots,clinical_df,label,net_threshold=.29,\n\u001b[0m\u001b[0;32m      5\u001b[0m                                    \u001b[0mtemplate_df\u001b[0m\u001b[1;33m=\u001b[0m\u001b[0mtemplate_df\u001b[0m\u001b[1;33m,\u001b[0m\u001b[1;33m\u001b[0m\u001b[1;33m\u001b[0m\u001b[0m\n\u001b[0;32m      6\u001b[0m                                    \u001b[0mbin_rank_threshold\u001b[0m\u001b[1;33m=\u001b[0m\u001b[1;36m10\u001b[0m\u001b[1;33m,\u001b[0m\u001b[1;33m\u001b[0m\u001b[1;33m\u001b[0m\u001b[0m\n",
      "\u001b[1;31mNameError\u001b[0m: name 'multiple_embedding_analysis' is not defined"
     ]
    }
   ],
   "source": [
    "for s in study_dirs[:1]:\n",
    "    save_dir=s\n",
    "    all_roots=[os.path.join(s,r) for r in os.listdir(s) if '.csv' not in r  and ('.json' not in r) ][:2]\n",
    "    all_stat_dicts,full_dict,all_stat_dfs,full_stat_df = multiple_embedding_analysis(all_roots,clinical_df,label,net_threshold=.29,\n",
    "                                   template_df=template_df,\n",
    "                                   bin_rank_threshold=10,\n",
    "                                    use_binary=False,suffix='.csv',balanced_atl=True,average=True)"
   ]
  },
  {
   "cell_type": "code",
   "execution_count": null,
   "id": "1b673a74",
   "metadata": {},
   "outputs": [],
   "source": []
  }
 ],
 "metadata": {
  "kernelspec": {
   "display_name": "Python 3 (ipykernel)",
   "language": "python",
   "name": "python3"
  },
  "language_info": {
   "codemirror_mode": {
    "name": "ipython",
    "version": 3
   },
   "file_extension": ".py",
   "mimetype": "text/x-python",
   "name": "python",
   "nbconvert_exporter": "python",
   "pygments_lexer": "ipython3",
   "version": "3.7.12"
  }
 },
 "nbformat": 4,
 "nbformat_minor": 5
}
