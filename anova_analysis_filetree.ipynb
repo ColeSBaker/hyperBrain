{
 "cells": [
  {
   "cell_type": "code",
   "execution_count": 11,
   "id": "53b654f8",
   "metadata": {},
   "outputs": [
    {
     "name": "stdout",
     "output_type": "stream",
     "text": [
      "The autoreload extension is already loaded. To reload it, use:\n",
      "  %reload_ext autoreload\n"
     ]
    }
   ],
   "source": [
    "import numpy as np\n",
    "import pandas as pd\n",
    "import argparse\n",
    "import json\n",
    "from datetime import datetime\n",
    "from copy import deepcopy\n",
    "import random\n",
    "import os\n",
    "%matplotlib inline\n",
    "import matplotlib.pyplot as plt\n",
    "from matplotlib import patches as mpatches\n",
    "plt.style.use('seaborn')\n",
    "import seaborn as sns\n",
    "import time\n",
    "import sys\n",
    "%load_ext autoreload\n",
    "%autoreload 2\n",
    "%reload_ext autoreload\n",
    "import warnings\n",
    "warnings.filterwarnings('ignore');\n",
    "\n",
    "# display multiple outputs within a cell\n",
    "from IPython.core.interactiveshell import InteractiveShell\n",
    "InteractiveShell.ast_node_interactivity = \"all\";"
   ]
  },
  {
   "cell_type": "code",
   "execution_count": 13,
   "id": "a3a8364c",
   "metadata": {},
   "outputs": [
    {
     "name": "stdout",
     "output_type": "stream",
     "text": [
      "The autoreload extension is already loaded. To reload it, use:\n",
      "  %reload_ext autoreload\n"
     ]
    }
   ],
   "source": [
    "%load_ext autoreload\n",
    "%autoreload 2\n",
    "# from params import MEGLpParams\n",
    "from utils.stat_utils import metric_analysis,slice_metric_df"
   ]
  },
  {
   "cell_type": "code",
   "execution_count": 14,
   "id": "8ef81568",
   "metadata": {},
   "outputs": [],
   "source": [
    "DATA_ROOT=r'C:\\Users\\coleb\\OneDrive\\Desktop\\Fall 2021\\Neuro\\hyperBrain\\data\\MEG'\n",
    "clinical_file=os.path.join(DATA_ROOT,'MEG.clinical.csv')\n",
    "clinical_df = pd.read_csv(clinical_file)"
   ]
  },
  {
   "cell_type": "code",
   "execution_count": null,
   "id": "6852ec49",
   "metadata": {
    "scrolled": false
   },
   "outputs": [],
   "source": [
    "# ## let's just start with one directory..\n",
    "# embedding_dir=r'C:\\Users\\coleb\\OneDrive\\Desktop\\Fall 2021\\Neuro\\hyperBrain\\study\\meg\\ds\\pats_CogTr1\\L3\\HGCN_full_findc_id_dp'\n",
    "# emb_stat_paths=[os.path.join(embedding_dir,f) for f in os.listdir(embedding_dir) if 'embedding_stats_' in f]\n",
    "# if emb_stat_paths:\n",
    "#     if len(emb_stat_paths)>1:\n",
    "#         print('should only be one embedding path but so what')\n",
    "#     print(os.path.exists(emb_stat_paths[0]))\n",
    "#     print(emb_stat_paths[0])\n",
    "#     stat_df=pd.read_csv(emb_stat_paths[0])\n",
    "#     output_dir=os.path.join(embedding_dir,\"outputs\",\"stat_analysis\")\n",
    "#     if not os.path.exists(output_dir):\n",
    "#         os.makedirs(output_dir)\n",
    "#     plot_save_path=os.path.join(output_dir,'anova_plot')\n",
    "#     df_save_path=os.path.join(output_dir,'anova_df')\n",
    "#     title='RM ANOVA analysis'\n",
    "    \n",
    "#     slice_metric_df(stat_df,label_col='diagnosis',title=title,plot_save_path=plot_save_path,df_save_path=df_save_path)"
   ]
  },
  {
   "cell_type": "code",
   "execution_count": 6,
   "id": "f767ee24",
   "metadata": {},
   "outputs": [],
   "source": [
    "def run_anova(emb_stats,output_dir,title='',label_col='diagnosis',cond_dict={}):\n",
    "    \"\"\"\n",
    "    emb_stats either path or pandas dataframe\n",
    "    \"\"\"\n",
    "#     embedding_dir=r'C:\\Users\\coleb\\OneDrive\\Desktop\\Fall 2021\\Neuro\\hyperBrain\\study\\meg\\ds\\pats_CogTr1\\L3\\HGCN_full_findc_id_dp'\n",
    "#     emb_stat_paths=[os.path.join(embedding_dir,f) for f in os.listdir(embedding_dir) if 'embedding_stats_' in f]\n",
    "#     print(emb_stats,'STAT PATH')\n",
    "#     if\n",
    "    if type(emb_stats)==str:\n",
    "        stat_df=pd.read_csv(emb_stats)\n",
    "    else:\n",
    "        stat_df=deepcopy(emb_stats)\n",
    "    \n",
    "    if not os.path.exists(output_dir):\n",
    "        os.makedirs(output_dir)\n",
    "    plot_save_path=os.path.join(output_dir,'anova_plot'+title)\n",
    "    df_save_path=os.path.join(output_dir,'anova_df'+title)\n",
    "    if not title:\n",
    "        title='RM ANOVA analysis'\n",
    "    print(stat_df.shape,'STAT DICT BEFORE')\n",
    "    stat_df_before=stat_df\n",
    "    for condition,val in cond_dict.items():\n",
    "        stat_df=stat_df[stat_df[condition]==val]\n",
    "        title='{}_{}{}'.format(title,condition,val)\n",
    "#         title=title+'_'+condition+'=='+val\n",
    "#     print(cond_dict)\n",
    "#     print(title)\n",
    "    print(stat_df_before.shape,'BEFORE HAND')\n",
    "    print(stat_df.shape,'STAT SHAPE AFTER COND')\n",
    "    if not stat_df.shape[0]:\n",
    "        print(stat_df_before,'WHAT HAPPENED TO EEVRYTHINGN')\n",
    "    \n",
    "#     assert False\n",
    "#     return\n",
    "\n",
    "    slice_metric_df(stat_df,label_col=label_col,title=title,plot_save_path=plot_save_path,df_save_path=df_save_path)"
   ]
  },
  {
   "cell_type": "code",
   "execution_count": 33,
   "id": "df5c1f0d",
   "metadata": {},
   "outputs": [],
   "source": [
    "def run_anova_run_dir(run_dir,cond_dict={}):\n",
    "    files=os.listdir(run_dir)\n",
    "    outdir=os.path.join(run_dir,\"outputs\",\"stat_analysis\")\n",
    "    assert 'config.json' in files\n",
    "    assert 'embeddings' in files\n",
    "    embeddings_dir=os.path.join(run_dir,'embeddings')\n",
    "    emb_stat_paths=[os.path.join(embeddings_dir,f) for f in os.listdir(embeddings_dir) if ('embedding_stats_' in f) and ('.csv' in f)]\n",
    "#     assert emb_stat_paths,'change this later, should be able to handle things that dont exist'\n",
    "    if len(emb_stat_paths)>1:\n",
    "        print('should only be one embedding path but so what')\n",
    "#     emb_stat_df=pd.read_csv(emb_stat_paths[0])\n",
    "    emb_stat_df=pd.read_csv(os.path.join(run_dir,'scan_info_full.csv'))\n",
    "    \n",
    "    with open(os.path.join(run_dir,'config.json')) as f:\n",
    "        config=json.load(f)\n",
    "        \n",
    "    if config['train_only']:\n",
    "        title='All Embeddings (train_only)'\n",
    "        run_anova(emb_stat_df,output_dir=outdir,title=title,label_col='diagnosis',cond_dict=cond_dict)\n",
    "    else:\n",
    "        for group,members in config['idxs_dict'].items():\n",
    "            member_set=set(members)\n",
    "            emb_stat_df_sub=emb_stat_df[emb_stat_df['Scan Index'].isin(member_set)]\n",
    "            title='{} Embeddings'.format(group)\n",
    "            print(group)\n",
    "            print(len(member_set),emb_stat_df_sub.shape,'member shapes')\n",
    "            if len(member_set)<8:\n",
    "                  print('too small to judge!')\n",
    "                  continue\n",
    "            run_anova(emb_stat_df_sub,output_dir=outdir,title=title,label_col='diagnosis',cond_dict=cond_dict)\n",
    "    print(config)\n",
    "    "
   ]
  },
  {
   "cell_type": "code",
   "execution_count": 36,
   "id": "08c06882",
   "metadata": {},
   "outputs": [
    {
     "ename": "KeyError",
     "evalue": "'Scan Index'",
     "output_type": "error",
     "traceback": [
      "\u001b[1;31m---------------------------------------------------------------------------\u001b[0m",
      "\u001b[1;31mKeyError\u001b[0m                                  Traceback (most recent call last)",
      "\u001b[1;32m~\\anaconda3\\envs\\hgcn_test\\lib\\site-packages\\pandas\\core\\indexes\\base.py\u001b[0m in \u001b[0;36mget_loc\u001b[1;34m(self, key, method, tolerance)\u001b[0m\n\u001b[0;32m   3360\u001b[0m             \u001b[1;32mtry\u001b[0m\u001b[1;33m:\u001b[0m\u001b[1;33m\u001b[0m\u001b[1;33m\u001b[0m\u001b[0m\n\u001b[1;32m-> 3361\u001b[1;33m                 \u001b[1;32mreturn\u001b[0m \u001b[0mself\u001b[0m\u001b[1;33m.\u001b[0m\u001b[0m_engine\u001b[0m\u001b[1;33m.\u001b[0m\u001b[0mget_loc\u001b[0m\u001b[1;33m(\u001b[0m\u001b[0mcasted_key\u001b[0m\u001b[1;33m)\u001b[0m\u001b[1;33m\u001b[0m\u001b[1;33m\u001b[0m\u001b[0m\n\u001b[0m\u001b[0;32m   3362\u001b[0m             \u001b[1;32mexcept\u001b[0m \u001b[0mKeyError\u001b[0m \u001b[1;32mas\u001b[0m \u001b[0merr\u001b[0m\u001b[1;33m:\u001b[0m\u001b[1;33m\u001b[0m\u001b[1;33m\u001b[0m\u001b[0m\n",
      "\u001b[1;32m~\\anaconda3\\envs\\hgcn_test\\lib\\site-packages\\pandas\\_libs\\index.pyx\u001b[0m in \u001b[0;36mpandas._libs.index.IndexEngine.get_loc\u001b[1;34m()\u001b[0m\n",
      "\u001b[1;32m~\\anaconda3\\envs\\hgcn_test\\lib\\site-packages\\pandas\\_libs\\index.pyx\u001b[0m in \u001b[0;36mpandas._libs.index.IndexEngine.get_loc\u001b[1;34m()\u001b[0m\n",
      "\u001b[1;32mpandas\\_libs\\hashtable_class_helper.pxi\u001b[0m in \u001b[0;36mpandas._libs.hashtable.PyObjectHashTable.get_item\u001b[1;34m()\u001b[0m\n",
      "\u001b[1;32mpandas\\_libs\\hashtable_class_helper.pxi\u001b[0m in \u001b[0;36mpandas._libs.hashtable.PyObjectHashTable.get_item\u001b[1;34m()\u001b[0m\n",
      "\u001b[1;31mKeyError\u001b[0m: 'Scan Index'",
      "\nThe above exception was the direct cause of the following exception:\n",
      "\u001b[1;31mKeyError\u001b[0m                                  Traceback (most recent call last)",
      "\u001b[1;32m~\\AppData\\Local\\Temp\\ipykernel_10076\\3788005543.py\u001b[0m in \u001b[0;36m<module>\u001b[1;34m\u001b[0m\n\u001b[0;32m      9\u001b[0m \u001b[0mrun_dir\u001b[0m\u001b[1;33m=\u001b[0m\u001b[1;34mr'C:\\Users\\coleb\\OneDrive\\Desktop\\Fall 2021\\Neuro\\hyperBrain\\study\\meg\\lp\\test\\pats_CogTr1\\L3\\HGCN_full_findc_id_dp\\e100_p6_lr0.021_val_excl_group_strchinp95_strchloss95_b8_lmse_pnuni\\0'\u001b[0m\u001b[1;33m\u001b[0m\u001b[1;33m\u001b[0m\u001b[0m\n\u001b[0;32m     10\u001b[0m \u001b[0mcond_dict\u001b[0m\u001b[1;33m=\u001b[0m\u001b[1;33m{\u001b[0m\u001b[1;34m'CogTr'\u001b[0m\u001b[1;33m:\u001b[0m\u001b[1;36m1\u001b[0m\u001b[1;33m}\u001b[0m\u001b[1;33m\u001b[0m\u001b[1;33m\u001b[0m\u001b[0m\n\u001b[1;32m---> 11\u001b[1;33m \u001b[0mrun_anova_run_dir\u001b[0m\u001b[1;33m(\u001b[0m\u001b[0mrun_dir\u001b[0m\u001b[1;33m,\u001b[0m\u001b[0mcond_dict\u001b[0m\u001b[1;33m)\u001b[0m\u001b[1;33m\u001b[0m\u001b[1;33m\u001b[0m\u001b[0m\n\u001b[0m",
      "\u001b[1;32m~\\AppData\\Local\\Temp\\ipykernel_10076\\2408808401.py\u001b[0m in \u001b[0;36mrun_anova_run_dir\u001b[1;34m(run_dir, cond_dict)\u001b[0m\n\u001b[0;32m     21\u001b[0m         \u001b[1;32mfor\u001b[0m \u001b[0mgroup\u001b[0m\u001b[1;33m,\u001b[0m\u001b[0mmembers\u001b[0m \u001b[1;32min\u001b[0m \u001b[0mconfig\u001b[0m\u001b[1;33m[\u001b[0m\u001b[1;34m'idxs_dict'\u001b[0m\u001b[1;33m]\u001b[0m\u001b[1;33m.\u001b[0m\u001b[0mitems\u001b[0m\u001b[1;33m(\u001b[0m\u001b[1;33m)\u001b[0m\u001b[1;33m:\u001b[0m\u001b[1;33m\u001b[0m\u001b[1;33m\u001b[0m\u001b[0m\n\u001b[0;32m     22\u001b[0m             \u001b[0mmember_set\u001b[0m\u001b[1;33m=\u001b[0m\u001b[0mset\u001b[0m\u001b[1;33m(\u001b[0m\u001b[0mmembers\u001b[0m\u001b[1;33m)\u001b[0m\u001b[1;33m\u001b[0m\u001b[1;33m\u001b[0m\u001b[0m\n\u001b[1;32m---> 23\u001b[1;33m             \u001b[0memb_stat_df_sub\u001b[0m\u001b[1;33m=\u001b[0m\u001b[0memb_stat_df\u001b[0m\u001b[1;33m[\u001b[0m\u001b[0memb_stat_df\u001b[0m\u001b[1;33m[\u001b[0m\u001b[1;34m'Scan Index'\u001b[0m\u001b[1;33m]\u001b[0m\u001b[1;33m.\u001b[0m\u001b[0misin\u001b[0m\u001b[1;33m(\u001b[0m\u001b[0mmember_set\u001b[0m\u001b[1;33m)\u001b[0m\u001b[1;33m]\u001b[0m\u001b[1;33m\u001b[0m\u001b[1;33m\u001b[0m\u001b[0m\n\u001b[0m\u001b[0;32m     24\u001b[0m             \u001b[0mtitle\u001b[0m\u001b[1;33m=\u001b[0m\u001b[1;34m'{} Embeddings'\u001b[0m\u001b[1;33m.\u001b[0m\u001b[0mformat\u001b[0m\u001b[1;33m(\u001b[0m\u001b[0mgroup\u001b[0m\u001b[1;33m)\u001b[0m\u001b[1;33m\u001b[0m\u001b[1;33m\u001b[0m\u001b[0m\n\u001b[0;32m     25\u001b[0m             \u001b[0mprint\u001b[0m\u001b[1;33m(\u001b[0m\u001b[0mgroup\u001b[0m\u001b[1;33m)\u001b[0m\u001b[1;33m\u001b[0m\u001b[1;33m\u001b[0m\u001b[0m\n",
      "\u001b[1;32m~\\anaconda3\\envs\\hgcn_test\\lib\\site-packages\\pandas\\core\\frame.py\u001b[0m in \u001b[0;36m__getitem__\u001b[1;34m(self, key)\u001b[0m\n\u001b[0;32m   3456\u001b[0m             \u001b[1;32mif\u001b[0m \u001b[0mself\u001b[0m\u001b[1;33m.\u001b[0m\u001b[0mcolumns\u001b[0m\u001b[1;33m.\u001b[0m\u001b[0mnlevels\u001b[0m \u001b[1;33m>\u001b[0m \u001b[1;36m1\u001b[0m\u001b[1;33m:\u001b[0m\u001b[1;33m\u001b[0m\u001b[1;33m\u001b[0m\u001b[0m\n\u001b[0;32m   3457\u001b[0m                 \u001b[1;32mreturn\u001b[0m \u001b[0mself\u001b[0m\u001b[1;33m.\u001b[0m\u001b[0m_getitem_multilevel\u001b[0m\u001b[1;33m(\u001b[0m\u001b[0mkey\u001b[0m\u001b[1;33m)\u001b[0m\u001b[1;33m\u001b[0m\u001b[1;33m\u001b[0m\u001b[0m\n\u001b[1;32m-> 3458\u001b[1;33m             \u001b[0mindexer\u001b[0m \u001b[1;33m=\u001b[0m \u001b[0mself\u001b[0m\u001b[1;33m.\u001b[0m\u001b[0mcolumns\u001b[0m\u001b[1;33m.\u001b[0m\u001b[0mget_loc\u001b[0m\u001b[1;33m(\u001b[0m\u001b[0mkey\u001b[0m\u001b[1;33m)\u001b[0m\u001b[1;33m\u001b[0m\u001b[1;33m\u001b[0m\u001b[0m\n\u001b[0m\u001b[0;32m   3459\u001b[0m             \u001b[1;32mif\u001b[0m \u001b[0mis_integer\u001b[0m\u001b[1;33m(\u001b[0m\u001b[0mindexer\u001b[0m\u001b[1;33m)\u001b[0m\u001b[1;33m:\u001b[0m\u001b[1;33m\u001b[0m\u001b[1;33m\u001b[0m\u001b[0m\n\u001b[0;32m   3460\u001b[0m                 \u001b[0mindexer\u001b[0m \u001b[1;33m=\u001b[0m \u001b[1;33m[\u001b[0m\u001b[0mindexer\u001b[0m\u001b[1;33m]\u001b[0m\u001b[1;33m\u001b[0m\u001b[1;33m\u001b[0m\u001b[0m\n",
      "\u001b[1;32m~\\anaconda3\\envs\\hgcn_test\\lib\\site-packages\\pandas\\core\\indexes\\base.py\u001b[0m in \u001b[0;36mget_loc\u001b[1;34m(self, key, method, tolerance)\u001b[0m\n\u001b[0;32m   3361\u001b[0m                 \u001b[1;32mreturn\u001b[0m \u001b[0mself\u001b[0m\u001b[1;33m.\u001b[0m\u001b[0m_engine\u001b[0m\u001b[1;33m.\u001b[0m\u001b[0mget_loc\u001b[0m\u001b[1;33m(\u001b[0m\u001b[0mcasted_key\u001b[0m\u001b[1;33m)\u001b[0m\u001b[1;33m\u001b[0m\u001b[1;33m\u001b[0m\u001b[0m\n\u001b[0;32m   3362\u001b[0m             \u001b[1;32mexcept\u001b[0m \u001b[0mKeyError\u001b[0m \u001b[1;32mas\u001b[0m \u001b[0merr\u001b[0m\u001b[1;33m:\u001b[0m\u001b[1;33m\u001b[0m\u001b[1;33m\u001b[0m\u001b[0m\n\u001b[1;32m-> 3363\u001b[1;33m                 \u001b[1;32mraise\u001b[0m \u001b[0mKeyError\u001b[0m\u001b[1;33m(\u001b[0m\u001b[0mkey\u001b[0m\u001b[1;33m)\u001b[0m \u001b[1;32mfrom\u001b[0m \u001b[0merr\u001b[0m\u001b[1;33m\u001b[0m\u001b[1;33m\u001b[0m\u001b[0m\n\u001b[0m\u001b[0;32m   3364\u001b[0m \u001b[1;33m\u001b[0m\u001b[0m\n\u001b[0;32m   3365\u001b[0m         \u001b[1;32mif\u001b[0m \u001b[0mis_scalar\u001b[0m\u001b[1;33m(\u001b[0m\u001b[0mkey\u001b[0m\u001b[1;33m)\u001b[0m \u001b[1;32mand\u001b[0m \u001b[0misna\u001b[0m\u001b[1;33m(\u001b[0m\u001b[0mkey\u001b[0m\u001b[1;33m)\u001b[0m \u001b[1;32mand\u001b[0m \u001b[1;32mnot\u001b[0m \u001b[0mself\u001b[0m\u001b[1;33m.\u001b[0m\u001b[0mhasnans\u001b[0m\u001b[1;33m:\u001b[0m\u001b[1;33m\u001b[0m\u001b[1;33m\u001b[0m\u001b[0m\n",
      "\u001b[1;31mKeyError\u001b[0m: 'Scan Index'"
     ]
    }
   ],
   "source": [
    "# run_dir=r'C:\\Users\\coleb\\OneDrive\\Desktop\\Fall 2021\\Neuro\\hgcn\\study\\meg\\lp\\alpha_plv_54c_dp\\4'\n",
    "# run_dir=r'C:\\Users\\coleb\\OneDrive\\Desktop\\Fall 2021\\Neuro\\hyperBrain\\study\\meg\\lp\\all_pats\\L3\\HGCN_full_0.54c_plv_dp\\e100_p10_lr0.021_vpct0.3_tpct0.2_stretch98_b8\\0'\n",
    "# run_dir=r'C:\\Users\\coleb\\OneDrive\\Desktop\\Fall 2021\\Neuro\\hyperBrain\\study\\meg\\ds\\all_pats\\L3\\HGCN_full_0.54c_id_dp\\0'\n",
    "run_dir=r'C:\\Users\\coleb\\OneDrive\\Desktop\\Fall 2021\\Neuro\\hyperBrain\\study\\meg\\ds\\all_pats\\L3\\HGCN_full_0.54c_plv_dp\\e60_p6_lr0.021_vpct0_tpct0_stretch98_b8\\6'\n",
    "run_dir=r\"C:\\Users\\coleb\\OneDrive\\Desktop\\Fall 2021\\Neuro\\hyperBrain\\study\\meg\\lp\\all_pats\\L3\\HGCN_full_findc_plv_dp\\e100_p6_lr0.021_vpct0.3_tpct0.2_strchinp95_strchloss95_b8\\0\"\n",
    "run_dir=r'C:\\Users\\coleb\\OneDrive\\Desktop\\Fall 2021\\Neuro\\hgcn\\study\\meg\\lp\\pats_CogTr1\\L3\\HGCN_full_0.54c_plv_dp\\e100_p10_lr0.021_vpct0_tpct0_strchinp95_strchloss95_b8\\6'\n",
    "run_dir=r'C:\\Users\\coleb\\OneDrive\\Desktop\\Fall 2021\\Neuro\\hgcn\\study\\meg\\lp\\pats_CogTr1\\L3\\HGCN_full_0.54c_plv_dp\\e100_p10_lr0.021_vpct0_tpct0_strchinp95_strchloss95_b8\\14'\n",
    "run_dir=r'C:\\Users\\coleb\\OneDrive\\Desktop\\Fall 2021\\Neuro\\hyperBrain\\study\\meg\\lp\\test\\all_pats\\L3\\HGCN_full_findc_id_dp\\e100_p6_lr0.021_vpct0.3_tpct0.2_strchinp95_strchloss95_b8_lmse\\1'\n",
    "run_dir=r'C:\\Users\\coleb\\OneDrive\\Desktop\\Fall 2021\\Neuro\\hyperBrain\\study\\meg\\lp\\test\\pats_CogTr1\\L3\\HGCN_full_findc_id_dp\\e100_p6_lr0.021_val_excl_group_strchinp95_strchloss95_b8_lmse_pnuni\\0'\n",
    "cond_dict={'CogTr':1}\n",
    "run_anova_run_dir(run_dir,cond_dict)"
   ]
  },
  {
   "cell_type": "code",
   "execution_count": 9,
   "id": "3da0701f",
   "metadata": {},
   "outputs": [],
   "source": [
    "def run_anova_all_in_subtree(root,insist_substrs=[],cond_dict={}):\n",
    "    for (subroot,dirs,files) in os.walk(root, topdown=True):\n",
    "        \n",
    "        if not insist_substrs:\n",
    "            keep=True\n",
    "        else:\n",
    "            keep=False\n",
    "            for s in insist_substrs:\n",
    "                if s in subroot:\n",
    "                    keep=True\n",
    "        if not keep:\n",
    "            continue\n",
    "        print()\n",
    "        emb_stat_paths=[os.path.join(subroot,f) for f in files if ('embedding_stats_' in f) and ('.csv' in f)]    \n",
    "        if not emb_stat_paths:\n",
    "            continue\n",
    "#         print(subroot,'SUBROOT')\n",
    "#         continue\n",
    "        if len(emb_stat_paths)>1:\n",
    "            print('should only be one embedding path but so what')\n",
    "        for emb_path in emb_stat_paths:\n",
    "            if 'average' in emb_path:\n",
    "                file=os.path.basename(emb_path)\n",
    "#                 print(emb_path)\n",
    "                splits=file.split('_')\n",
    "                print(splits)\n",
    "                avg_indx=splits.index('average')\n",
    "                title= 'Average of {} embeddings'.format(splits[avg_indx+1])\n",
    "            else:\n",
    "                title=''\n",
    "            print(emb_path,'embeds')\n",
    "            print(title,'title')\n",
    "            outdir=os.path.join(subroot,\"outputs\",\"stat_analysis\")\n",
    "            run_anova(emb_path,output_dir=outdir,title=title,label_col='diagnosis',cond_dict=cond_dict)\n"
   ]
  },
  {
   "cell_type": "code",
   "execution_count": 40,
   "id": "234a2379",
   "metadata": {},
   "outputs": [],
   "source": [
    "cond_dict={'CogTr':1}\n",
    "\n",
    "# run_anova_all_in_subtree(r'C:\\Users\\coleb\\OneDrive\\Desktop\\Fall 2021\\Neuro\\hyperBrain\\study\\meg\\ds\\all_pats\\L3\\HGCN_full_0.54c_plv_dp',cond_dict=cond_dict)\n",
    "# run_anova_all_in_subtree(r'C:\\Users\\coleb\\OneDrive\\Desktop\\Fall 2021\\Neuro\\hyperBrain\\study\\meg\\ds\\all_pats\\L3',['e20'],cond_dict)\n",
    "root=r'C:\\Users\\coleb\\OneDrive\\Desktop\\Fall 2021\\Neuro\\hyperBrain\\study\\meg\\ds\\pats_CogTr1\\L3\\HGCN_full_0.54c_plv_dp\\e5_p6_lr0.021_vpct0_tpct0_stretch98_b8'\n",
    "root=r'C:\\Users\\coleb\\OneDrive\\Desktop\\Fall 2021\\Neuro\\hyperBrain\\study\\meg\\ds\\pats_CogTr1\\L3\\HGCN_full_0.54c_id_dp'\n",
    "# root=r'C:\\Users\\coleb\\OneDrive\\Desktop\\Fall 2021\\Neuro\\hyperBrain\\study\\meg\\ds\\pats_CogTr1\\L3'\n",
    "root=r'C:\\Users\\coleb\\OneDrive\\Desktop\\Fall 2021\\Neuro\\hgcn\\logs\\meg\\lp\\2023_2_27'\n",
    "root=r\"C:\\Users\\coleb\\OneDrive\\Desktop\\Fall 2021\\Neuro\\hgcn\\study\\meg\\lp\\all_pats\\L3\\HGCN_full_0.54c_plv_dp\\e100_p10_lr0.021_vpct0_tpct0_strchinp95_strchloss95_b8\"\n",
    "root=r'C:\\Users\\coleb\\OneDrive\\Desktop\\Fall 2021\\Neuro\\hyperBrain\\study\\meg\\ds\\all_pats\\L3\\HGCN_full_0.54c_plv_dp\\e30_p6_lr0.021_vpct0_tpct0_strchinp95_strchloss95_b8'\n",
    "root=r'C:\\Users\\coleb\\OneDrive\\Desktop\\Fall 2021\\Neuro\\hgcn\\study\\meg\\lp\\pats_CogTr1\\L3\\HGCN_full_0.54c_plv_dp\\e100_p10_lr0.021_vpct0_tpct0_strchinp95_strchloss95_b8'\n",
    "root=r'C:\\Users\\coleb\\OneDrive\\Desktop\\Fall 2021\\Neuro\\hgcn\\logs\\meg\\lp\\2023_3_6'\n",
    "root=r'C:\\Users\\coleb\\OneDrive\\Desktop\\Fall 2021\\Neuro\\hyperBrain\\study\\meg\\ds\\all_pats\\L3\\HGCN_full_0.54c_plv_dp\\e100_p6_lr0.021_vpct0_tpct0_strchinp95_strchloss95_b8'\n",
    "# root=r'C:\\Users\\coleb\\OneDrive\\Desktop\\Fall 2021\\Neuro\\hgcn\\study\\meg\\lp\\pats_CogTr1\\L3\\HGCN_full_0.54c_plv_dp\\e100_p10_lr0.021_vpct0_tpct0_strchinp95_strchloss95_b8'\n",
    "# root=r'C:\\Users\\coleb\\OneDrive\\Desktop\\Fall 2021\\Neuro\\hyperBrain\\study\\meg\\lp\\all_pats\\L3\\HGCN_full_findc_plv_dp\\e80_p6_lr0.021_vpct0.2_tpct0.01_strchinp95_strchloss95_b8'\n",
    "# root=r'C:\\Users\\coleb\\OneDrive\\Desktop\\Fall 2021\\Neuro\\hyperBrain\\study\\meg\\lp\\all_pats\\L3\\HGCN_full_0.54c_plv_dp\\e80_p6_lr0.021_vpct0.2_tpct0.01_strchinp95_strchloss95_b8'\n",
    "root=r'C:\\Users\\coleb\\OneDrive\\Desktop\\Fall 2021\\Neuro\\hyperBrain\\study\\meg\\lp\\pats_CogTr1\\L3\\HGCN_full_findc_plv_dp\\e80_p6_lr0.021_val_excl_group_strchinp95_strchloss95_b8'\n",
    "root=r'C:\\Users\\coleb\\OneDrive\\Desktop\\Fall 2021\\Neuro\\hgcn\\study\\meg\\lp\\pats_CogTr1\\L3\\HGCN_full_0.54c_plv_dp\\e100_p10_lr0.021_val_excl_group_strchinp95_strchloss95_b8'\n",
    "root=r'C:\\Users\\coleb\\OneDrive\\Desktop\\Fall 2021\\Neuro\\hyperBrain\\study\\meg\\lp\\pats_CogTr1\\L3\\HGCN_full_0.54c_plvid_dp\\e100_p6_lr0.021_val_excl_group_strchinp95_strchloss95_b8'\n",
    "root=r'C:\\Users\\coleb\\OneDrive\\Desktop\\Fall 2021\\Neuro\\hyperBrain\\study\\meg\\lp\\pats_CogTr1\\L3\\HGCN_full_0.findc_plvid_dp\\e100_p6_lr0.021_val_excl_group_strchinp95_strchloss95_b8'\n",
    "root=r'C:\\Users\\coleb\\OneDrive\\Desktop\\Fall 2021\\Neuro\\hyperBrain\\study\\meg\\lp\\test\\all_pats'\n",
    "root=r'C:\\Users\\coleb\\OneDrive\\Desktop\\Fall 2021\\Neuro\\hyperBrain\\study\\meg\\lp\\test\\pats_CogTr1\\L3\\HGCN_full_findc_plvid_dp'\n",
    "root=r'C:\\Users\\coleb\\OneDrive\\Desktop\\Fall 2021\\Neuro\\hyperBrain\\study\\meg\\lp\\test\\pats_CogTr1\\L3\\HGCN_full_findc_id_dp\\e100_p6_lr0.021_val_excl_group_strchinp95_strchloss95_b8_lmse_pnuni'\n",
    "root=r'C:\\Users\\coleb\\OneDrive\\Desktop\\Fall 2021\\Neuro\\hyperBrain\\study\\meg\\lp\\test\\pats_CogTr1\\L3\\HGCN_full_findc_plvid_dp\\e100_p6_lr0.021_val_excl_group_strchinp95_strchloss95_b8_lmse_pnuni'\n",
    "run_anova_all_in_subtree(root,cond_dict=cond_dict)"
   ]
  },
  {
   "cell_type": "code",
   "execution_count": 47,
   "id": "a95b02f3",
   "metadata": {},
   "outputs": [],
   "source": [
    "# root=r'C:\\Users\\coleb\\OneDrive\\Desktop\\Fall 2021\\Neuro\\hyperBrain\\study\\meg\\lp\\all_pats\\L3\\HGCN_full_0.54c_plv_dp\\e100_p10_lr0.021_vpct0.3_tpct0.2_stretch98_b8'\n",
    "# root='C:\\Users\\coleb\\OneDrive\\Desktop\\Fall 2021\\Neuro\\hyperBrain\\study\\meg\\lp\\all_pats\\L3'\n",
    "cond_dict={'CogTr':1}\n",
    "root=r'C:\\Users\\coleb\\OneDrive\\Desktop\\Fall 2021\\Neuro\\hyperBrain\\study\\meg\\ds\\all_pats\\L3\\HGCN_full_0.54c_plv_dp\\e60_p6_lr0.021_vpct0_tpct0_stretch98_b8\\6'\n",
    "root=r'C:\\Users\\coleb\\OneDrive\\Desktop\\Fall 2021\\Neuro\\hyperBrain\\study\\meg\\ds\\all_pats\\L3\\HGCN_full_0.54c_plv_dp\\e50_p6_lr0.021_vpct0_tpct0_strchinp95_strchloss95_b8'\n",
    "root=r\"C:\\Users\\coleb\\OneDrive\\Desktop\\Fall 2021\\Neuro\\hgcn\\study\\meg\\lp\\pats_CogTr1\\L3\\HGCN_full_0.54c_plv_dp\\e100_p10_lr0.021_vpct0_tpct0_strchinp95_strchloss95_b8\"\n",
    "# root=r\"C:\\Users\\coleb\\OneDrive\\Desktop\\Fall 2021\\Neuro\\hgcn\\study\\meg\\lp\\all_pats\\L3\\HGCN_full_0.54c_plv_dp\\e100_p10_lr0.021_vpct0_tpct0_strchinp95_strchloss95_b8\"\n",
    "root=r'C:\\Users\\coleb\\OneDrive\\Desktop\\Fall 2021\\Neuro\\hyperBrain\\study\\meg\\lp\\pats_CogTr1\\L3\\HGCN_full_0.54c_plv_dp\\e80_p6_lr0.021_val_excl_group_strchinp92_strchloss95_b8'\n",
    "root=r'C:\\Users\\coleb\\OneDrive\\Desktop\\Fall 2021\\Neuro\\hyperBrain\\study\\meg\\lp\\pats_CogTr1\\L3\\HGCN_full_findc_plv_dp\\e80_p6_lr0.021_val_excl_group_strchinp97_strchloss95_b8'\n",
    "root=r'C:\\Users\\coleb\\OneDrive\\Desktop\\Fall 2021\\Neuro\\hyperBrain\\study\\meg\\lp\\pats_CogTr1\\L3\\HGCN_full_0.54c_plvid_dp\\e100_p6_lr0.021_val_excl_group_strchinp95_strchloss95_b8'\n",
    "# root=r'C:\\Users\\coleb\\OneDrive\\Desktop\\Fall 2021\\Neuro\\hyperBrain\\study\\meg\\lp\\pats_CogTr1\\L3\\HGCN_full_findc_plvid_dp\\e100_p6_lr0.021_val_excl_group_strchinp95_strchloss95_b8'\n",
    "root=r'C:\\Users\\coleb\\OneDrive\\Desktop\\Fall 2021\\Neuro\\hyperBrain\\study\\meg\\lp\\test\\pats_CogTr1\\L3\\HGCN_full_findc_id_dp\\e100_p7_lr0.021_val_excl_group_strchinp95_strchloss95_b8_lmse_pneq'\n",
    "root=r'C:\\Users\\coleb\\OneDrive\\Desktop\\Fall 2021\\Neuro\\hyperBrain\\study\\meg\\lp\\test\\pats_CogTr1\\L2\\HGCN_full_findc_id_dp\\e100_p7_lr0.021_val_excl_group_strchinp95_strchloss95_b8_lmse_pneq'\n",
    "root=r' C:\\Users\\coleb\\OneDrive\\Desktop\\Fall 2021\\Neuro\\hyperBrain\\study\\meg\\lp\\test\\all_pats\\L4\\HGCN_full_findc_id_dp\\e100_p2fr5_lr0.01_vpct0.3_tpct0.2_strchinp95_strchloss95_bn_lmse_pneq'\n",
    "run_anova_all_in_subtree(root,cond_dict=cond_dict)"
   ]
  },
  {
   "cell_type": "code",
   "execution_count": null,
   "id": "e01dcd3f",
   "metadata": {},
   "outputs": [],
   "source": []
  },
  {
   "cell_type": "code",
   "execution_count": null,
   "id": "e797187a",
   "metadata": {},
   "outputs": [],
   "source": []
  }
 ],
 "metadata": {
  "kernelspec": {
   "display_name": "Python 3 (ipykernel)",
   "language": "python",
   "name": "python3"
  },
  "language_info": {
   "codemirror_mode": {
    "name": "ipython",
    "version": 3
   },
   "file_extension": ".py",
   "mimetype": "text/x-python",
   "name": "python",
   "nbconvert_exporter": "python",
   "pygments_lexer": "ipython3",
   "version": "3.7.12"
  }
 },
 "nbformat": 4,
 "nbformat_minor": 5
}
