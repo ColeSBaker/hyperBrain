{
 "cells": [
  {
   "cell_type": "code",
   "execution_count": 60,
   "id": "6ad3f93a",
   "metadata": {},
   "outputs": [
    {
     "name": "stdout",
     "output_type": "stream",
     "text": [
      "The autoreload extension is already loaded. To reload it, use:\n",
      "  %reload_ext autoreload\n"
     ]
    }
   ],
   "source": [
    "\"\"\"\n",
    "This script can be used for recreating the link prediction results for different parameter settings\n",
    "and dimensionality\n",
    "\"\"\"\n",
    "import argparse\n",
    "from datetime import datetime\n",
    "import random\n",
    "import numpy as np\n",
    "import os\n",
    "import time\n",
    "from utils import *\n",
    "from params import *\n",
    "# from params import BAND_TO_OPT_C\n",
    "import sys\n",
    "from datetime import date\n",
    "import pickle\n",
    "import train_inductive\n",
    "# should we not make a seperate config for out \"official runnings\"\n",
    "from trials.hyperparam_config import config\n",
    "import pickle\n",
    "import optuna\n",
    "import copy\n",
    "from utils.train_utils import get_dir_name, format_metrics\n",
    "from main import parse_default_args\n",
    "from hyperparam import create_study_output_dir,create_objective_fun,complete_study_one_arg\n",
    "%load_ext autoreload\n",
    "%autoreload 2\n",
    "%reload_ext autoreload"
   ]
  },
  {
   "cell_type": "code",
   "execution_count": 61,
   "id": "2502fffb",
   "metadata": {},
   "outputs": [],
   "source": [
    "from trials.hyperparam_config import config\n",
    "from main import parse_default_args"
   ]
  },
  {
   "cell_type": "code",
   "execution_count": 62,
   "id": "431f2da3",
   "metadata": {},
   "outputs": [],
   "source": [
    "BAND_TO_OPT_C= { \n",
    "           'alpha':.54,\n",
    "           'gamma':.66,\n",
    "           'beta': .74,\n",
    "            'theta':None\n",
    "}"
   ]
  },
  {
   "cell_type": "code",
   "execution_count": 63,
   "id": "d2dd14b5",
   "metadata": {},
   "outputs": [],
   "source": [
    " "
   ]
  },
  {
   "cell_type": "code",
   "execution_count": 64,
   "id": "248eef17",
   "metadata": {},
   "outputs": [
    {
     "data": {
      "text/plain": [
       "{'setc': {'model': 'HGCN',\n",
       "  'optimizer': 'RiemannianAdam',\n",
       "  'manifold': 'PoincareBall',\n",
       "  'c': 'set'},\n",
       " 'findc': {'model': 'HGCN',\n",
       "  'optimizer': 'RiemannianAdam',\n",
       "  'manifold': 'PoincareBall',\n",
       "  'c': None},\n",
       " '1c': {'model': 'HGCN',\n",
       "  'optimizer': 'RiemannianAdam',\n",
       "  'manifold': 'PoincareBall',\n",
       "  'c': 1},\n",
       " 'euc': {'model': 'GCN', 'optimizer': 'Adam', 'manifold': 'Euclidean', 'c': 0}}"
      ]
     },
     "execution_count": 64,
     "metadata": {},
     "output_type": "execute_result"
    }
   ],
   "source": [
    "arch_types={'full':{'use_weight':1,'use_virtual':1},\n",
    "            'no_virt':{'use_weight':1,'use_virtual':0},\n",
    "                'no_weight':{'use_weight':0,'use_virtual':1}}\n",
    "\n",
    "input_types={'plv':{'use_plv':1,'use_identity':0},'id':{'use_plv':0,'use_identity':1}}\n",
    "\n",
    "\n",
    "curve_types={'setc':{**hyp_arch_dict,'c':'set'},\n",
    "            'findc':{**hyp_arch_dict,'c':None},\n",
    "            '1c':{**hyp_arch_dict,'c':1},\n",
    "             'euc':{**euc_arch_dict,'c':0},\n",
    "            }\n",
    "curve_types"
   ]
  },
  {
   "cell_type": "code",
   "execution_count": null,
   "id": "72779412",
   "metadata": {},
   "outputs": [
    {
     "name": "stderr",
     "output_type": "stream",
     "text": [
      "INFO:root:Using: cpu\n",
      "INFO:root:Using seed 1234.\n"
     ]
    },
    {
     "name": "stdout",
     "output_type": "stream",
     "text": [
      "0.54 C VAL\n",
      "ds should match manual\n",
      "ds 3\n",
      "compase\n",
      "C: 0.54, ID: 1, PLV 0\n",
      "C: 0.54, ID: 1, PLV 0\n",
      "HGCN_full_0.54c_id_dp model\n",
      "HGCN_full_0.54c_id_dp model\n",
      "C:\\Users\\coleb\\OneDrive\\Desktop\\Fall 2021\\Neuro\\hyperBrain\\study\\meg\\ds\\L3\\HGCN_full_0.54c_id_dp study dir\n",
      "True exists for sure\n",
      "['10', '2', '3', '4', '5', '6', '7', '8', '9']\n",
      "meg ARG DATASET\n",
      "in here \n",
      "graph DATA NAME\n",
      "Unnamed: 0                               0\n",
      "Names            ['Left Precentral gyrus']\n",
      "Nicknames                       ['lPreCG']\n",
      "Index                                    0\n",
      "X                                 -0.03893\n",
      "Y                                -0.006961\n",
      "Z                                  0.04964\n",
      "Source Count                            32\n",
      "DMN Pct                                0.0\n",
      "pDMN Pct                               0.0\n",
      "aDMN Pct                               0.0\n",
      "DAN Pct                             0.3125\n",
      "FPN Pct                            0.09375\n",
      "VN Pct                                 0.0\n",
      "VAN Pct                             0.5625\n",
      "SN Pct                                 0.0\n",
      "SMN Pct                             0.1875\n",
      "DMN Rank                                37\n",
      "pDMN Rank                             26.0\n",
      "aDMN Rank                             13.0\n",
      "DAN Rank                               8.0\n",
      "FPN Rank                              29.0\n",
      "VN Rank                               19.0\n",
      "VAN Rank                               3.0\n",
      "SN Rank                               23.0\n",
      "SMN Rank                               8.0\n",
      "RoiID                                  0_r\n",
      "node_index                               0\n",
      "BalancedName             Precentralgyrus']\n",
      "pDMN Pct Bal                           0.0\n",
      "aDMN Pct Bal                           0.0\n",
      "DAN Pct Bal                       0.322917\n",
      "FPN Pct Bal                        0.23206\n",
      "VN Pct Bal                             0.0\n",
      "VAN Pct Bal                       0.503472\n",
      "SN Pct Bal                             0.0\n",
      "SMN Pct Bal                       0.149306\n",
      "pDMN Rank Bal                         29.0\n",
      "aDMN Rank Bal                         15.0\n",
      "DAN Rank Bal                           5.0\n",
      "FPN Rank Bal                          17.0\n",
      "VN Rank Bal                           21.0\n",
      "VAN Rank Bal                           3.0\n",
      "SN Rank Bal                           27.0\n",
      "SMN Rank Bal                           7.0\n",
      "Name: 0, dtype: object\n",
      "    Index         X         Y         Z\n",
      "0       0 -0.038930 -0.006961  0.049640\n",
      "1       1  0.041101 -0.009550  0.050810\n",
      "2       2 -0.018773  0.033490  0.040954\n",
      "3       3  0.021603  0.029910  0.042504\n",
      "4       4 -0.016825  0.045919 -0.014719\n",
      "..    ...       ...       ...       ...\n",
      "85     85  0.057160 -0.038566 -0.002775\n",
      "86     86 -0.036744  0.013301 -0.035367\n",
      "87     87  0.044040  0.013247 -0.033518\n",
      "88     88 -0.050036 -0.029292 -0.024519\n",
      "89     89  0.053382 -0.032139 -0.023731\n",
      "\n",
      "[90 rows x 4 columns]\n",
      "Namespace(act='selu', adj_threshold=0.329, all_file='C:\\\\Users\\\\coleb\\\\OneDrive\\\\Desktop\\\\Fall 2021\\\\Neuro\\\\hyperBrain\\\\data/MEG/meg_all_MEG_0.329.json', alpha=0.2, band='alpha', batch_size=8, bias=1, c=0.54, criteria_dict={'CogTr': 1}, cuda=0, data_root='C:\\\\Users\\\\coleb\\\\OneDrive\\\\Desktop\\\\Fall 2021\\\\Neuro\\\\hyperBrain\\\\data/MEG', dataset='meg', dev_file='C:\\\\Users\\\\coleb\\\\OneDrive\\\\Desktop\\\\Fall 2021\\\\Neuro\\\\hyperBrain\\\\data/MEG/meg_valid_MEG_0.329.json', device='cpu', dim=6, distributed_method='None', double_precision=1, dropout=0, edge_type=-1, epochs=100, eval_freq=2, fermi_freq=-1, fermi_use=0, gamma=0.9, grad_clip=100, hyp_act=False, is_inductive=1, is_regression=0, local_agg=0, local_rank=None, log_freq=5, lr=0.021, lr_reduce_freq=20, manifold='PoincareBall', max_per_epoch=-1, metric='plv', min_epochs=2, model='HGCN', momentum=0.999, n_classes=2, n_heads=2, name='2023_02_15_23_46_45_696940', normalization=0, normalize_adj=1, normalize_feats=1, num_feature=91, num_layers=2, optimizer='RiemannianAdam', output_act=None, output_agg=True, output_dim=3, patience=10, pos_weight=0, pretrained_embeddings=None, print_epoch=True, prop_idx=0, r=2, raw_atlas_file='C:\\\\Users\\\\coleb\\\\OneDrive\\\\Desktop\\\\Fall 2021\\\\Neuro\\\\hyperBrain\\\\data/MEG/AALtemplate_balanced.csv', raw_clinical_file='C:\\\\Users\\\\coleb\\\\OneDrive\\\\Desktop\\\\Fall 2021\\\\Neuro\\\\hyperBrain\\\\data/MEG/MEG.clinical.csv', raw_scan_file='C:\\\\Users\\\\coleb\\\\OneDrive\\\\Desktop\\\\Fall 2021\\\\Neuro\\\\hyperBrain\\\\data/MEG/MEG.ROIs.npy', refresh_data=1, save=1, save_dir='C:\\\\Users\\\\coleb\\\\OneDrive\\\\Desktop\\\\Fall 2021\\\\Neuro\\\\hyperBrain\\\\study\\\\meg\\\\ds\\\\L3\\\\HGCN_full_0.54c_id_dp\\\\1', save_id='', save_model=False, seed=1234, split_seed=1234, stretch_pct=98, study_dir='C:\\\\Users\\\\coleb\\\\OneDrive\\\\Desktop\\\\Fall 2021\\\\Neuro\\\\hyperBrain\\\\study\\\\meg\\\\ds\\\\L3\\\\HGCN_full_0.54c_id_dp', sweep_c=0, t=1, task='ds', test_file='C:\\\\Users\\\\coleb\\\\OneDrive\\\\Desktop\\\\Fall 2021\\\\Neuro\\\\hyperBrain\\\\data/MEG/meg_test_MEG_0.329.json', test_prop=0.01, train_file='C:\\\\Users\\\\coleb\\\\OneDrive\\\\Desktop\\\\Fall 2021\\\\Neuro\\\\hyperBrain\\\\data/MEG/meg_train_MEG_0.329.json', train_noise_level=0.01, train_noise_num=0, train_noise_prob=0.5, train_only=1, use_att=0, use_batch=0, use_beta=0, use_ciplv=0, use_coords=0, use_degree=0, use_feats=1, use_frechet_agg=1, use_identity=1, use_norm=0, use_plv=0, use_pretrained=0, use_region=0, use_val=1, use_virtual=1, use_volume=0, use_weight=True, use_weighted_loss=1, val_prop=0.2, val_sub=0, weight_decay=0.0) ARGS\n",
      "reading data...\n",
      "{'CogTr': 1}\n",
      "(92, 64) CLINICAL SHAPE??\n",
      "False EXCLUSION\n",
      "46 HOW MANY DID WE KEEP SHOULD BE 45\n",
      "18.400000000000002 NUM VAL\n",
      "46\n",
      "2\n",
      "4\n",
      "6\n",
      "8\n",
      "10\n",
      "12\n",
      "14\n",
      "16\n",
      "18\n",
      "20\n",
      "now test\n",
      "(2, 64) matching rows\n",
      "\n",
      "\n",
      " now\n",
      "[56, 57, 4, 5, 32, 33, 88, 89, 16, 17, 66, 67, 82, 83, 40, 41, 0, 1, 10, 11]\n",
      "70 20 2 lengths\n",
      "72 20 2 lengths after add test to train\n",
      "92 Cinical shape\n",
      "{'train': [2, 3, 6, 7, 8, 9, 12, 13, 14, 15, 18, 19, 20, 21, 22, 23, 24, 25, 26, 27, 28, 29, 30, 31, 34, 35, 36, 37, 38, 39, 42, 43, 44, 45, 46, 47, 48, 49, 50, 51, 52, 53, 54, 55, 58, 59, 60, 61, 62, 63, 64, 65, 68, 69, 72, 73, 74, 75, 76, 77, 78, 79, 80, 81, 84, 85, 86, 87, 90, 91, 70, 71], 'valid': [56, 57, 4, 5, 32, 33, 88, 89, 16, 17, 66, 67, 82, 83, 40, 41, 0, 1, 10, 11], 'test': [70, 71], 'all': [0, 1, 2, 3, 4, 5, 6, 7, 8, 9, 10, 11, 12, 13, 14, 15, 16, 17, 18, 19, 20, 21, 22, 23, 24, 25, 26, 27, 28, 29, 30, 31, 32, 33, 34, 35, 36, 37, 38, 39, 40, 41, 42, 43, 44, 45, 46, 47, 48, 49, 50, 51, 52, 53, 54, 55, 56, 57, 58, 59, 60, 61, 62, 63, 64, 65, 66, 67, 68, 69, 70, 71, 72, 73, 74, 75, 76, 77, 78, 79, 80, 81, 82, 83, 84, 85, 86, 87, 88, 89, 90, 91]} DICT\n",
      "72 2 20 length\n",
      "{'train': [2, 3, 6, 7, 8, 9, 12, 13, 14, 15, 18, 19, 20, 21, 22, 23, 24, 25, 26, 27, 28, 29, 30, 31, 34, 35, 36, 37, 38, 39, 42, 43, 44, 45, 46, 47, 48, 49, 50, 51, 52, 53, 54, 55, 58, 59, 60, 61, 62, 63, 64, 65, 68, 69, 72, 73, 74, 75, 76, 77, 78, 79, 80, 81, 84, 85, 86, 87, 90, 91, 70, 71], 'valid': [56, 57, 4, 5, 32, 33, 88, 89, 16, 17, 66, 67, 82, 83, 40, 41, 0, 1, 10, 11], 'test': [70, 71], 'all': [0, 1, 2, 3, 4, 5, 6, 7, 8, 9, 10, 11, 12, 13, 14, 15, 16, 17, 18, 19, 20, 21, 22, 23, 24, 25, 26, 27, 28, 29, 30, 31, 32, 33, 34, 35, 36, 37, 38, 39, 40, 41, 42, 43, 44, 45, 46, 47, 48, 49, 50, 51, 52, 53, 54, 55, 56, 57, 58, 59, 60, 61, 62, 63, 64, 65, 66, 67, 68, 69, 70, 71, 72, 73, 74, 75, 76, 77, 78, 79, 80, 81, 82, 83, 84, 85, 86, 87, 88, 89, 90, 91]} index me\n",
      "(180, 90, 90) RIGHTOUT DATA\n",
      "0.3309338126375074 80\n",
      "0.32764641825358093 79\n",
      "0.32456669569015506 78\n",
      "0.316118533987748 75\n",
      "0.34999029636383056 85\n",
      "dict_keys(['mm_strech', 'ms_norm', 'identity', 'add_noise', 'pca_transform']) keys\n",
      "parsing scans as graphs...\n",
      "(90, 90) FEATS SHOULD BE HIGH\n",
      "606\n",
      "(90, 90) FEATS SHOULD BE HIGH\n",
      "535\n",
      "(90, 90) FEATS SHOULD BE HIGH\n",
      "916\n",
      "(90, 90) FEATS SHOULD BE HIGH\n",
      "670\n",
      "(90, 90) FEATS SHOULD BE HIGH\n",
      "879\n",
      "(90, 90) FEATS SHOULD BE HIGH\n",
      "798\n",
      "(90, 90) FEATS SHOULD BE HIGH\n",
      "936\n",
      "(90, 90) FEATS SHOULD BE HIGH\n",
      "875\n",
      "(90, 90) FEATS SHOULD BE HIGH\n",
      "629\n",
      "(90, 90) FEATS SHOULD BE HIGH\n",
      "606\n",
      "(90, 90) FEATS SHOULD BE HIGH\n",
      "655\n",
      "(90, 90) FEATS SHOULD BE HIGH\n",
      "719\n",
      "(90, 90) FEATS SHOULD BE HIGH\n",
      "776\n",
      "(90, 90) FEATS SHOULD BE HIGH\n",
      "798\n",
      "(90, 90) FEATS SHOULD BE HIGH\n",
      "745\n",
      "(90, 90) FEATS SHOULD BE HIGH\n",
      "743\n",
      "(90, 90) FEATS SHOULD BE HIGH\n",
      "646\n",
      "(90, 90) FEATS SHOULD BE HIGH\n",
      "775\n",
      "(90, 90) FEATS SHOULD BE HIGH\n",
      "859\n",
      "(90, 90) FEATS SHOULD BE HIGH\n",
      "880\n",
      "(90, 90) FEATS SHOULD BE HIGH\n",
      "916\n",
      "(90, 90) FEATS SHOULD BE HIGH\n",
      "841\n"
     ]
    },
    {
     "name": "stdout",
     "output_type": "stream",
     "text": [
      "(90, 90) FEATS SHOULD BE HIGH\n",
      "757\n",
      "(90, 90) FEATS SHOULD BE HIGH\n",
      "537\n",
      "(90, 90) FEATS SHOULD BE HIGH\n",
      "692\n",
      "(90, 90) FEATS SHOULD BE HIGH\n",
      "675\n",
      "(90, 90) FEATS SHOULD BE HIGH\n",
      "844\n",
      "(90, 90) FEATS SHOULD BE HIGH\n",
      "955\n",
      "(90, 90) FEATS SHOULD BE HIGH\n",
      "829\n",
      "(90, 90) FEATS SHOULD BE HIGH\n",
      "827\n",
      "(90, 90) FEATS SHOULD BE HIGH\n",
      "768\n",
      "(90, 90) FEATS SHOULD BE HIGH\n",
      "931\n",
      "(90, 90) FEATS SHOULD BE HIGH\n",
      "868\n",
      "(90, 90) FEATS SHOULD BE HIGH\n",
      "861\n",
      "(90, 90) FEATS SHOULD BE HIGH\n",
      "642\n",
      "(90, 90) FEATS SHOULD BE HIGH\n",
      "671\n",
      "(90, 90) FEATS SHOULD BE HIGH\n",
      "790\n",
      "(90, 90) FEATS SHOULD BE HIGH\n",
      "794\n",
      "(90, 90) FEATS SHOULD BE HIGH\n",
      "1026\n",
      "(90, 90) FEATS SHOULD BE HIGH\n",
      "669\n",
      "(90, 90) FEATS SHOULD BE HIGH\n",
      "851\n",
      "(90, 90) FEATS SHOULD BE HIGH\n",
      "778\n",
      "(90, 90) FEATS SHOULD BE HIGH\n",
      "791\n",
      "(90, 90) FEATS SHOULD BE HIGH\n",
      "815\n",
      "(90, 90) FEATS SHOULD BE HIGH\n",
      "877\n",
      "(90, 90) FEATS SHOULD BE HIGH\n",
      "1135\n",
      "(90, 90) FEATS SHOULD BE HIGH\n",
      "929\n",
      "(90, 90) FEATS SHOULD BE HIGH\n",
      "916\n",
      "(90, 90) FEATS SHOULD BE HIGH\n",
      "866\n",
      "(90, 90) FEATS SHOULD BE HIGH\n",
      "865\n",
      "(90, 90) FEATS SHOULD BE HIGH\n",
      "754\n",
      "(90, 90) FEATS SHOULD BE HIGH\n",
      "943\n",
      "(90, 90) FEATS SHOULD BE HIGH\n",
      "1051\n",
      "(90, 90) FEATS SHOULD BE HIGH\n",
      "922\n",
      "(90, 90) FEATS SHOULD BE HIGH\n",
      "832\n",
      "(90, 90) FEATS SHOULD BE HIGH\n",
      "1061\n",
      "(90, 90) FEATS SHOULD BE HIGH\n",
      "1143\n",
      "(90, 90) FEATS SHOULD BE HIGH\n",
      "917\n",
      "(90, 90) FEATS SHOULD BE HIGH\n",
      "853\n",
      "(90, 90) FEATS SHOULD BE HIGH\n",
      "856\n",
      "(90, 90) FEATS SHOULD BE HIGH\n",
      "773\n",
      "(90, 90) FEATS SHOULD BE HIGH\n",
      "865\n",
      "(90, 90) FEATS SHOULD BE HIGH\n",
      "1208\n",
      "(90, 90) FEATS SHOULD BE HIGH\n",
      "941\n",
      "(90, 90) FEATS SHOULD BE HIGH\n",
      "862\n",
      "(90, 90) FEATS SHOULD BE HIGH\n",
      "716\n",
      "(90, 90) FEATS SHOULD BE HIGH\n",
      "786\n",
      "(90, 90) FEATS SHOULD BE HIGH\n",
      "826\n",
      "(90, 90) FEATS SHOULD BE HIGH\n",
      "793\n",
      "(90, 90) FEATS SHOULD BE HIGH\n",
      "859\n",
      "train: 100 %      \n",
      "(90, 90) FEATS SHOULD BE HIGH\n",
      "680\n",
      "(90, 90) FEATS SHOULD BE HIGH\n",
      "692\n",
      "(90, 90) FEATS SHOULD BE HIGH\n",
      "801\n",
      "(90, 90) FEATS SHOULD BE HIGH\n",
      "788\n",
      "(90, 90) FEATS SHOULD BE HIGH\n",
      "842\n",
      "(90, 90) FEATS SHOULD BE HIGH\n",
      "793\n",
      "(90, 90) FEATS SHOULD BE HIGH\n",
      "869\n",
      "(90, 90) FEATS SHOULD BE HIGH\n",
      "812\n",
      "(90, 90) FEATS SHOULD BE HIGH\n",
      "958\n",
      "(90, 90) FEATS SHOULD BE HIGH\n",
      "916\n",
      "(90, 90) FEATS SHOULD BE HIGH\n",
      "883\n",
      "(90, 90) FEATS SHOULD BE HIGH\n",
      "978\n",
      "(90, 90) FEATS SHOULD BE HIGH\n",
      "788\n",
      "(90, 90) FEATS SHOULD BE HIGH\n",
      "721\n",
      "(90, 90) FEATS SHOULD BE HIGH\n",
      "750\n",
      "(90, 90) FEATS SHOULD BE HIGH\n",
      "700\n",
      "(90, 90) FEATS SHOULD BE HIGH\n",
      "869\n",
      "(90, 90) FEATS SHOULD BE HIGH\n",
      "769\n",
      "(90, 90) FEATS SHOULD BE HIGH\n",
      "974\n",
      "(90, 90) FEATS SHOULD BE HIGH\n",
      "983\n",
      "valid: 100 %      \n",
      "(90, 90) FEATS SHOULD BE HIGH\n",
      "655\n",
      "(90, 90) FEATS SHOULD BE HIGH\n",
      "688\n",
      "test: 100 %      \n",
      "92 unique ids\n",
      "92 Final count\n",
      "train SPLIT\n",
      "True HAS TRAIN ONLY\n",
      "1 USES TRAIN ONLY\n",
      "TRAINING ON ALL DATA \n",
      "\n",
      "\n",
      "ALERT ALERT \n",
      "\n",
      "TRAINING ON ALL DATA\n",
      "[0, 1, 2, 3, 4, 5, 6, 7, 8, 9, 10, 11, 12, 13, 14, 15, 16, 17, 18, 19, 20, 21, 22, 23, 24, 25, 26, 27, 28, 29, 30, 31, 32, 33, 34, 35, 36, 37, 38, 39, 40, 41, 42, 43, 44, 45, 46, 47, 48, 49, 50, 51, 52, 53, 54, 55, 56, 57, 58, 59, 60, 61, 62, 63, 64, 65, 66, 67, 68, 69, 70, 71, 72, 73, 74, 75, 76, 77, 78, 79, 80, 81, 82, 83, 84, 85, 86, 87, 88, 89, 90, 91] SELF INDICES\n",
      "['2', '3', '6', '7', '8', '9', '12', '13', '14', '15', '18', '19', '20', '21', '22', '23', '24', '25', '26', '27', '28', '29', '30', '31', '34', '35', '36', '37', '38', '39', '42', '43', '44', '45', '46', '47', '48', '49', '50', '51', '52', '53', '54', '55', '58', '59', '60', '61', '62', '63', '64', '65', '68', '69', '72', '73', '74', '75', '76', '77', '78', '79', '80', '81', '84', '85', '86', '87', '90', '91', '0', '1', '4', '5', '10', '11', '16', '17', '32', '33', '40', '41', '56', '57', '66', '67', '82', '83', '88', '89', '70', '71'] dta set indices\n",
      "dev SPLIT\n",
      "True HAS TRAIN ONLY\n",
      "1 USES TRAIN ONLY\n",
      "[56, 57, 4, 5, 32, 33, 88, 89, 16, 17, 66, 67, 82, 83, 40, 41, 0, 1, 10, 11] SELF INDICES\n",
      "['2', '3', '6', '7', '8', '9', '12', '13', '14', '15', '18', '19', '20', '21', '22', '23', '24', '25', '26', '27', '28', '29', '30', '31', '34', '35', '36', '37', '38', '39', '42', '43', '44', '45', '46', '47', '48', '49', '50', '51', '52', '53', '54', '55', '58', '59', '60', '61', '62', '63', '64', '65', '68', '69', '72', '73', '74', '75', '76', '77', '78', '79', '80', '81', '84', '85', '86', '87', '90', '91', '0', '1', '4', '5', '10', '11', '16', '17', '32', '33', '40', '41', '56', '57', '66', '67', '82', '83', '88', '89', '70', '71'] dta set indices\n",
      "test SPLIT\n",
      "True HAS TRAIN ONLY\n",
      "1 USES TRAIN ONLY\n"
     ]
    },
    {
     "name": "stderr",
     "output_type": "stream",
     "text": [
      "INFO:root:LPModel(\n",
      "  (encoder): HGCN(\n",
      "    (layers): Sequential(\n",
      "      (0): HyperbolicGraphConvolution(\n",
      "        (linear): HypLinear(in_features=91, out_features=3, c=tensor([0.5400]))\n",
      "        (agg): HypAgg(c=tensor([0.5400]))\n",
      "      )\n",
      "    )\n",
      "  )\n",
      "  (dc): FermiDiracDecoder()\n",
      ")\n",
      "INFO:root:Total number of parameters: 278.0\n"
     ]
    },
    {
     "name": "stdout",
     "output_type": "stream",
     "text": [
      "[70, 71] SELF INDICES\n",
      "['2', '3', '6', '7', '8', '9', '12', '13', '14', '15', '18', '19', '20', '21', '22', '23', '24', '25', '26', '27', '28', '29', '30', '31', '34', '35', '36', '37', '38', '39', '42', '43', '44', '45', '46', '47', '48', '49', '50', '51', '52', '53', '54', '55', '58', '59', '60', '61', '62', '63', '64', '65', '68', '69', '72', '73', '74', '75', '76', '77', '78', '79', '80', '81', '84', '85', '86', '87', '90', '91', '0', '1', '4', '5', '10', '11', '16', '17', '32', '33', '40', '41', '56', '57', '66', '67', '82', '83', '88', '89', '70', '71'] dta set indices\n",
      "92 2 20\n",
      "-1 ARG FREQ\n",
      "[91, 6] dims\n",
      "[91, 3] dims after\n",
      "[91, 3] dims\n",
      "[<function selu at 0x000002AB2AF23798>] acts\n",
      "[False] uise acts\n",
      "gn NORMAL TYPE\n",
      "True USE AGG\n",
      "frechet agg True\n",
      "no pruner\n",
      "no trial\n",
      "FermiDiracDecoder()\n",
      "Parameter containing:\n",
      "tensor(1., requires_grad=True) t\n",
      "<generator object Module.parameters at 0x000002AB421C61C8>\n",
      "2.0 1.0 FERMI (non-adjusting) epoch: 0 LR:  [0.021]\n",
      "tensor([0.5400]) MODEL C\n",
      "reset\n",
      "92 train length\n",
      "23\n",
      "train phase of epoch 0: precision 0.578614,roc 0.837962, loss 0.541964, acc 0, ECE 0 #edges 92115, #graphs 23\n",
      "46\n",
      "train phase of epoch 0: precision 0.594365,roc 0.853976, loss 0.434479, acc 0, ECE 0 #edges 184230, #graphs 46\n",
      "69\n",
      "train phase of epoch 0: precision 0.612925,roc 0.865090, loss 0.334748, acc 0, ECE 0 #edges 276345, #graphs 69\n"
     ]
    },
    {
     "name": "stderr",
     "output_type": "stream",
     "text": [
      "INFO:root:Epoch: 0001 lr: 0.021 train phase of epoch 0: precision 0.634017,roc 0.875012, loss 0.279036, acc 0, ECE 0 #edges 368460, #graphs 92 time: 60.3420s\n"
     ]
    },
    {
     "name": "stdout",
     "output_type": "stream",
     "text": [
      "92\n",
      "train phase of epoch 0: precision 0.634017,roc 0.875012, loss 0.279036, acc 0, ECE 0 #edges 368460, #graphs 92\n",
      "92\n",
      "training epoch done in  time: 60.3420s\n",
      "92\n",
      "20\n",
      "0.10419009511986677 0.8173158551810239 loss acc\n",
      "20\n",
      "0.10419009511986677 0.8173158551810239 loss acc\n"
     ]
    },
    {
     "name": "stderr",
     "output_type": "stream",
     "text": [
      "INFO:root:Dev Epoch: 0001 dev phase of epoch 0: precision 0.716180,roc 0.912155, loss 0.104190, acc 0, ECE 0 #edges 80100, #graphs 20\n",
      "INFO:root:Test Epoch: 0001 test phase of epoch 0: precision 0.637121,roc 0.909751, loss 0.108990, acc 0, ECE 0 #edges 8010, #graphs 2\n",
      "INFO:root:Saved model in C:\\Users\\coleb\\OneDrive\\Desktop\\Fall 2021\\Neuro\\hyperBrain\\study\\meg\\ds\\L3\\HGCN_full_0.54c_id_dp\\1\n"
     ]
    },
    {
     "name": "stdout",
     "output_type": "stream",
     "text": [
      "2\n",
      "2.0 1.0 FERMI (non-adjusting) epoch: 1 LR:  [0.021]\n",
      "tensor([0.5400]) MODEL C\n",
      "2\n",
      "reset\n",
      "92 train length\n",
      "23\n",
      "train phase of epoch 1: precision 0.731699,roc 0.919501, loss 0.095981, acc 0, ECE 0 #edges 92115, #graphs 23\n",
      "46\n",
      "train phase of epoch 1: precision 0.737452,roc 0.921176, loss 0.095123, acc 0, ECE 0 #edges 184230, #graphs 46\n",
      "69\n",
      "train phase of epoch 1: precision 0.750518,roc 0.924563, loss 0.092271, acc 0, ECE 0 #edges 276345, #graphs 69\n"
     ]
    },
    {
     "name": "stderr",
     "output_type": "stream",
     "text": [
      "INFO:root:Epoch: 0002 lr: 0.021 train phase of epoch 1: precision 0.756543,roc 0.927726, loss 0.089659, acc 0, ECE 0 #edges 368460, #graphs 92 time: 75.4074s\n"
     ]
    },
    {
     "name": "stdout",
     "output_type": "stream",
     "text": [
      "92\n",
      "train phase of epoch 1: precision 0.756543,roc 0.927726, loss 0.089659, acc 0, ECE 0 #edges 368460, #graphs 92\n",
      "92\n",
      "training epoch done in  time: 75.4083s\n",
      "92\n",
      "20\n",
      "0.08116653753231581 0.8534956304619227 loss acc\n",
      "20\n",
      "0.08116653753231581 0.8534956304619227 loss acc\n"
     ]
    },
    {
     "name": "stderr",
     "output_type": "stream",
     "text": [
      "INFO:root:Dev Epoch: 0002 dev phase of epoch 1: precision 0.789709,roc 0.935864, loss 0.081167, acc 0, ECE 0 #edges 80100, #graphs 20\n",
      "INFO:root:Test Epoch: 0002 test phase of epoch 1: precision 0.717179,roc 0.935726, loss 0.082678, acc 0, ECE 0 #edges 8010, #graphs 2\n",
      "INFO:root:Saved model in C:\\Users\\coleb\\OneDrive\\Desktop\\Fall 2021\\Neuro\\hyperBrain\\study\\meg\\ds\\L3\\HGCN_full_0.54c_id_dp\\1\n"
     ]
    },
    {
     "name": "stdout",
     "output_type": "stream",
     "text": [
      "2\n",
      "2.0 1.0 FERMI (non-adjusting) epoch: 2 LR:  [0.021]\n",
      "tensor([0.5400]) MODEL C\n",
      "2\n",
      "reset\n",
      "92 train length\n",
      "23\n",
      "train phase of epoch 2: precision 0.802650,roc 0.939543, loss 0.078151, acc 0, ECE 0 #edges 92115, #graphs 23\n",
      "46\n",
      "train phase of epoch 2: precision 0.810067,roc 0.942141, loss 0.076603, acc 0, ECE 0 #edges 184230, #graphs 46\n",
      "69\n",
      "train phase of epoch 2: precision 0.814702,roc 0.944236, loss 0.074846, acc 0, ECE 0 #edges 276345, #graphs 69\n"
     ]
    },
    {
     "name": "stderr",
     "output_type": "stream",
     "text": [
      "INFO:root:Epoch: 0003 lr: 0.021 train phase of epoch 2: precision 0.820875,roc 0.946477, loss 0.072887, acc 0, ECE 0 #edges 368460, #graphs 92 time: 64.8797s\n"
     ]
    },
    {
     "name": "stdout",
     "output_type": "stream",
     "text": [
      "92\n",
      "train phase of epoch 2: precision 0.820875,roc 0.946477, loss 0.072887, acc 0, ECE 0 #edges 368460, #graphs 92\n",
      "92\n",
      "training epoch done in  time: 64.8807s\n",
      "92\n",
      "20\n",
      "0.06747324161563661 0.8785143570536829 loss acc\n",
      "20\n",
      "0.06747324161563661 0.8785143570536829 loss acc\n"
     ]
    },
    {
     "name": "stderr",
     "output_type": "stream",
     "text": [
      "INFO:root:Dev Epoch: 0003 dev phase of epoch 2: precision 0.841039,roc 0.951433, loss 0.067473, acc 0, ECE 0 #edges 80100, #graphs 20\n",
      "INFO:root:Test Epoch: 0003 test phase of epoch 2: precision 0.790000,roc 0.951256, loss 0.069746, acc 0, ECE 0 #edges 8010, #graphs 2\n",
      "INFO:root:Saved model in C:\\Users\\coleb\\OneDrive\\Desktop\\Fall 2021\\Neuro\\hyperBrain\\study\\meg\\ds\\L3\\HGCN_full_0.54c_id_dp\\1\n"
     ]
    },
    {
     "name": "stdout",
     "output_type": "stream",
     "text": [
      "2\n",
      "2.0 1.0 FERMI (non-adjusting) epoch: 3 LR:  [0.021]\n",
      "tensor([0.5400]) MODEL C\n",
      "2\n",
      "reset\n",
      "92 train length\n",
      "23\n",
      "train phase of epoch 3: precision 0.844920,roc 0.954169, loss 0.066153, acc 0, ECE 0 #edges 92115, #graphs 23\n",
      "46\n",
      "train phase of epoch 3: precision 0.850712,roc 0.955516, loss 0.064605, acc 0, ECE 0 #edges 184230, #graphs 46\n",
      "69\n",
      "train phase of epoch 3: precision 0.853506,roc 0.956572, loss 0.063784, acc 0, ECE 0 #edges 276345, #graphs 69\n"
     ]
    },
    {
     "name": "stderr",
     "output_type": "stream",
     "text": [
      "INFO:root:Epoch: 0004 lr: 0.021 train phase of epoch 3: precision 0.857207,roc 0.957600, loss 0.062567, acc 0, ECE 0 #edges 368460, #graphs 92 time: 69.9243s\n"
     ]
    },
    {
     "name": "stdout",
     "output_type": "stream",
     "text": [
      "92\n",
      "train phase of epoch 3: precision 0.857207,roc 0.957600, loss 0.062567, acc 0, ECE 0 #edges 368460, #graphs 92\n",
      "92\n",
      "training epoch done in  time: 69.9253s\n",
      "92\n",
      "20\n",
      "0.05977523357260236 0.8945817727840201 loss acc\n",
      "20\n",
      "0.05977523357260236 0.8945817727840201 loss acc\n"
     ]
    },
    {
     "name": "stderr",
     "output_type": "stream",
     "text": [
      "INFO:root:Dev Epoch: 0004 dev phase of epoch 3: precision 0.866683,roc 0.959206, loss 0.059775, acc 0, ECE 0 #edges 80100, #graphs 20\n",
      "INFO:root:Test Epoch: 0004 test phase of epoch 3: precision 0.825128,roc 0.958586, loss 0.061717, acc 0, ECE 0 #edges 8010, #graphs 2\n",
      "INFO:root:Saved model in C:\\Users\\coleb\\OneDrive\\Desktop\\Fall 2021\\Neuro\\hyperBrain\\study\\meg\\ds\\L3\\HGCN_full_0.54c_id_dp\\1\n"
     ]
    },
    {
     "name": "stdout",
     "output_type": "stream",
     "text": [
      "2\n",
      "2.0 1.0 FERMI (non-adjusting) epoch: 4 LR:  [0.021]\n",
      "tensor([0.5400]) MODEL C\n",
      "2\n",
      "reset\n",
      "92 train length\n",
      "23\n",
      "train phase of epoch 4: precision 0.876537,roc 0.964479, loss 0.056835, acc 0, ECE 0 #edges 92115, #graphs 23\n",
      "46\n",
      "train phase of epoch 4: precision 0.878931,roc 0.963943, loss 0.057087, acc 0, ECE 0 #edges 184230, #graphs 46\n",
      "69\n",
      "train phase of epoch 4: precision 0.880027,roc 0.964007, loss 0.056643, acc 0, ECE 0 #edges 276345, #graphs 69\n"
     ]
    },
    {
     "name": "stderr",
     "output_type": "stream",
     "text": [
      "INFO:root:Epoch: 0005 lr: 0.021 train phase of epoch 4: precision 0.880709,roc 0.964222, loss 0.056104, acc 0, ECE 0 #edges 368460, #graphs 92 time: 79.2638s\n"
     ]
    },
    {
     "name": "stdout",
     "output_type": "stream",
     "text": [
      "92\n",
      "train phase of epoch 4: precision 0.880709,roc 0.964222, loss 0.056104, acc 0, ECE 0 #edges 368460, #graphs 92\n",
      "92\n",
      "training epoch done in  time: 79.2638s\n",
      "92\n",
      "20\n",
      "0.05442052535970819 0.9040074906367043 loss acc\n",
      "20\n",
      "0.05442052535970819 0.9040074906367043 loss acc\n"
     ]
    },
    {
     "name": "stderr",
     "output_type": "stream",
     "text": [
      "INFO:root:Dev Epoch: 0005 dev phase of epoch 4: precision 0.885861,roc 0.964871, loss 0.054421, acc 0, ECE 0 #edges 80100, #graphs 20\n",
      "INFO:root:Test Epoch: 0005 test phase of epoch 4: precision 0.849985,roc 0.963282, loss 0.057028, acc 0, ECE 0 #edges 8010, #graphs 2\n",
      "INFO:root:Saved model in C:\\Users\\coleb\\OneDrive\\Desktop\\Fall 2021\\Neuro\\hyperBrain\\study\\meg\\ds\\L3\\HGCN_full_0.54c_id_dp\\1\n"
     ]
    },
    {
     "name": "stdout",
     "output_type": "stream",
     "text": [
      "2\n",
      "2.0 1.0 FERMI (non-adjusting) epoch: 5 LR:  [0.021]\n",
      "tensor([0.5400]) MODEL C\n",
      "2\n",
      "reset\n",
      "92 train length\n",
      "23\n",
      "train phase of epoch 5: precision 0.901193,roc 0.967689, loss 0.053337, acc 0, ECE 0 #edges 92115, #graphs 23\n",
      "46\n",
      "train phase of epoch 5: precision 0.898473,roc 0.968650, loss 0.052334, acc 0, ECE 0 #edges 184230, #graphs 46\n",
      "69\n",
      "train phase of epoch 5: precision 0.896782,roc 0.968631, loss 0.052041, acc 0, ECE 0 #edges 276345, #graphs 69\n"
     ]
    },
    {
     "name": "stderr",
     "output_type": "stream",
     "text": [
      "INFO:root:Epoch: 0006 lr: 0.021 train phase of epoch 5: precision 0.896863,roc 0.968551, loss 0.051934, acc 0, ECE 0 #edges 368460, #graphs 92 time: 72.6192s\n"
     ]
    },
    {
     "name": "stdout",
     "output_type": "stream",
     "text": [
      "92\n",
      "train phase of epoch 5: precision 0.896863,roc 0.968551, loss 0.051934, acc 0, ECE 0 #edges 368460, #graphs 92\n",
      "92\n",
      "training epoch done in  time: 72.6202s\n",
      "92\n",
      "20\n",
      "0.05129870376818137 0.9105118601747814 loss acc\n",
      "20\n",
      "0.05129870376818137 0.9105118601747814 loss acc\n"
     ]
    },
    {
     "name": "stderr",
     "output_type": "stream",
     "text": [
      "INFO:root:Dev Epoch: 0006 dev phase of epoch 5: precision 0.898016,roc 0.968165, loss 0.051299, acc 0, ECE 0 #edges 80100, #graphs 20\n",
      "INFO:root:Test Epoch: 0006 test phase of epoch 5: precision 0.866552,roc 0.966375, loss 0.054260, acc 0, ECE 0 #edges 8010, #graphs 2\n",
      "INFO:root:Saved model in C:\\Users\\coleb\\OneDrive\\Desktop\\Fall 2021\\Neuro\\hyperBrain\\study\\meg\\ds\\L3\\HGCN_full_0.54c_id_dp\\1\n"
     ]
    },
    {
     "name": "stdout",
     "output_type": "stream",
     "text": [
      "2\n",
      "2.0 1.0 FERMI (non-adjusting) epoch: 6 LR:  [0.021]\n",
      "tensor([0.5400]) MODEL C\n",
      "2\n",
      "reset\n",
      "92 train length\n",
      "23\n",
      "train phase of epoch 6: precision 0.903477,roc 0.970897, loss 0.049417, acc 0, ECE 0 #edges 92115, #graphs 23\n",
      "46\n",
      "train phase of epoch 6: precision 0.903040,roc 0.970431, loss 0.049883, acc 0, ECE 0 #edges 184230, #graphs 46\n",
      "69\n",
      "train phase of epoch 6: precision 0.904135,roc 0.970881, loss 0.049581, acc 0, ECE 0 #edges 276345, #graphs 69\n"
     ]
    },
    {
     "name": "stderr",
     "output_type": "stream",
     "text": [
      "INFO:root:Epoch: 0007 lr: 0.021 train phase of epoch 6: precision 0.905451,roc 0.970897, loss 0.049605, acc 0, ECE 0 #edges 368460, #graphs 92 time: 75.5797s\n"
     ]
    },
    {
     "name": "stdout",
     "output_type": "stream",
     "text": [
      "92\n",
      "train phase of epoch 6: precision 0.905451,roc 0.970897, loss 0.049605, acc 0, ECE 0 #edges 368460, #graphs 92\n",
      "92\n",
      "training epoch done in  time: 75.5797s\n",
      "92\n",
      "20\n",
      "0.04939203283525957 0.9120099875156054 loss acc\n",
      "20\n",
      "0.04939203283525957 0.9120099875156054 loss acc\n"
     ]
    },
    {
     "name": "stderr",
     "output_type": "stream",
     "text": [
      "INFO:root:Dev Epoch: 0007 dev phase of epoch 6: precision 0.904929,roc 0.970255, loss 0.049392, acc 0, ECE 0 #edges 80100, #graphs 20\n",
      "INFO:root:Test Epoch: 0007 test phase of epoch 6: precision 0.876939,roc 0.968534, loss 0.052487, acc 0, ECE 0 #edges 8010, #graphs 2\n",
      "INFO:root:Saved model in C:\\Users\\coleb\\OneDrive\\Desktop\\Fall 2021\\Neuro\\hyperBrain\\study\\meg\\ds\\L3\\HGCN_full_0.54c_id_dp\\1\n"
     ]
    },
    {
     "name": "stdout",
     "output_type": "stream",
     "text": [
      "2\n",
      "2.0 1.0 FERMI (non-adjusting) epoch: 7 LR:  [0.021]\n",
      "tensor([0.5400]) MODEL C\n",
      "2\n",
      "reset\n",
      "92 train length\n",
      "23\n",
      "train phase of epoch 7: precision 0.912503,roc 0.972332, loss 0.048233, acc 0, ECE 0 #edges 92115, #graphs 23\n",
      "46\n",
      "train phase of epoch 7: precision 0.911170,roc 0.972923, loss 0.047600, acc 0, ECE 0 #edges 184230, #graphs 46\n",
      "69\n",
      "train phase of epoch 7: precision 0.910261,roc 0.972450, loss 0.048142, acc 0, ECE 0 #edges 276345, #graphs 69\n"
     ]
    },
    {
     "name": "stderr",
     "output_type": "stream",
     "text": [
      "INFO:root:Epoch: 0008 lr: 0.021 train phase of epoch 7: precision 0.910586,roc 0.972470, loss 0.048024, acc 0, ECE 0 #edges 368460, #graphs 92 time: 81.7181s\n"
     ]
    },
    {
     "name": "stdout",
     "output_type": "stream",
     "text": [
      "92\n",
      "train phase of epoch 7: precision 0.910586,roc 0.972470, loss 0.048024, acc 0, ECE 0 #edges 368460, #graphs 92\n",
      "92\n",
      "training epoch done in  time: 81.7181s\n",
      "92\n",
      "20\n",
      "0.04803764016935355 0.9153558052434457 loss acc\n",
      "20\n",
      "0.04803764016935355 0.9153558052434457 loss acc\n"
     ]
    },
    {
     "name": "stderr",
     "output_type": "stream",
     "text": [
      "INFO:root:Dev Epoch: 0008 dev phase of epoch 7: precision 0.909458,roc 0.971550, loss 0.048038, acc 0, ECE 0 #edges 80100, #graphs 20\n",
      "INFO:root:Test Epoch: 0008 test phase of epoch 7: precision 0.884246,roc 0.969712, loss 0.050904, acc 0, ECE 0 #edges 8010, #graphs 2\n",
      "INFO:root:Saved model in C:\\Users\\coleb\\OneDrive\\Desktop\\Fall 2021\\Neuro\\hyperBrain\\study\\meg\\ds\\L3\\HGCN_full_0.54c_id_dp\\1\n"
     ]
    },
    {
     "name": "stdout",
     "output_type": "stream",
     "text": [
      "2\n",
      "2.0 1.0 FERMI (non-adjusting) epoch: 8 LR:  [0.021]\n",
      "tensor([0.5400]) MODEL C\n",
      "2\n",
      "reset\n",
      "92 train length\n",
      "23\n",
      "train phase of epoch 8: precision 0.909650,roc 0.973264, loss 0.047021, acc 0, ECE 0 #edges 92115, #graphs 23\n",
      "46\n",
      "train phase of epoch 8: precision 0.911215,roc 0.973244, loss 0.047114, acc 0, ECE 0 #edges 184230, #graphs 46\n",
      "69\n",
      "train phase of epoch 8: precision 0.912222,roc 0.973439, loss 0.047200, acc 0, ECE 0 #edges 276345, #graphs 69\n"
     ]
    },
    {
     "name": "stderr",
     "output_type": "stream",
     "text": [
      "INFO:root:Epoch: 0009 lr: 0.021 train phase of epoch 8: precision 0.914480,roc 0.973623, loss 0.046898, acc 0, ECE 0 #edges 368460, #graphs 92 time: 72.9097s\n"
     ]
    },
    {
     "name": "stdout",
     "output_type": "stream",
     "text": [
      "92\n",
      "train phase of epoch 8: precision 0.914480,roc 0.973623, loss 0.046898, acc 0, ECE 0 #edges 368460, #graphs 92\n",
      "92\n",
      "training epoch done in  time: 72.9106s\n",
      "92\n",
      "20\n",
      "0.04680870493560073 0.9167665418227214 loss acc\n",
      "20\n",
      "0.04680870493560073 0.9167665418227214 loss acc\n"
     ]
    },
    {
     "name": "stderr",
     "output_type": "stream",
     "text": [
      "INFO:root:Dev Epoch: 0009 dev phase of epoch 8: precision 0.913651,roc 0.972833, loss 0.046809, acc 0, ECE 0 #edges 80100, #graphs 20\n",
      "INFO:root:Test Epoch: 0009 test phase of epoch 8: precision 0.890635,roc 0.970942, loss 0.049494, acc 0, ECE 0 #edges 8010, #graphs 2\n",
      "INFO:root:Saved model in C:\\Users\\coleb\\OneDrive\\Desktop\\Fall 2021\\Neuro\\hyperBrain\\study\\meg\\ds\\L3\\HGCN_full_0.54c_id_dp\\1\n"
     ]
    },
    {
     "name": "stdout",
     "output_type": "stream",
     "text": [
      "2\n",
      "2.0 1.0 FERMI (non-adjusting) epoch: 9 LR:  [0.021]\n",
      "tensor([0.5400]) MODEL C\n",
      "2\n",
      "reset\n",
      "92 train length\n",
      "23\n",
      "train phase of epoch 9: precision 0.914731,roc 0.973907, loss 0.045791, acc 0, ECE 0 #edges 92115, #graphs 23\n",
      "46\n",
      "train phase of epoch 9: precision 0.916634,roc 0.974541, loss 0.045727, acc 0, ECE 0 #edges 184230, #graphs 46\n",
      "69\n",
      "train phase of epoch 9: precision 0.918021,roc 0.975006, loss 0.045657, acc 0, ECE 0 #edges 276345, #graphs 69\n"
     ]
    },
    {
     "name": "stderr",
     "output_type": "stream",
     "text": [
      "INFO:root:Epoch: 0010 lr: 0.021 train phase of epoch 9: precision 0.917492,roc 0.974548, loss 0.045951, acc 0, ECE 0 #edges 368460, #graphs 92 time: 66.9938s\n"
     ]
    },
    {
     "name": "stdout",
     "output_type": "stream",
     "text": [
      "92\n",
      "train phase of epoch 9: precision 0.917492,roc 0.974548, loss 0.045951, acc 0, ECE 0 #edges 368460, #graphs 92\n",
      "92\n",
      "training epoch done in  time: 66.9948s\n",
      "92\n",
      "20\n",
      "0.04600255949196681 0.9199375780274656 loss acc\n",
      "20\n",
      "0.04600255949196681 0.9199375780274656 loss acc\n"
     ]
    },
    {
     "name": "stderr",
     "output_type": "stream",
     "text": [
      "INFO:root:Dev Epoch: 0010 dev phase of epoch 9: precision 0.916227,roc 0.973809, loss 0.046003, acc 0, ECE 0 #edges 80100, #graphs 20\n",
      "INFO:root:Test Epoch: 0010 test phase of epoch 9: precision 0.893891,roc 0.971794, loss 0.048793, acc 0, ECE 0 #edges 8010, #graphs 2\n",
      "INFO:root:Saved model in C:\\Users\\coleb\\OneDrive\\Desktop\\Fall 2021\\Neuro\\hyperBrain\\study\\meg\\ds\\L3\\HGCN_full_0.54c_id_dp\\1\n"
     ]
    },
    {
     "name": "stdout",
     "output_type": "stream",
     "text": [
      "2\n",
      "2.0 1.0 FERMI (non-adjusting) epoch: 10 LR:  [0.021]\n",
      "tensor([0.5400]) MODEL C\n",
      "2\n",
      "reset\n",
      "92 train length\n",
      "23\n",
      "train phase of epoch 10: precision 0.922606,roc 0.975537, loss 0.045305, acc 0, ECE 0 #edges 92115, #graphs 23\n",
      "46\n",
      "train phase of epoch 10: precision 0.920134,roc 0.975082, loss 0.045531, acc 0, ECE 0 #edges 184230, #graphs 46\n",
      "69\n",
      "train phase of epoch 10: precision 0.917974,roc 0.974860, loss 0.045455, acc 0, ECE 0 #edges 276345, #graphs 69\n"
     ]
    },
    {
     "name": "stderr",
     "output_type": "stream",
     "text": [
      "INFO:root:Epoch: 0011 lr: 0.021 train phase of epoch 10: precision 0.920098,roc 0.975312, loss 0.045137, acc 0, ECE 0 #edges 368460, #graphs 92 time: 82.9598s\n"
     ]
    },
    {
     "name": "stdout",
     "output_type": "stream",
     "text": [
      "92\n",
      "train phase of epoch 10: precision 0.920098,roc 0.975312, loss 0.045137, acc 0, ECE 0 #edges 368460, #graphs 92\n",
      "92\n",
      "training epoch done in  time: 82.9607s\n",
      "92\n",
      "20\n",
      "0.04525259756592869 0.9182022471910111 loss acc\n",
      "20\n",
      "0.04525259756592869 0.9182022471910111 loss acc\n"
     ]
    },
    {
     "name": "stderr",
     "output_type": "stream",
     "text": [
      "INFO:root:Dev Epoch: 0011 dev phase of epoch 10: precision 0.918449,roc 0.974545, loss 0.045253, acc 0, ECE 0 #edges 80100, #graphs 20\n",
      "INFO:root:Test Epoch: 0011 test phase of epoch 10: precision 0.896822,roc 0.972579, loss 0.047617, acc 0, ECE 0 #edges 8010, #graphs 2\n",
      "INFO:root:Saved model in C:\\Users\\coleb\\OneDrive\\Desktop\\Fall 2021\\Neuro\\hyperBrain\\study\\meg\\ds\\L3\\HGCN_full_0.54c_id_dp\\1\n"
     ]
    },
    {
     "name": "stdout",
     "output_type": "stream",
     "text": [
      "2\n",
      "2.0 1.0 FERMI (non-adjusting) epoch: 11 LR:  [0.021]\n",
      "tensor([0.5400]) MODEL C\n",
      "2\n",
      "reset\n",
      "92 train length\n",
      "23\n",
      "train phase of epoch 11: precision 0.924614,roc 0.976694, loss 0.043507, acc 0, ECE 0 #edges 92115, #graphs 23\n",
      "46\n",
      "train phase of epoch 11: precision 0.921820,roc 0.975841, loss 0.044570, acc 0, ECE 0 #edges 184230, #graphs 46\n",
      "69\n",
      "train phase of epoch 11: precision 0.922206,roc 0.975976, loss 0.044773, acc 0, ECE 0 #edges 276345, #graphs 69\n"
     ]
    },
    {
     "name": "stderr",
     "output_type": "stream",
     "text": [
      "INFO:root:Epoch: 0012 lr: 0.021 train phase of epoch 11: precision 0.922489,roc 0.976014, loss 0.044464, acc 0, ECE 0 #edges 368460, #graphs 92 time: 74.6157s\n"
     ]
    },
    {
     "name": "stdout",
     "output_type": "stream",
     "text": [
      "92\n",
      "train phase of epoch 11: precision 0.922489,roc 0.976014, loss 0.044464, acc 0, ECE 0 #edges 368460, #graphs 92\n",
      "92\n",
      "training epoch done in  time: 74.6167s\n",
      "92\n",
      "20\n",
      "0.04459059568160293 0.9167540574282146 loss acc\n",
      "20\n",
      "0.04459059568160293 0.9167540574282146 loss acc\n"
     ]
    },
    {
     "name": "stderr",
     "output_type": "stream",
     "text": [
      "INFO:root:Dev Epoch: 0012 dev phase of epoch 11: precision 0.921189,roc 0.975360, loss 0.044591, acc 0, ECE 0 #edges 80100, #graphs 20\n",
      "INFO:root:Test Epoch: 0012 test phase of epoch 11: precision 0.900898,roc 0.973478, loss 0.046642, acc 0, ECE 0 #edges 8010, #graphs 2\n",
      "INFO:root:Saved model in C:\\Users\\coleb\\OneDrive\\Desktop\\Fall 2021\\Neuro\\hyperBrain\\study\\meg\\ds\\L3\\HGCN_full_0.54c_id_dp\\1\n"
     ]
    },
    {
     "name": "stdout",
     "output_type": "stream",
     "text": [
      "2\n",
      "2.0 1.0 FERMI (non-adjusting) epoch: 12 LR:  [0.021]\n",
      "tensor([0.5400]) MODEL C\n",
      "2\n",
      "reset\n",
      "92 train length\n",
      "23\n",
      "train phase of epoch 12: precision 0.919683,roc 0.975325, loss 0.045269, acc 0, ECE 0 #edges 92115, #graphs 23\n",
      "46\n",
      "train phase of epoch 12: precision 0.921877,roc 0.975782, loss 0.044632, acc 0, ECE 0 #edges 184230, #graphs 46\n",
      "69\n",
      "train phase of epoch 12: precision 0.922911,roc 0.976119, loss 0.044304, acc 0, ECE 0 #edges 276345, #graphs 69\n"
     ]
    },
    {
     "name": "stderr",
     "output_type": "stream",
     "text": [
      "INFO:root:Epoch: 0013 lr: 0.021 train phase of epoch 12: precision 0.924411,roc 0.976651, loss 0.043793, acc 0, ECE 0 #edges 368460, #graphs 92 time: 70.7986s\n"
     ]
    },
    {
     "name": "stdout",
     "output_type": "stream",
     "text": [
      "92\n",
      "train phase of epoch 12: precision 0.924411,roc 0.976651, loss 0.043793, acc 0, ECE 0 #edges 368460, #graphs 92\n",
      "92\n",
      "training epoch done in  time: 70.7996s\n",
      "92\n",
      "20\n",
      "0.043964040378250246 0.916641697877653 loss acc\n",
      "20\n",
      "0.043964040378250246 0.916641697877653 loss acc\n"
     ]
    },
    {
     "name": "stderr",
     "output_type": "stream",
     "text": [
      "INFO:root:Dev Epoch: 0013 dev phase of epoch 12: precision 0.922856,roc 0.975979, loss 0.043964, acc 0, ECE 0 #edges 80100, #graphs 20\n",
      "INFO:root:Test Epoch: 0013 test phase of epoch 12: precision 0.900681,roc 0.973660, loss 0.046609, acc 0, ECE 0 #edges 8010, #graphs 2\n",
      "INFO:root:Saved model in C:\\Users\\coleb\\OneDrive\\Desktop\\Fall 2021\\Neuro\\hyperBrain\\study\\meg\\ds\\L3\\HGCN_full_0.54c_id_dp\\1\n"
     ]
    },
    {
     "name": "stdout",
     "output_type": "stream",
     "text": [
      "2\n",
      "2.0 1.0 FERMI (non-adjusting) epoch: 13 LR:  [0.021]\n",
      "tensor([0.5400]) MODEL C\n",
      "2\n",
      "reset\n",
      "92 train length\n",
      "23\n",
      "train phase of epoch 13: precision 0.922933,roc 0.976977, loss 0.043375, acc 0, ECE 0 #edges 92115, #graphs 23\n",
      "46\n",
      "train phase of epoch 13: precision 0.924433,roc 0.976780, loss 0.043614, acc 0, ECE 0 #edges 184230, #graphs 46\n",
      "69\n",
      "train phase of epoch 13: precision 0.926487,roc 0.977243, loss 0.043288, acc 0, ECE 0 #edges 276345, #graphs 69\n"
     ]
    },
    {
     "name": "stderr",
     "output_type": "stream",
     "text": [
      "INFO:root:Epoch: 0014 lr: 0.021 train phase of epoch 13: precision 0.926052,roc 0.977216, loss 0.043174, acc 0, ECE 0 #edges 368460, #graphs 92 time: 74.7005s\n"
     ]
    },
    {
     "name": "stdout",
     "output_type": "stream",
     "text": [
      "92\n",
      "train phase of epoch 13: precision 0.926052,roc 0.977216, loss 0.043174, acc 0, ECE 0 #edges 368460, #graphs 92\n",
      "92\n",
      "training epoch done in  time: 74.7005s\n",
      "92\n",
      "20\n",
      "0.04332759657026611 0.9222347066167291 loss acc\n",
      "20\n",
      "0.04332759657026611 0.9222347066167291 loss acc\n"
     ]
    },
    {
     "name": "stderr",
     "output_type": "stream",
     "text": [
      "INFO:root:Dev Epoch: 0014 dev phase of epoch 13: precision 0.924446,roc 0.976456, loss 0.043328, acc 0, ECE 0 #edges 80100, #graphs 20\n",
      "INFO:root:Test Epoch: 0014 test phase of epoch 13: precision 0.903502,roc 0.974143, loss 0.045446, acc 0, ECE 0 #edges 8010, #graphs 2\n",
      "INFO:root:Saved model in C:\\Users\\coleb\\OneDrive\\Desktop\\Fall 2021\\Neuro\\hyperBrain\\study\\meg\\ds\\L3\\HGCN_full_0.54c_id_dp\\1\n"
     ]
    },
    {
     "name": "stdout",
     "output_type": "stream",
     "text": [
      "2\n",
      "2.0 1.0 FERMI (non-adjusting) epoch: 14 LR:  [0.021]\n",
      "tensor([0.5400]) MODEL C\n",
      "2\n",
      "reset\n",
      "92 train length\n",
      "23\n",
      "train phase of epoch 14: precision 0.923665,roc 0.976770, loss 0.043534, acc 0, ECE 0 #edges 92115, #graphs 23\n",
      "46\n",
      "train phase of epoch 14: precision 0.926098,roc 0.977189, loss 0.043093, acc 0, ECE 0 #edges 184230, #graphs 46\n",
      "69\n",
      "train phase of epoch 14: precision 0.927158,roc 0.977498, loss 0.042937, acc 0, ECE 0 #edges 276345, #graphs 69\n"
     ]
    },
    {
     "name": "stderr",
     "output_type": "stream",
     "text": [
      "INFO:root:Epoch: 0015 lr: 0.021 train phase of epoch 14: precision 0.928221,roc 0.977758, loss 0.042692, acc 0, ECE 0 #edges 368460, #graphs 92 time: 73.3705s\n"
     ]
    },
    {
     "name": "stdout",
     "output_type": "stream",
     "text": [
      "92\n",
      "train phase of epoch 14: precision 0.928221,roc 0.977758, loss 0.042692, acc 0, ECE 0 #edges 368460, #graphs 92\n",
      "92\n",
      "training epoch done in  time: 73.3715s\n",
      "92\n",
      "20\n",
      "0.042798659193831974 0.9207490636704119 loss acc\n",
      "20\n",
      "0.042798659193831974 0.9207490636704119 loss acc\n"
     ]
    },
    {
     "name": "stderr",
     "output_type": "stream",
     "text": [
      "INFO:root:Dev Epoch: 0015 dev phase of epoch 14: precision 0.926669,roc 0.977174, loss 0.042799, acc 0, ECE 0 #edges 80100, #graphs 20\n",
      "INFO:root:Test Epoch: 0015 test phase of epoch 14: precision 0.903664,roc 0.974654, loss 0.045393, acc 0, ECE 0 #edges 8010, #graphs 2\n",
      "INFO:root:Saved model in C:\\Users\\coleb\\OneDrive\\Desktop\\Fall 2021\\Neuro\\hyperBrain\\study\\meg\\ds\\L3\\HGCN_full_0.54c_id_dp\\1\n"
     ]
    },
    {
     "name": "stdout",
     "output_type": "stream",
     "text": [
      "2\n",
      "2.0 1.0 FERMI (non-adjusting) epoch: 15 LR:  [0.021]\n",
      "tensor([0.5400]) MODEL C\n",
      "2\n",
      "reset\n",
      "92 train length\n",
      "23\n",
      "train phase of epoch 15: precision 0.932248,roc 0.978054, loss 0.041951, acc 0, ECE 0 #edges 92115, #graphs 23\n",
      "46\n",
      "train phase of epoch 15: precision 0.933357,roc 0.978670, loss 0.041572, acc 0, ECE 0 #edges 184230, #graphs 46\n",
      "69\n",
      "train phase of epoch 15: precision 0.929535,roc 0.978143, loss 0.042119, acc 0, ECE 0 #edges 276345, #graphs 69\n"
     ]
    },
    {
     "name": "stderr",
     "output_type": "stream",
     "text": [
      "INFO:root:Epoch: 0016 lr: 0.021 train phase of epoch 15: precision 0.929584,roc 0.978222, loss 0.042177, acc 0, ECE 0 #edges 368460, #graphs 92 time: 90.2369s\n"
     ]
    },
    {
     "name": "stdout",
     "output_type": "stream",
     "text": [
      "92\n",
      "train phase of epoch 15: precision 0.929584,roc 0.978222, loss 0.042177, acc 0, ECE 0 #edges 368460, #graphs 92\n",
      "92\n",
      "training epoch done in  time: 90.2379s\n",
      "92\n",
      "20\n",
      "0.042460570088408 0.9222846441947565 loss acc\n",
      "20\n",
      "0.042460570088408 0.9222846441947565 loss acc\n"
     ]
    },
    {
     "name": "stderr",
     "output_type": "stream",
     "text": [
      "INFO:root:Dev Epoch: 0016 dev phase of epoch 15: precision 0.925777,roc 0.977224, loss 0.042461, acc 0, ECE 0 #edges 80100, #graphs 20\n",
      "INFO:root:Test Epoch: 0016 test phase of epoch 15: precision 0.902214,roc 0.974635, loss 0.044853, acc 0, ECE 0 #edges 8010, #graphs 2\n",
      "INFO:root:Saved model in C:\\Users\\coleb\\OneDrive\\Desktop\\Fall 2021\\Neuro\\hyperBrain\\study\\meg\\ds\\L3\\HGCN_full_0.54c_id_dp\\1\n"
     ]
    },
    {
     "name": "stdout",
     "output_type": "stream",
     "text": [
      "2\n",
      "2.0 1.0 FERMI (non-adjusting) epoch: 16 LR:  [0.021]\n",
      "tensor([0.5400]) MODEL C\n",
      "2\n",
      "reset\n",
      "92 train length\n",
      "23\n",
      "train phase of epoch 16: precision 0.934266,roc 0.979942, loss 0.041179, acc 0, ECE 0 #edges 92115, #graphs 23\n",
      "46\n",
      "train phase of epoch 16: precision 0.930309,roc 0.978670, loss 0.041872, acc 0, ECE 0 #edges 184230, #graphs 46\n",
      "69\n",
      "train phase of epoch 16: precision 0.933829,roc 0.979438, loss 0.041068, acc 0, ECE 0 #edges 276345, #graphs 69\n"
     ]
    },
    {
     "name": "stderr",
     "output_type": "stream",
     "text": [
      "INFO:root:Epoch: 0017 lr: 0.021 train phase of epoch 16: precision 0.931251,roc 0.978649, loss 0.041794, acc 0, ECE 0 #edges 368460, #graphs 92 time: 102.8710s\n"
     ]
    },
    {
     "name": "stdout",
     "output_type": "stream",
     "text": [
      "92\n",
      "train phase of epoch 16: precision 0.931251,roc 0.978649, loss 0.041794, acc 0, ECE 0 #edges 368460, #graphs 92\n",
      "92\n",
      "training epoch done in  time: 102.8720s\n",
      "92\n",
      "20\n",
      "0.04180298834574008 0.9220724094881397 loss acc\n",
      "20\n",
      "0.04180298834574008 0.9220724094881397 loss acc\n"
     ]
    },
    {
     "name": "stderr",
     "output_type": "stream",
     "text": [
      "INFO:root:Dev Epoch: 0017 dev phase of epoch 16: precision 0.930410,roc 0.978188, loss 0.041803, acc 0, ECE 0 #edges 80100, #graphs 20\n",
      "INFO:root:Test Epoch: 0017 test phase of epoch 16: precision 0.904491,roc 0.975240, loss 0.044496, acc 0, ECE 0 #edges 8010, #graphs 2\n",
      "INFO:root:Saved model in C:\\Users\\coleb\\OneDrive\\Desktop\\Fall 2021\\Neuro\\hyperBrain\\study\\meg\\ds\\L3\\HGCN_full_0.54c_id_dp\\1\n"
     ]
    },
    {
     "name": "stdout",
     "output_type": "stream",
     "text": [
      "2\n",
      "2.0 1.0 FERMI (non-adjusting) epoch: 17 LR:  [0.021]\n",
      "tensor([0.5400]) MODEL C\n",
      "2\n",
      "reset\n",
      "92 train length\n",
      "23\n",
      "train phase of epoch 17: precision 0.933102,roc 0.978440, loss 0.041190, acc 0, ECE 0 #edges 92115, #graphs 23\n",
      "46\n",
      "train phase of epoch 17: precision 0.931368,roc 0.978549, loss 0.041694, acc 0, ECE 0 #edges 184230, #graphs 46\n",
      "69\n",
      "train phase of epoch 17: precision 0.931868,roc 0.978583, loss 0.041572, acc 0, ECE 0 #edges 276345, #graphs 69\n"
     ]
    },
    {
     "name": "stderr",
     "output_type": "stream",
     "text": [
      "INFO:root:Epoch: 0018 lr: 0.021 train phase of epoch 17: precision 0.932761,roc 0.979050, loss 0.041318, acc 0, ECE 0 #edges 368460, #graphs 92 time: 74.6062s\n"
     ]
    },
    {
     "name": "stdout",
     "output_type": "stream",
     "text": [
      "92\n",
      "train phase of epoch 17: precision 0.932761,roc 0.979050, loss 0.041318, acc 0, ECE 0 #edges 368460, #graphs 92\n",
      "92\n",
      "training epoch done in  time: 74.6062s\n",
      "92\n",
      "20\n",
      "0.04154761461362807 0.9215106117353308 loss acc\n",
      "20\n",
      "0.04154761461362807 0.9215106117353308 loss acc\n"
     ]
    },
    {
     "name": "stderr",
     "output_type": "stream",
     "text": [
      "INFO:root:Dev Epoch: 0018 dev phase of epoch 17: precision 0.930711,roc 0.978429, loss 0.041548, acc 0, ECE 0 #edges 80100, #graphs 20\n",
      "INFO:root:Test Epoch: 0018 test phase of epoch 17: precision 0.903713,roc 0.975383, loss 0.044307, acc 0, ECE 0 #edges 8010, #graphs 2\n",
      "INFO:root:Saved model in C:\\Users\\coleb\\OneDrive\\Desktop\\Fall 2021\\Neuro\\hyperBrain\\study\\meg\\ds\\L3\\HGCN_full_0.54c_id_dp\\1\n"
     ]
    },
    {
     "name": "stdout",
     "output_type": "stream",
     "text": [
      "2\n",
      "2.0 1.0 FERMI (non-adjusting) epoch: 18 LR:  [0.021]\n",
      "tensor([0.5400]) MODEL C\n",
      "2\n",
      "reset\n",
      "92 train length\n",
      "23\n",
      "train phase of epoch 18: precision 0.937939,roc 0.980087, loss 0.040278, acc 0, ECE 0 #edges 92115, #graphs 23\n",
      "46\n",
      "train phase of epoch 18: precision 0.934922,roc 0.980006, loss 0.040237, acc 0, ECE 0 #edges 184230, #graphs 46\n",
      "69\n",
      "train phase of epoch 18: precision 0.933286,roc 0.979698, loss 0.040778, acc 0, ECE 0 #edges 276345, #graphs 69\n"
     ]
    },
    {
     "name": "stderr",
     "output_type": "stream",
     "text": [
      "INFO:root:Epoch: 0019 lr: 0.021 train phase of epoch 18: precision 0.933762,roc 0.979436, loss 0.040929, acc 0, ECE 0 #edges 368460, #graphs 92 time: 75.3941s\n"
     ]
    },
    {
     "name": "stdout",
     "output_type": "stream",
     "text": [
      "92\n",
      "train phase of epoch 18: precision 0.933762,roc 0.979436, loss 0.040929, acc 0, ECE 0 #edges 368460, #graphs 92\n",
      "92\n",
      "training epoch done in  time: 75.3951s\n",
      "92\n",
      "20\n",
      "0.04083414925603248 0.926317103620474 loss acc\n",
      "20\n",
      "0.04083414925603248 0.926317103620474 loss acc\n"
     ]
    },
    {
     "name": "stderr",
     "output_type": "stream",
     "text": [
      "INFO:root:Dev Epoch: 0019 dev phase of epoch 18: precision 0.932360,roc 0.978971, loss 0.040834, acc 0, ECE 0 #edges 80100, #graphs 20\n",
      "INFO:root:Test Epoch: 0019 test phase of epoch 18: precision 0.903926,roc 0.975500, loss 0.043812, acc 0, ECE 0 #edges 8010, #graphs 2\n",
      "INFO:root:Saved model in C:\\Users\\coleb\\OneDrive\\Desktop\\Fall 2021\\Neuro\\hyperBrain\\study\\meg\\ds\\L3\\HGCN_full_0.54c_id_dp\\1\n"
     ]
    },
    {
     "name": "stdout",
     "output_type": "stream",
     "text": [
      "2\n",
      "2.0 1.0 FERMI (non-adjusting) epoch: 19 LR:  [0.021]\n",
      "tensor([0.5400]) MODEL C\n",
      "2\n",
      "reset\n",
      "92 train length\n",
      "23\n",
      "train phase of epoch 19: precision 0.936118,roc 0.979910, loss 0.040289, acc 0, ECE 0 #edges 92115, #graphs 23\n",
      "46\n",
      "train phase of epoch 19: precision 0.936173,roc 0.979995, loss 0.040050, acc 0, ECE 0 #edges 184230, #graphs 46\n",
      "69\n",
      "train phase of epoch 19: precision 0.935490,roc 0.979838, loss 0.040210, acc 0, ECE 0 #edges 276345, #graphs 69\n"
     ]
    },
    {
     "name": "stderr",
     "output_type": "stream",
     "text": [
      "INFO:root:Epoch: 0020 lr: 0.021 train phase of epoch 19: precision 0.934897,roc 0.979801, loss 0.040549, acc 0, ECE 0 #edges 368460, #graphs 92 time: 79.0042s\n"
     ]
    },
    {
     "name": "stdout",
     "output_type": "stream",
     "text": [
      "92\n",
      "train phase of epoch 19: precision 0.934897,roc 0.979801, loss 0.040549, acc 0, ECE 0 #edges 368460, #graphs 92\n",
      "92\n",
      "training epoch done in  time: 79.0042s\n",
      "92\n",
      "20\n",
      "0.040556721171104135 0.9253308364544319 loss acc\n",
      "20\n",
      "0.040556721171104135 0.9253308364544319 loss acc\n"
     ]
    },
    {
     "name": "stderr",
     "output_type": "stream",
     "text": [
      "INFO:root:Dev Epoch: 0020 dev phase of epoch 19: precision 0.933472,roc 0.979337, loss 0.040557, acc 0, ECE 0 #edges 80100, #graphs 20\n",
      "INFO:root:Test Epoch: 0020 test phase of epoch 19: precision 0.902780,roc 0.975715, loss 0.043660, acc 0, ECE 0 #edges 8010, #graphs 2\n",
      "INFO:root:Saved model in C:\\Users\\coleb\\OneDrive\\Desktop\\Fall 2021\\Neuro\\hyperBrain\\study\\meg\\ds\\L3\\HGCN_full_0.54c_id_dp\\1\n"
     ]
    },
    {
     "name": "stdout",
     "output_type": "stream",
     "text": [
      "2\n",
      "2.0 1.0 FERMI (non-adjusting) epoch: 20 LR:  [0.0189]\n",
      "tensor([0.5400]) MODEL C\n",
      "2\n",
      "reset\n",
      "92 train length\n",
      "23\n",
      "train phase of epoch 20: precision 0.932562,roc 0.979144, loss 0.040399, acc 0, ECE 0 #edges 92115, #graphs 23\n",
      "46\n",
      "train phase of epoch 20: precision 0.932232,roc 0.979406, loss 0.040438, acc 0, ECE 0 #edges 184230, #graphs 46\n",
      "69\n",
      "train phase of epoch 20: precision 0.936650,roc 0.980012, loss 0.040277, acc 0, ECE 0 #edges 276345, #graphs 69\n"
     ]
    },
    {
     "name": "stderr",
     "output_type": "stream",
     "text": [
      "INFO:root:Epoch: 0021 lr: 0.0189 train phase of epoch 20: precision 0.936074,roc 0.980181, loss 0.040131, acc 0, ECE 0 #edges 368460, #graphs 92 time: 73.4155s\n"
     ]
    },
    {
     "name": "stdout",
     "output_type": "stream",
     "text": [
      "92\n",
      "train phase of epoch 20: precision 0.936074,roc 0.980181, loss 0.040131, acc 0, ECE 0 #edges 368460, #graphs 92\n",
      "92\n",
      "training epoch done in  time: 73.4155s\n",
      "92\n",
      "20\n",
      "0.040191683946999304 0.9282022471910111 loss acc\n",
      "20\n",
      "0.040191683946999304 0.9282022471910111 loss acc\n"
     ]
    },
    {
     "name": "stderr",
     "output_type": "stream",
     "text": [
      "INFO:root:Dev Epoch: 0021 dev phase of epoch 20: precision 0.933767,roc 0.979691, loss 0.040192, acc 0, ECE 0 #edges 80100, #graphs 20\n",
      "INFO:root:Test Epoch: 0021 test phase of epoch 20: precision 0.901041,roc 0.975846, loss 0.043316, acc 0, ECE 0 #edges 8010, #graphs 2\n",
      "INFO:root:Saved model in C:\\Users\\coleb\\OneDrive\\Desktop\\Fall 2021\\Neuro\\hyperBrain\\study\\meg\\ds\\L3\\HGCN_full_0.54c_id_dp\\1\n"
     ]
    },
    {
     "name": "stdout",
     "output_type": "stream",
     "text": [
      "2\n",
      "2.0 1.0 FERMI (non-adjusting) epoch: 21 LR:  [0.0189]\n",
      "tensor([0.5400]) MODEL C\n",
      "2\n",
      "reset\n",
      "92 train length\n",
      "23\n",
      "train phase of epoch 21: precision 0.936482,roc 0.979934, loss 0.040577, acc 0, ECE 0 #edges 92115, #graphs 23\n",
      "46\n",
      "train phase of epoch 21: precision 0.938260,roc 0.980865, loss 0.039733, acc 0, ECE 0 #edges 184230, #graphs 46\n",
      "69\n",
      "train phase of epoch 21: precision 0.936975,roc 0.980578, loss 0.039986, acc 0, ECE 0 #edges 276345, #graphs 69\n"
     ]
    },
    {
     "name": "stderr",
     "output_type": "stream",
     "text": [
      "INFO:root:Epoch: 0022 lr: 0.0189 train phase of epoch 21: precision 0.937139,roc 0.980674, loss 0.039729, acc 0, ECE 0 #edges 368460, #graphs 92 time: 69.3660s\n"
     ]
    },
    {
     "name": "stdout",
     "output_type": "stream",
     "text": [
      "92\n",
      "train phase of epoch 21: precision 0.937139,roc 0.980674, loss 0.039729, acc 0, ECE 0 #edges 368460, #graphs 92\n",
      "92\n",
      "training epoch done in  time: 69.3817s\n",
      "92\n",
      "20\n",
      "0.039427528271117854 0.9270786516853932 loss acc\n",
      "20\n",
      "0.039427528271117854 0.9270786516853932 loss acc\n"
     ]
    },
    {
     "name": "stderr",
     "output_type": "stream",
     "text": [
      "INFO:root:Dev Epoch: 0022 dev phase of epoch 21: precision 0.937461,roc 0.980537, loss 0.039428, acc 0, ECE 0 #edges 80100, #graphs 20\n",
      "INFO:root:Test Epoch: 0022 test phase of epoch 21: precision 0.903374,roc 0.976485, loss 0.042761, acc 0, ECE 0 #edges 8010, #graphs 2\n",
      "INFO:root:Saved model in C:\\Users\\coleb\\OneDrive\\Desktop\\Fall 2021\\Neuro\\hyperBrain\\study\\meg\\ds\\L3\\HGCN_full_0.54c_id_dp\\1\n"
     ]
    },
    {
     "name": "stdout",
     "output_type": "stream",
     "text": [
      "2\n",
      "2.0 1.0 FERMI (non-adjusting) epoch: 22 LR:  [0.0189]\n",
      "tensor([0.5400]) MODEL C\n",
      "2\n",
      "reset\n",
      "92 train length\n",
      "23\n",
      "train phase of epoch 22: precision 0.939127,roc 0.981222, loss 0.038630, acc 0, ECE 0 #edges 92115, #graphs 23\n",
      "46\n",
      "train phase of epoch 22: precision 0.939280,roc 0.981337, loss 0.038810, acc 0, ECE 0 #edges 184230, #graphs 46\n",
      "69\n",
      "train phase of epoch 22: precision 0.937981,roc 0.981160, loss 0.039379, acc 0, ECE 0 #edges 276345, #graphs 69\n"
     ]
    },
    {
     "name": "stderr",
     "output_type": "stream",
     "text": [
      "INFO:root:Epoch: 0023 lr: 0.0189 train phase of epoch 22: precision 0.939473,roc 0.981371, loss 0.039172, acc 0, ECE 0 #edges 368460, #graphs 92 time: 82.3917s\n"
     ]
    },
    {
     "name": "stdout",
     "output_type": "stream",
     "text": [
      "92\n",
      "train phase of epoch 22: precision 0.939473,roc 0.981371, loss 0.039172, acc 0, ECE 0 #edges 368460, #graphs 92\n",
      "92\n",
      "training epoch done in  time: 82.3927s\n",
      "92\n",
      "20\n",
      "0.03877548541669549 0.9308614232209738 loss acc\n",
      "20\n",
      "0.03877548541669549 0.9308614232209738 loss acc\n"
     ]
    },
    {
     "name": "stderr",
     "output_type": "stream",
     "text": [
      "INFO:root:Dev Epoch: 0023 dev phase of epoch 22: precision 0.940500,roc 0.981341, loss 0.038775, acc 0, ECE 0 #edges 80100, #graphs 20\n",
      "INFO:root:Test Epoch: 0023 test phase of epoch 22: precision 0.905079,roc 0.976936, loss 0.042273, acc 0, ECE 0 #edges 8010, #graphs 2\n",
      "INFO:root:Saved model in C:\\Users\\coleb\\OneDrive\\Desktop\\Fall 2021\\Neuro\\hyperBrain\\study\\meg\\ds\\L3\\HGCN_full_0.54c_id_dp\\1\n"
     ]
    },
    {
     "name": "stdout",
     "output_type": "stream",
     "text": [
      "2\n",
      "2.0 1.0 FERMI (non-adjusting) epoch: 23 LR:  [0.0189]\n",
      "tensor([0.5400]) MODEL C\n",
      "2\n",
      "reset\n",
      "92 train length\n",
      "23\n",
      "train phase of epoch 23: precision 0.944032,roc 0.981967, loss 0.039012, acc 0, ECE 0 #edges 92115, #graphs 23\n",
      "46\n",
      "train phase of epoch 23: precision 0.939909,roc 0.981397, loss 0.039285, acc 0, ECE 0 #edges 184230, #graphs 46\n",
      "69\n",
      "train phase of epoch 23: precision 0.940710,roc 0.981697, loss 0.038992, acc 0, ECE 0 #edges 276345, #graphs 69\n"
     ]
    },
    {
     "name": "stderr",
     "output_type": "stream",
     "text": [
      "INFO:root:Epoch: 0024 lr: 0.0189 train phase of epoch 23: precision 0.941116,roc 0.981925, loss 0.038747, acc 0, ECE 0 #edges 368460, #graphs 92 time: 100.8155s\n"
     ]
    },
    {
     "name": "stdout",
     "output_type": "stream",
     "text": [
      "92\n",
      "train phase of epoch 23: precision 0.941116,roc 0.981925, loss 0.038747, acc 0, ECE 0 #edges 368460, #graphs 92\n",
      "92\n",
      "training epoch done in  time: 100.8155s\n",
      "92\n",
      "20\n",
      "0.038452378196270114 0.9292134831460676 loss acc\n",
      "20\n",
      "0.038452378196270114 0.9292134831460676 loss acc\n"
     ]
    },
    {
     "name": "stderr",
     "output_type": "stream",
     "text": [
      "INFO:root:Dev Epoch: 0024 dev phase of epoch 23: precision 0.943120,roc 0.981972, loss 0.038452, acc 0, ECE 0 #edges 80100, #graphs 20\n",
      "INFO:root:Test Epoch: 0024 test phase of epoch 23: precision 0.910374,roc 0.977722, loss 0.041664, acc 0, ECE 0 #edges 8010, #graphs 2\n",
      "INFO:root:Saved model in C:\\Users\\coleb\\OneDrive\\Desktop\\Fall 2021\\Neuro\\hyperBrain\\study\\meg\\ds\\L3\\HGCN_full_0.54c_id_dp\\1\n"
     ]
    },
    {
     "name": "stdout",
     "output_type": "stream",
     "text": [
      "2\n",
      "2.0 1.0 FERMI (non-adjusting) epoch: 24 LR:  [0.0189]\n",
      "tensor([0.5400]) MODEL C\n",
      "2\n",
      "reset\n",
      "92 train length\n",
      "23\n",
      "train phase of epoch 24: precision 0.948251,roc 0.983516, loss 0.038127, acc 0, ECE 0 #edges 92115, #graphs 23\n",
      "46\n",
      "train phase of epoch 24: precision 0.944141,roc 0.982759, loss 0.038260, acc 0, ECE 0 #edges 184230, #graphs 46\n",
      "69\n",
      "train phase of epoch 24: precision 0.943177,roc 0.982383, loss 0.038704, acc 0, ECE 0 #edges 276345, #graphs 69\n"
     ]
    },
    {
     "name": "stderr",
     "output_type": "stream",
     "text": [
      "INFO:root:Epoch: 0025 lr: 0.0189 train phase of epoch 24: precision 0.942998,roc 0.982445, loss 0.038435, acc 0, ECE 0 #edges 368460, #graphs 92 time: 87.8740s\n"
     ]
    },
    {
     "name": "stdout",
     "output_type": "stream",
     "text": [
      "92\n",
      "train phase of epoch 24: precision 0.942998,roc 0.982445, loss 0.038435, acc 0, ECE 0 #edges 368460, #graphs 92\n",
      "92\n",
      "training epoch done in  time: 87.8740s\n",
      "92\n",
      "20\n",
      "0.03819693067585472 0.9306491885143571 loss acc\n",
      "20\n",
      "0.03819693067585472 0.9306491885143571 loss acc\n"
     ]
    },
    {
     "name": "stderr",
     "output_type": "stream",
     "text": [
      "INFO:root:Dev Epoch: 0025 dev phase of epoch 24: precision 0.944884,roc 0.982554, loss 0.038197, acc 0, ECE 0 #edges 80100, #graphs 20\n",
      "INFO:root:Test Epoch: 0025 test phase of epoch 24: precision 0.914553,roc 0.978321, loss 0.041523, acc 0, ECE 0 #edges 8010, #graphs 2\n",
      "INFO:root:Saved model in C:\\Users\\coleb\\OneDrive\\Desktop\\Fall 2021\\Neuro\\hyperBrain\\study\\meg\\ds\\L3\\HGCN_full_0.54c_id_dp\\1\n"
     ]
    },
    {
     "name": "stdout",
     "output_type": "stream",
     "text": [
      "2\n",
      "2.0 1.0 FERMI (non-adjusting) epoch: 25 LR:  [0.0189]\n",
      "tensor([0.5400]) MODEL C\n",
      "2\n",
      "reset\n",
      "92 train length\n",
      "23\n",
      "train phase of epoch 25: precision 0.943989,roc 0.983118, loss 0.037656, acc 0, ECE 0 #edges 92115, #graphs 23\n",
      "46\n",
      "train phase of epoch 25: precision 0.943607,roc 0.982970, loss 0.038005, acc 0, ECE 0 #edges 184230, #graphs 46\n",
      "69\n",
      "train phase of epoch 25: precision 0.944016,roc 0.983056, loss 0.037955, acc 0, ECE 0 #edges 276345, #graphs 69\n"
     ]
    },
    {
     "name": "stderr",
     "output_type": "stream",
     "text": [
      "INFO:root:Epoch: 0026 lr: 0.0189 train phase of epoch 25: precision 0.945284,roc 0.983088, loss 0.038044, acc 0, ECE 0 #edges 368460, #graphs 92 time: 93.6753s\n"
     ]
    },
    {
     "name": "stdout",
     "output_type": "stream",
     "text": [
      "92\n",
      "train phase of epoch 25: precision 0.945284,roc 0.983088, loss 0.038044, acc 0, ECE 0 #edges 368460, #graphs 92\n",
      "92\n",
      "training epoch done in  time: 93.6753s\n",
      "92\n",
      "20\n",
      "0.03767905102167225 0.9292759051186017 loss acc\n",
      "20\n",
      "0.03767905102167225 0.9292759051186017 loss acc\n"
     ]
    },
    {
     "name": "stderr",
     "output_type": "stream",
     "text": [
      "INFO:root:Dev Epoch: 0026 dev phase of epoch 25: precision 0.948099,roc 0.983450, loss 0.037679, acc 0, ECE 0 #edges 80100, #graphs 20\n",
      "INFO:root:Test Epoch: 0026 test phase of epoch 25: precision 0.922299,roc 0.979548, loss 0.041185, acc 0, ECE 0 #edges 8010, #graphs 2\n",
      "INFO:root:Saved model in C:\\Users\\coleb\\OneDrive\\Desktop\\Fall 2021\\Neuro\\hyperBrain\\study\\meg\\ds\\L3\\HGCN_full_0.54c_id_dp\\1\n"
     ]
    },
    {
     "name": "stdout",
     "output_type": "stream",
     "text": [
      "2\n",
      "2.0 1.0 FERMI (non-adjusting) epoch: 26 LR:  [0.0189]\n",
      "tensor([0.5400]) MODEL C\n",
      "2\n",
      "reset\n",
      "92 train length\n",
      "23\n",
      "train phase of epoch 26: precision 0.949812,roc 0.984240, loss 0.037356, acc 0, ECE 0 #edges 92115, #graphs 23\n",
      "46\n",
      "train phase of epoch 26: precision 0.947924,roc 0.983732, loss 0.037595, acc 0, ECE 0 #edges 184230, #graphs 46\n",
      "69\n",
      "train phase of epoch 26: precision 0.949235,roc 0.984474, loss 0.037264, acc 0, ECE 0 #edges 276345, #graphs 69\n"
     ]
    },
    {
     "name": "stderr",
     "output_type": "stream",
     "text": [
      "INFO:root:Epoch: 0027 lr: 0.0189 train phase of epoch 26: precision 0.949595,roc 0.984760, loss 0.037124, acc 0, ECE 0 #edges 368460, #graphs 92 time: 89.9815s\n"
     ]
    },
    {
     "name": "stdout",
     "output_type": "stream",
     "text": [
      "92\n",
      "train phase of epoch 26: precision 0.949595,roc 0.984760, loss 0.037124, acc 0, ECE 0 #edges 368460, #graphs 92\n",
      "92\n",
      "training epoch done in  time: 89.9815s\n",
      "92\n",
      "20\n",
      "0.035943384778235124 0.9325468164794009 loss acc\n",
      "20\n",
      "0.035943384778235124 0.9325468164794009 loss acc\n"
     ]
    },
    {
     "name": "stderr",
     "output_type": "stream",
     "text": [
      "INFO:root:Dev Epoch: 0027 dev phase of epoch 26: precision 0.954303,roc 0.986010, loss 0.035943, acc 0, ECE 0 #edges 80100, #graphs 20\n",
      "INFO:root:Test Epoch: 0027 test phase of epoch 26: precision 0.935788,roc 0.983389, loss 0.038219, acc 0, ECE 0 #edges 8010, #graphs 2\n",
      "INFO:root:Saved model in C:\\Users\\coleb\\OneDrive\\Desktop\\Fall 2021\\Neuro\\hyperBrain\\study\\meg\\ds\\L3\\HGCN_full_0.54c_id_dp\\1\n"
     ]
    },
    {
     "name": "stdout",
     "output_type": "stream",
     "text": [
      "2\n",
      "2.0 1.0 FERMI (non-adjusting) epoch: 27 LR:  [0.0189]\n",
      "tensor([0.5400]) MODEL C\n",
      "2\n",
      "reset\n",
      "92 train length\n",
      "23\n",
      "train phase of epoch 27: precision 0.951263,roc 0.985896, loss 0.037020, acc 0, ECE 0 #edges 92115, #graphs 23\n",
      "46\n",
      "train phase of epoch 27: precision 0.952510,roc 0.986238, loss 0.036033, acc 0, ECE 0 #edges 184230, #graphs 46\n",
      "69\n",
      "train phase of epoch 27: precision 0.953808,roc 0.986577, loss 0.035375, acc 0, ECE 0 #edges 276345, #graphs 69\n"
     ]
    },
    {
     "name": "stderr",
     "output_type": "stream",
     "text": [
      "INFO:root:Epoch: 0028 lr: 0.0189 train phase of epoch 27: precision 0.953734,roc 0.986500, loss 0.035588, acc 0, ECE 0 #edges 368460, #graphs 92 time: 83.9909s\n"
     ]
    },
    {
     "name": "stdout",
     "output_type": "stream",
     "text": [
      "92\n",
      "train phase of epoch 27: precision 0.953734,roc 0.986500, loss 0.035588, acc 0, ECE 0 #edges 368460, #graphs 92\n",
      "92\n",
      "training epoch done in  time: 83.9909s\n",
      "92\n",
      "20\n",
      "0.03469851878917152 0.9345318352059925 loss acc\n",
      "20\n",
      "0.03469851878917152 0.9345318352059925 loss acc\n"
     ]
    },
    {
     "name": "stderr",
     "output_type": "stream",
     "text": [
      "INFO:root:Dev Epoch: 0028 dev phase of epoch 27: precision 0.957121,roc 0.987229, loss 0.034699, acc 0, ECE 0 #edges 80100, #graphs 20\n",
      "INFO:root:Test Epoch: 0028 test phase of epoch 27: precision 0.939028,roc 0.985210, loss 0.036060, acc 0, ECE 0 #edges 8010, #graphs 2\n",
      "INFO:root:Saved model in C:\\Users\\coleb\\OneDrive\\Desktop\\Fall 2021\\Neuro\\hyperBrain\\study\\meg\\ds\\L3\\HGCN_full_0.54c_id_dp\\1\n"
     ]
    },
    {
     "name": "stdout",
     "output_type": "stream",
     "text": [
      "2\n",
      "2.0 1.0 FERMI (non-adjusting) epoch: 28 LR:  [0.0189]\n",
      "tensor([0.5400]) MODEL C\n",
      "2\n",
      "reset\n",
      "92 train length\n",
      "23\n",
      "train phase of epoch 28: precision 0.956799,roc 0.987687, loss 0.034776, acc 0, ECE 0 #edges 92115, #graphs 23\n",
      "46\n",
      "train phase of epoch 28: precision 0.955819,roc 0.987360, loss 0.034804, acc 0, ECE 0 #edges 184230, #graphs 46\n",
      "69\n",
      "train phase of epoch 28: precision 0.954694,roc 0.986971, loss 0.035180, acc 0, ECE 0 #edges 276345, #graphs 69\n"
     ]
    },
    {
     "name": "stderr",
     "output_type": "stream",
     "text": [
      "INFO:root:Epoch: 0029 lr: 0.0189 train phase of epoch 28: precision 0.955197,roc 0.987233, loss 0.034827, acc 0, ECE 0 #edges 368460, #graphs 92 time: 84.0038s\n"
     ]
    },
    {
     "name": "stdout",
     "output_type": "stream",
     "text": [
      "92\n",
      "train phase of epoch 28: precision 0.955197,roc 0.987233, loss 0.034827, acc 0, ECE 0 #edges 368460, #graphs 92\n",
      "92\n",
      "training epoch done in  time: 84.0038s\n",
      "92\n",
      "20\n",
      "0.03405035961297082 0.9372534332084894 loss acc\n",
      "20\n",
      "0.03405035961297082 0.9372534332084894 loss acc\n"
     ]
    },
    {
     "name": "stderr",
     "output_type": "stream",
     "text": [
      "INFO:root:Dev Epoch: 0029 dev phase of epoch 28: precision 0.957984,roc 0.987824, loss 0.034050, acc 0, ECE 0 #edges 80100, #graphs 20\n",
      "INFO:root:Test Epoch: 0029 test phase of epoch 28: precision 0.939708,roc 0.986134, loss 0.035024, acc 0, ECE 0 #edges 8010, #graphs 2\n",
      "INFO:root:Saved model in C:\\Users\\coleb\\OneDrive\\Desktop\\Fall 2021\\Neuro\\hyperBrain\\study\\meg\\ds\\L3\\HGCN_full_0.54c_id_dp\\1\n"
     ]
    },
    {
     "name": "stdout",
     "output_type": "stream",
     "text": [
      "2\n",
      "2.0 1.0 FERMI (non-adjusting) epoch: 29 LR:  [0.0189]\n",
      "tensor([0.5400]) MODEL C\n",
      "2\n",
      "reset\n",
      "92 train length\n",
      "23\n",
      "train phase of epoch 29: precision 0.957271,roc 0.987729, loss 0.034714, acc 0, ECE 0 #edges 92115, #graphs 23\n"
     ]
    }
   ],
   "source": [
    "# the total number of validation runs that all should have\n",
    "NUM_VALIDATIONS=5\n",
    "criteria={'CogTr':1}\n",
    "set_args={'dataset':'meg',\n",
    "          'task':'ds',\n",
    "          'criteria_dict':criteria}\n",
    "criteria=criteria\n",
    "output_dims=[3]\n",
    "arch_types_to_use=['full']\n",
    "input_types_to_use=['id','plv']\n",
    "curve_types_to_use=['setc','findc']\n",
    "for d in output_dims:\n",
    "    for i in input_types_to_use:\n",
    "        inp_dict=input_types[i]\n",
    "        for c_type in curve_types_to_use:\n",
    "#             print(c,'C')\n",
    "#             print(c_dict,'C DICT?')\n",
    "            c_dict=curve_types[c_type]\n",
    "#             print(c_dict,'')\n",
    "            c_val=c_dict['c']\n",
    "            print(c_val,'C VAL')\n",
    "            if c_val=='set':\n",
    "                c_set=BAND_TO_OPT_C['alpha']\n",
    "                c_dict['c']=c_set\n",
    "                \n",
    "            set_args = copy.deepcopy(set_args)\n",
    "            set_args['output_dim']=d\n",
    "            set_args.update(c_dict)\n",
    "            set_args.update(inp_dict)\n",
    "            args = parse_default_args(set_args)\n",
    "#             print(set_args['c'],set_args['use_identity'],set_args['use_plv'])\n",
    "            print('compase')\n",
    "            print('C: {}, ID: {}, PLV {}'.format(set_args['c'],set_args['use_identity'],set_args['use_plv']))\n",
    "            print('C: {}, ID: {}, PLV {}'.format(args.c,args.use_identity,args.use_plv))\n",
    "#             akak\n",
    "            complete_study_one_arg(args,NUM_VALIDATIONS)\n",
    "            \n",
    "            \n",
    "\n",
    "# # c=[1,None,.54]\n",
    "# args = parse_default_args(set_args) ### still need to call this with args for dataset, possibly others\n",
    "# complete_study_one_arg(args,NUM_VALIDATIONS)\n",
    "# # print(args)\n",
    "# # change_task(args,)\n",
    "# # \n",
    "# # setattr(args,'criteria_dict',criteria)"
   ]
  },
  {
   "cell_type": "code",
   "execution_count": null,
   "id": "2382116b",
   "metadata": {},
   "outputs": [],
   "source": []
  },
  {
   "cell_type": "code",
   "execution_count": null,
   "id": "7713a7d8",
   "metadata": {},
   "outputs": [],
   "source": []
  },
  {
   "cell_type": "code",
   "execution_count": null,
   "id": "4bdbd527",
   "metadata": {},
   "outputs": [],
   "source": []
  },
  {
   "cell_type": "code",
   "execution_count": null,
   "id": "57fcf7be",
   "metadata": {},
   "outputs": [],
   "source": []
  },
  {
   "cell_type": "code",
   "execution_count": null,
   "id": "f2a8d0f9",
   "metadata": {},
   "outputs": [],
   "source": []
  }
 ],
 "metadata": {
  "kernelspec": {
   "display_name": "Python 3 (ipykernel)",
   "language": "python",
   "name": "python3"
  },
  "language_info": {
   "codemirror_mode": {
    "name": "ipython",
    "version": 3
   },
   "file_extension": ".py",
   "mimetype": "text/x-python",
   "name": "python",
   "nbconvert_exporter": "python",
   "pygments_lexer": "ipython3",
   "version": "3.7.12"
  }
 },
 "nbformat": 4,
 "nbformat_minor": 5
}
