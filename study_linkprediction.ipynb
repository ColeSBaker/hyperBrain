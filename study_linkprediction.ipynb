{
 "cells": [
  {
   "cell_type": "code",
   "execution_count": 14,
   "id": "6ad3f93a",
   "metadata": {},
   "outputs": [
    {
     "name": "stdout",
     "output_type": "stream",
     "text": [
      "The autoreload extension is already loaded. To reload it, use:\n",
      "  %reload_ext autoreload\n"
     ]
    }
   ],
   "source": [
    "\"\"\"\n",
    "This script can be used for recreating the link prediction results for different parameter settings\n",
    "and dimensionality\n",
    "\"\"\"\n",
    "import argparse\n",
    "from datetime import datetime\n",
    "import random\n",
    "import numpy as np\n",
    "import os\n",
    "import time\n",
    "from utils import *\n",
    "from params import *\n",
    "import sys\n",
    "from datetime import date\n",
    "import pickle\n",
    "import train_inductive\n",
    "from trials.hyperparam_config import config\n",
    "import pickle\n",
    "import optuna\n",
    "import copy\n",
    "from utils.train_utils import get_dir_name, format_metrics\n",
    "from main import parse_default_args\n",
    "from hyperparam import *\n",
    "%load_ext autoreload\n",
    "%autoreload 2\n",
    "%reload_ext autoreload"
   ]
  },
  {
   "cell_type": "code",
   "execution_count": null,
   "id": "2502fffb",
   "metadata": {},
   "outputs": [],
   "source": []
  },
  {
   "cell_type": "code",
   "execution_count": 20,
   "id": "72779412",
   "metadata": {},
   "outputs": [
    {
     "name": "stdout",
     "output_type": "stream",
     "text": [
      "{'task': 'lp', 'dataset': 'meg', 'epochs': 10, 'patience': 10, 'pruner': <optuna.pruners._nop.NopPruner object at 0x00000255433B8CC8>, 'sampler': <optuna.samplers._tpe.sampler.TPESampler object at 0x00000255433B8D08>} SET PARAMS\n",
      "{'task': 'lp', 'dataset': 'meg', 'epochs': 10, 'patience': 10, 'pruner': <optuna.pruners._nop.NopPruner object at 0x00000255433B8CC8>, 'sampler': <optuna.samplers._tpe.sampler.TPESampler object at 0x00000255433B8D08>} should have a few\n",
      "match new to old\n",
      "task lp\n",
      "lp\n",
      "match new to old\n",
      "dataset meg\n",
      "meg\n",
      "no match\n",
      "10\n",
      "no match\n",
      "10\n",
      "no match\n",
      "<optuna.pruners._nop.NopPruner object at 0x00000255433B8CC8>\n",
      "no match\n",
      "TPESampler\n",
      "lp should match manual\n",
      "{'task': 'lp', 'dataset': 'meg', 'epochs': 10, 'patience': 10, 'pruner': <optuna.pruners._nop.NopPruner object at 0x00000255433B8CC8>, 'sampler': <optuna.samplers._tpe.sampler.TPESampler object at 0x00000255433B8D08>} should have a few\n",
      "match new to old\n",
      "task lp\n",
      "lp\n",
      "match new to old\n",
      "dataset meg\n",
      "meg\n",
      "match new to old\n",
      "epochs 10\n",
      "10\n",
      "match new to old\n",
      "patience 10\n",
      "10\n",
      "no match\n",
      "<optuna.pruners._nop.NopPruner object at 0x00000255433B8CC8>\n",
      "no match\n",
      "TPESampler\n",
      "lp 3\n"
     ]
    }
   ],
   "source": [
    "# the total number of validation runs that all should have\n",
    "NUM_VALIDATIONS=5\n",
    "\n",
    "tunable_param_fn = config['tunable_param_fn']\n",
    "\n",
    "set_params = config['set_params']\n",
    "# print()\n",
    "print(set_params,'SET PARAMS')\n",
    "args = parse_default_args(set_params) ### still need to call this with args for dataset, possibly others\n",
    "\n"
   ]
  },
  {
   "cell_type": "code",
   "execution_count": 24,
   "id": "2382116b",
   "metadata": {},
   "outputs": [
    {
     "name": "stdout",
     "output_type": "stream",
     "text": [
      "C:\\Users\\coleb\\OneDrive\\Desktop\\Fall 2021\\Neuro\\hyperBrain\\study\\meg\\L3\\HGCN_novirt_0.54c_id FULL DIR\n",
      "['0', '1']\n",
      "2\n"
     ]
    }
   ],
   "source": [
    "setattr(args,'study_dir',create_study_output_dir(args))\n",
    "assert os.path.exists(args.study_dir)\n",
    "path=args.study_dir\n",
    "subdirs=[ name for name in os.listdir(path) if os.path.isdir(os.path.join(path, name)) ]\n",
    "\n",
    "\n",
    "while len(subdirs)<NUM_VALIDATIONS:\n",
    "    \n",
    "    subdirs=[ name for name in os.listdir(path) if os.path.isdir(os.path.join(path, name)) ]\n",
    "\n",
    "\n",
    "# # print(args,'arguments')\n",
    "# dd\n",
    "\n",
    "# args.pruner = set_params['pruner']\n",
    "# # direction = \"minimize\" if args.is_regression else \"maximize\"  ## figure this ot\n",
    "# # direction = \"minimize\" if args.is_regression else \"maximize\"\n",
    "# direction= \"minimize\"\n",
    "# objective = create_objective_fun(args,tunable_param_fn)\n",
    "# print(args.task)\n",
    "\n",
    "# print(args.fermi_freq,'ARG FREQ')\n",
    "study = optuna.create_study(direction=direction, sampler=set_params['sampler'],pruner=set_params['pruner'])  ### adjust based on args\n",
    "#     study.optimize(objective, n_trials=5)\n",
    "\n",
    "#     save_study(args,study)"
   ]
  },
  {
   "cell_type": "code",
   "execution_count": null,
   "id": "4bdbd527",
   "metadata": {},
   "outputs": [],
   "source": []
  }
 ],
 "metadata": {
  "kernelspec": {
   "display_name": "Python 3 (ipykernel)",
   "language": "python",
   "name": "python3"
  },
  "language_info": {
   "codemirror_mode": {
    "name": "ipython",
    "version": 3
   },
   "file_extension": ".py",
   "mimetype": "text/x-python",
   "name": "python",
   "nbconvert_exporter": "python",
   "pygments_lexer": "ipython3",
   "version": "3.7.12"
  }
 },
 "nbformat": 4,
 "nbformat_minor": 5
}
