{
 "cells": [
  {
   "cell_type": "code",
   "execution_count": 4,
   "id": "e18afc47",
   "metadata": {},
   "outputs": [],
   "source": [
    "import os\n",
    "import pandas as pd\n",
    "import numpy as np\n",
    "import torch\n",
    "from utils.dataloader_utils import load_data_graphalg,load_dataset,load_meg_averages\n",
    "from matplotlib import pyplot as plt\n",
    "import json\n",
    "from utils.model_analysis_utils import load_model"
   ]
  },
  {
   "cell_type": "code",
   "execution_count": 12,
   "id": "f1a04d75",
   "metadata": {},
   "outputs": [
    {
     "name": "stdout",
     "output_type": "stream",
     "text": [
      "Namespace(act='selu', adj_threshold=0.329, all_file='C:\\\\Users\\\\coleb\\\\OneDrive\\\\Desktop\\\\Fall 2021\\\\Neuro\\\\hyperBrain\\\\data/MEG\\\\meg_all_MEG_0.329.json', alpha=0.2, band='alpha', batch_size=8, bias=1, c=0.54, criteria_dict={}, cuda=0, currently_training=False, data_root='C:\\\\Users\\\\coleb\\\\OneDrive\\\\Desktop\\\\Fall 2021\\\\Neuro\\\\hyperBrain\\\\data/MEG', dataset='meg', dev_file='C:\\\\Users\\\\coleb\\\\OneDrive\\\\Desktop\\\\Fall 2021\\\\Neuro\\\\hyperBrain\\\\data/MEG\\\\meg_valid_MEG_0.329.json', device='cpu', dim=6, distributed_method='None', double_precision=1, dropout=0, edge_type=-1, epochs=100, eval_freq=2, feat_dim=91, fermi_freq=-1, fermi_use=0, frech_B_dict={}, frech_B_list=[], frechet_B=91, gamma=0.9, grad_clip=100, hyp_act=False, idxs_dict={'train': [0, 1, 2, 3, 6, 7, 12, 13, 18, 19, 22, 23, 24, 25, 28, 29, 30, 31, 32, 33, 34, 35, 36, 37, 42, 43, 46, 47, 50, 51, 54, 55, 62, 63, 66, 67, 68, 69, 72, 73, 74, 75, 76, 77, 78, 79, 80, 81, 82, 83, 94, 95, 96, 97, 98, 99, 102, 103, 104, 105, 106, 107, 110, 111, 122, 123, 124, 125, 134, 135, 146, 147, 150, 151, 156, 157, 158, 159, 160, 161, 164, 165, 166, 167, 172, 173, 174, 175, 178, 179], 'valid': [118, 119, 138, 139, 142, 143, 26, 27, 100, 101, 4, 5, 136, 137, 140, 141, 84, 85, 120, 121, 86, 87, 176, 177, 114, 115, 60, 61, 14, 15, 92, 93, 56, 57, 152, 153, 90, 91, 108, 109, 16, 17, 144, 145, 38, 39, 148, 149, 20, 21, 162, 163, 52, 53], 'test': [8, 9, 48, 49, 10, 11, 170, 171, 154, 155, 88, 89, 116, 117, 112, 113, 126, 127, 40, 41, 128, 129, 64, 65, 168, 169, 132, 133, 130, 131, 44, 45, 58, 59, 70, 71], 'all': [0, 1, 2, 3, 4, 5, 6, 7, 8, 9, 10, 11, 12, 13, 14, 15, 16, 17, 18, 19, 20, 21, 22, 23, 24, 25, 26, 27, 28, 29, 30, 31, 32, 33, 34, 35, 36, 37, 38, 39, 40, 41, 42, 43, 44, 45, 46, 47, 48, 49, 50, 51, 52, 53, 54, 55, 56, 57, 58, 59, 60, 61, 62, 63, 64, 65, 66, 67, 68, 69, 70, 71, 72, 73, 74, 75, 76, 77, 78, 79, 80, 81, 82, 83, 84, 85, 86, 87, 88, 89, 90, 91, 92, 93, 94, 95, 96, 97, 98, 99, 100, 101, 102, 103, 104, 105, 106, 107, 108, 109, 110, 111, 112, 113, 114, 115, 116, 117, 118, 119, 120, 121, 122, 123, 124, 125, 126, 127, 128, 129, 130, 131, 132, 133, 134, 135, 136, 137, 138, 139, 140, 141, 142, 143, 144, 145, 146, 147, 148, 149, 150, 151, 152, 153, 154, 155, 156, 157, 158, 159, 160, 161, 162, 163, 164, 165, 166, 167, 168, 169, 170, 171, 172, 173, 174, 175, 176, 177, 178, 179]}, indx_file='C:\\\\Users\\\\coleb\\\\OneDrive\\\\Desktop\\\\Fall 2021\\\\Neuro\\\\hyperBrain\\\\data/MEG\\\\meg_MEG_0.329_latestindx.json', is_inductive=1, is_regression=0, local_agg=0, local_rank=None, log_freq=5, lr=0.021, lr_reduce_freq=20, manifold='PoincareBall', max_per_epoch=-1, metric='plv', min_epochs=2, model='HGCN', momentum=0.999, n_classes=2, n_heads=2, name='2023_03_03_01_09_26_185450', normalization=0, normalize_adj=1, normalize_feats=1, normalize_id_treatment='raw', num_feature=91, num_layers=2, optimizer='RiemannianAdam', output_act=None, output_agg=True, output_dim=3, patience=6, pos_weight=0, pretrained_embeddings=None, print_epoch=True, prop_idx=0, r=2, raw_atlas_file='C:\\\\Users\\\\coleb\\\\OneDrive\\\\Desktop\\\\Fall 2021\\\\Neuro\\\\hyperBrain\\\\data/MEG/AALtemplate_balanced.csv', raw_clinical_file='C:\\\\Users\\\\coleb\\\\OneDrive\\\\Desktop\\\\Fall 2021\\\\Neuro\\\\hyperBrain\\\\data/MEG/MEG.clinical.csv', raw_scan_file='C:\\\\Users\\\\coleb\\\\OneDrive\\\\Desktop\\\\Fall 2021\\\\Neuro\\\\hyperBrain\\\\data/MEG/MEG.ROIs.npy', refresh_data=1, save=1, save_dir='C:\\\\Users\\\\coleb\\\\OneDrive\\\\Desktop\\\\Fall 2021\\\\Neuro\\\\hyperBrain\\\\study\\\\meg\\\\lp\\\\all_pats\\\\L3\\\\HGCN_full_0.54c_plv_dp\\\\e100_p6_lr0.021_vpct0.3_tpct0.2_strchinp95_strchloss95_b8\\\\1', save_id='', save_model=False, seed=1234, split_seed=1234, stretch_loss=95, stretch_pct=95, study_dir='C:\\\\Users\\\\coleb\\\\OneDrive\\\\Desktop\\\\Fall 2021\\\\Neuro\\\\hyperBrain\\\\study\\\\meg\\\\lp\\\\all_pats\\\\L3\\\\HGCN_full_0.54c_plv_dp\\\\e100_p6_lr0.021_vpct0.3_tpct0.2_strchinp95_strchloss95_b8', sweep_c=0, t=1, task='lp', test_file='C:\\\\Users\\\\coleb\\\\OneDrive\\\\Desktop\\\\Fall 2021\\\\Neuro\\\\hyperBrain\\\\data/MEG\\\\meg_test_MEG_0.329.json', test_prop=0.2, train_file='C:\\\\Users\\\\coleb\\\\OneDrive\\\\Desktop\\\\Fall 2021\\\\Neuro\\\\hyperBrain\\\\data/MEG\\\\meg_train_MEG_0.329.json', train_noise_level=0.01, train_noise_num=0, train_noise_prob=0.5, train_only=0, use_att=0, use_batch=0, use_beta=0, use_ciplv=0, use_coords=0, use_degree=0, use_feats=1, use_frechet_agg=1, use_identity=0, use_norm=0, use_plv=1, use_pretrained=0, use_region=0, use_val=1, use_virtual=1, use_volume=0, use_weight=1, use_weighted_loss=1, val_prop=0.3, val_sub=0, weight_decay=0.0)\n"
     ]
    }
   ],
   "source": [
    "model_dir=r'C:\\Users\\coleb\\OneDrive\\Desktop\\Fall 2021\\Neuro\\hyperBrain\\study\\meg\\lp\\test\\pats_CogTr1\\L3\\HGCN_full_findc_id_dp\\e40_p6_lr0.021_val_excl_group_strchinp95_strchloss95_b8_lmse_pneq\\0'\n",
    "model_dir=r'C:\\Users\\coleb\\OneDrive\\Desktop\\Fall 2021\\Neuro\\hyperBrain\\study\\meg\\lp\\all_pats\\L3\\HGCN_full_0.54c_plv_dp\\e100_p6_lr0.021_vpct0.3_tpct0.2_strchinp95_strchloss95_b8\\1'\n",
    "model = load_model(model_dir)"
   ]
  },
  {
   "cell_type": "code",
   "execution_count": 13,
   "id": "a5b057f1",
   "metadata": {},
   "outputs": [
    {
     "name": "stdout",
     "output_type": "stream",
     "text": [
      "HyperbolicGraphConvolution(\n",
      "  (linear): HypLinear(in_features=91, out_features=6, c=tensor([0.5400], dtype=torch.float64))\n",
      "  (agg): HypAgg(c=tensor([0.5400], dtype=torch.float64))\n",
      "  (hyp_act): HypAct(c_in=tensor([0.5400], dtype=torch.float64), c_out=tensor([0.5400], dtype=torch.float64))\n",
      ")\n",
      "HyperbolicGraphConvolution(\n",
      "  (linear): HypLinear(in_features=6, out_features=3, c=tensor([0.5400], dtype=torch.float64))\n",
      "  (agg): HypAgg(c=tensor([0.5400], dtype=torch.float64))\n",
      ")\n",
      "tensor([0.5400], dtype=torch.float64)\n"
     ]
    }
   ],
   "source": [
    "for layer in model.encoder.layers:\n",
    "    print(layer)\n",
    "print(model.c)"
   ]
  },
  {
   "cell_type": "code",
   "execution_count": null,
   "id": "4526303d",
   "metadata": {},
   "outputs": [],
   "source": []
  }
 ],
 "metadata": {
  "kernelspec": {
   "display_name": "Python 3 (ipykernel)",
   "language": "python",
   "name": "python3"
  },
  "language_info": {
   "codemirror_mode": {
    "name": "ipython",
    "version": 3
   },
   "file_extension": ".py",
   "mimetype": "text/x-python",
   "name": "python",
   "nbconvert_exporter": "python",
   "pygments_lexer": "ipython3",
   "version": "3.7.12"
  }
 },
 "nbformat": 4,
 "nbformat_minor": 5
}
